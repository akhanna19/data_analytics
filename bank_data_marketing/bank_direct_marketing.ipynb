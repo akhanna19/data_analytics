{
 "cells": [
  {
   "cell_type": "markdown",
   "id": "ae709273-fc89-4372-980f-96931beb5310",
   "metadata": {},
   "source": [
    "### <b>ATTRIBUTE INFORMATION</b>\n",
    "\n",
    "<i><b>INPUT VARIABLES:</b><i>\n",
    "    \n",
    "<u>Bank Client Data:</u>\n",
    "    \n",
    "1. <b>Age</b>: Age of the client contacted in the direct marketing campaign.\n",
    "2. <b>Job</b>: Type of job held by the client.\n",
    "3. <b>Marital</b>: Marital status of the client.\n",
    "4. <b>Education</b>: Educational qualification of the client.\n",
    "5. <b>Default</b>: Has the client defaulted on his or her credit borrowing?\n",
    "6. <b>Balance</b>: Average yearly balance in client's bank account, in euros.\n",
    "7. <b>Housing</b>: Does the client have housing loan?\n",
    "8. <b>Loan</b>: Does the client have personal loan?\n",
    "\n",
    "<u>Data about contacts made during the current campaign:</u>\n",
    "    \n",
    "9. <b>Contact</b>: Type of communication used to contact the client.\n",
    "10. <b>Day</b>: The date of the day when the client was contacted.\n",
    "11. <b>Month</b>: The month when the client was contacted.\n",
    "12. <b>Duration</b>: The call duration of the contact made to the client (in seconds).\n",
    "13. <b>Campaign</b>: Number of contacts made with the client during this campaign.\n",
    "14. <b>Pdays</b>: Number of days that passed by after the client was last contacted from a previous campaign.\n",
    "15. <b>Previous</b>: Number of contacts performed for the given client before this campaign.\n",
    "16. <b>Poutcome</b>: Outcome of the previous marketing campaign.\n",
    "\n",
    "<i><b>TARGET VARIABLE:</b><i>\n",
    "    \n",
    "17. <b>Y</b>: Has the client subscribed a term deposit?"
   ]
  },
  {
   "cell_type": "markdown",
   "id": "ce441007-2d0d-4529-9969-3d1c64dc9b26",
   "metadata": {},
   "source": [
    "### <b>IMPORT LIBRARIES</b>"
   ]
  },
  {
   "cell_type": "code",
   "execution_count": 138,
   "id": "ccb9a610-d30b-47d3-8a72-360bd6ad0471",
   "metadata": {},
   "outputs": [],
   "source": [
    "# Data Wrangling Libraries\n",
    "import pandas as pd\n",
    "import numpy as np\n",
    "\n",
    "# Data Visualization Libraries\n",
    "import seaborn as sns\n",
    "from matplotlib import pyplot as plt\n",
    "\n",
    "# Data Preprocessing Libraries\n",
    "from sklearn.preprocessing import LabelEncoder\n",
    "from sklearn.preprocessing import OneHotEncoder\n",
    "from sklearn.preprocessing import StandardScaler\n",
    "from sklearn.model_selection import train_test_split\n",
    "\n",
    "# RandomOversampler Library to handle imbalanced dataset\n",
    "from imblearn.over_sampling import RandomOverSampler\n",
    "\n",
    "# Feature Selection Library\n",
    "from sklearn.feature_selection import chi2\n",
    "\n",
    "# Classifier Algorithms Libraries\n",
    "from sklearn.naive_bayes import GaussianNB\n",
    "from sklearn.linear_model import LogisticRegression\n",
    "from sklearn.neighbors import KNeighborsClassifier\n",
    "from sklearn.ensemble import RandomForestClassifier\n",
    "import xgboost as xgb\n",
    "\n",
    "# Machine Learning Metrics Libraries\n",
    "from sklearn.metrics import classification_report\n",
    "from sklearn.metrics import roc_curve, auc\n",
    "\n",
    "%matplotlib inline"
   ]
  },
  {
   "cell_type": "markdown",
   "id": "02dfc9af-56ae-4791-967a-4022ebb3c8ad",
   "metadata": {},
   "source": [
    "### <b>READ & EXPLORE DATA</b>"
   ]
  },
  {
   "cell_type": "markdown",
   "id": "d77e6f37-5115-4d70-9ea7-035c2d260d48",
   "metadata": {},
   "source": [
    "#### 1) Read the data into a Pandas DataFrame"
   ]
  },
  {
   "cell_type": "code",
   "execution_count": 2,
   "id": "c44b1418-07ef-4dad-8c9a-a576f74d3ce2",
   "metadata": {},
   "outputs": [],
   "source": [
    "bank_data = pd.read_csv(\"bank_data.csv\", sep=\";\")"
   ]
  },
  {
   "cell_type": "markdown",
   "id": "bf110fd7-808d-46aa-9ed0-c64775aa3781",
   "metadata": {},
   "source": [
    "#### 2) Get an initial glance at the dataset"
   ]
  },
  {
   "cell_type": "code",
   "execution_count": 3,
   "id": "a2374f7a-55a8-4b47-924d-fbf9399822c8",
   "metadata": {},
   "outputs": [
    {
     "data": {
      "text/html": [
       "<div>\n",
       "<style scoped>\n",
       "    .dataframe tbody tr th:only-of-type {\n",
       "        vertical-align: middle;\n",
       "    }\n",
       "\n",
       "    .dataframe tbody tr th {\n",
       "        vertical-align: top;\n",
       "    }\n",
       "\n",
       "    .dataframe thead th {\n",
       "        text-align: right;\n",
       "    }\n",
       "</style>\n",
       "<table border=\"1\" class=\"dataframe\">\n",
       "  <thead>\n",
       "    <tr style=\"text-align: right;\">\n",
       "      <th></th>\n",
       "      <th>age</th>\n",
       "      <th>job</th>\n",
       "      <th>marital</th>\n",
       "      <th>education</th>\n",
       "      <th>default</th>\n",
       "      <th>balance</th>\n",
       "      <th>housing</th>\n",
       "      <th>loan</th>\n",
       "      <th>contact</th>\n",
       "      <th>day</th>\n",
       "      <th>month</th>\n",
       "      <th>duration</th>\n",
       "      <th>campaign</th>\n",
       "      <th>pdays</th>\n",
       "      <th>previous</th>\n",
       "      <th>poutcome</th>\n",
       "      <th>y</th>\n",
       "    </tr>\n",
       "  </thead>\n",
       "  <tbody>\n",
       "    <tr>\n",
       "      <th>0</th>\n",
       "      <td>58</td>\n",
       "      <td>management</td>\n",
       "      <td>married</td>\n",
       "      <td>tertiary</td>\n",
       "      <td>no</td>\n",
       "      <td>2143</td>\n",
       "      <td>yes</td>\n",
       "      <td>no</td>\n",
       "      <td>unknown</td>\n",
       "      <td>5</td>\n",
       "      <td>may</td>\n",
       "      <td>261</td>\n",
       "      <td>1</td>\n",
       "      <td>-1</td>\n",
       "      <td>0</td>\n",
       "      <td>unknown</td>\n",
       "      <td>no</td>\n",
       "    </tr>\n",
       "    <tr>\n",
       "      <th>1</th>\n",
       "      <td>44</td>\n",
       "      <td>technician</td>\n",
       "      <td>single</td>\n",
       "      <td>secondary</td>\n",
       "      <td>no</td>\n",
       "      <td>29</td>\n",
       "      <td>yes</td>\n",
       "      <td>no</td>\n",
       "      <td>unknown</td>\n",
       "      <td>5</td>\n",
       "      <td>may</td>\n",
       "      <td>151</td>\n",
       "      <td>1</td>\n",
       "      <td>-1</td>\n",
       "      <td>0</td>\n",
       "      <td>unknown</td>\n",
       "      <td>no</td>\n",
       "    </tr>\n",
       "    <tr>\n",
       "      <th>2</th>\n",
       "      <td>33</td>\n",
       "      <td>entrepreneur</td>\n",
       "      <td>married</td>\n",
       "      <td>secondary</td>\n",
       "      <td>no</td>\n",
       "      <td>2</td>\n",
       "      <td>yes</td>\n",
       "      <td>yes</td>\n",
       "      <td>unknown</td>\n",
       "      <td>5</td>\n",
       "      <td>may</td>\n",
       "      <td>76</td>\n",
       "      <td>1</td>\n",
       "      <td>-1</td>\n",
       "      <td>0</td>\n",
       "      <td>unknown</td>\n",
       "      <td>no</td>\n",
       "    </tr>\n",
       "    <tr>\n",
       "      <th>3</th>\n",
       "      <td>47</td>\n",
       "      <td>blue-collar</td>\n",
       "      <td>married</td>\n",
       "      <td>unknown</td>\n",
       "      <td>no</td>\n",
       "      <td>1506</td>\n",
       "      <td>yes</td>\n",
       "      <td>no</td>\n",
       "      <td>unknown</td>\n",
       "      <td>5</td>\n",
       "      <td>may</td>\n",
       "      <td>92</td>\n",
       "      <td>1</td>\n",
       "      <td>-1</td>\n",
       "      <td>0</td>\n",
       "      <td>unknown</td>\n",
       "      <td>no</td>\n",
       "    </tr>\n",
       "    <tr>\n",
       "      <th>4</th>\n",
       "      <td>33</td>\n",
       "      <td>unknown</td>\n",
       "      <td>single</td>\n",
       "      <td>unknown</td>\n",
       "      <td>no</td>\n",
       "      <td>1</td>\n",
       "      <td>no</td>\n",
       "      <td>no</td>\n",
       "      <td>unknown</td>\n",
       "      <td>5</td>\n",
       "      <td>may</td>\n",
       "      <td>198</td>\n",
       "      <td>1</td>\n",
       "      <td>-1</td>\n",
       "      <td>0</td>\n",
       "      <td>unknown</td>\n",
       "      <td>no</td>\n",
       "    </tr>\n",
       "  </tbody>\n",
       "</table>\n",
       "</div>"
      ],
      "text/plain": [
       "   age           job  marital  education default  balance housing loan  \\\n",
       "0   58    management  married   tertiary      no     2143     yes   no   \n",
       "1   44    technician   single  secondary      no       29     yes   no   \n",
       "2   33  entrepreneur  married  secondary      no        2     yes  yes   \n",
       "3   47   blue-collar  married    unknown      no     1506     yes   no   \n",
       "4   33       unknown   single    unknown      no        1      no   no   \n",
       "\n",
       "   contact  day month  duration  campaign  pdays  previous poutcome   y  \n",
       "0  unknown    5   may       261         1     -1         0  unknown  no  \n",
       "1  unknown    5   may       151         1     -1         0  unknown  no  \n",
       "2  unknown    5   may        76         1     -1         0  unknown  no  \n",
       "3  unknown    5   may        92         1     -1         0  unknown  no  \n",
       "4  unknown    5   may       198         1     -1         0  unknown  no  "
      ]
     },
     "metadata": {},
     "output_type": "display_data"
    },
    {
     "data": {
      "text/html": [
       "<div>\n",
       "<style scoped>\n",
       "    .dataframe tbody tr th:only-of-type {\n",
       "        vertical-align: middle;\n",
       "    }\n",
       "\n",
       "    .dataframe tbody tr th {\n",
       "        vertical-align: top;\n",
       "    }\n",
       "\n",
       "    .dataframe thead th {\n",
       "        text-align: right;\n",
       "    }\n",
       "</style>\n",
       "<table border=\"1\" class=\"dataframe\">\n",
       "  <thead>\n",
       "    <tr style=\"text-align: right;\">\n",
       "      <th></th>\n",
       "      <th>age</th>\n",
       "      <th>job</th>\n",
       "      <th>marital</th>\n",
       "      <th>education</th>\n",
       "      <th>default</th>\n",
       "      <th>balance</th>\n",
       "      <th>housing</th>\n",
       "      <th>loan</th>\n",
       "      <th>contact</th>\n",
       "      <th>day</th>\n",
       "      <th>month</th>\n",
       "      <th>duration</th>\n",
       "      <th>campaign</th>\n",
       "      <th>pdays</th>\n",
       "      <th>previous</th>\n",
       "      <th>poutcome</th>\n",
       "      <th>y</th>\n",
       "    </tr>\n",
       "  </thead>\n",
       "  <tbody>\n",
       "    <tr>\n",
       "      <th>45206</th>\n",
       "      <td>51</td>\n",
       "      <td>technician</td>\n",
       "      <td>married</td>\n",
       "      <td>tertiary</td>\n",
       "      <td>no</td>\n",
       "      <td>825</td>\n",
       "      <td>no</td>\n",
       "      <td>no</td>\n",
       "      <td>cellular</td>\n",
       "      <td>17</td>\n",
       "      <td>nov</td>\n",
       "      <td>977</td>\n",
       "      <td>3</td>\n",
       "      <td>-1</td>\n",
       "      <td>0</td>\n",
       "      <td>unknown</td>\n",
       "      <td>yes</td>\n",
       "    </tr>\n",
       "    <tr>\n",
       "      <th>45207</th>\n",
       "      <td>71</td>\n",
       "      <td>retired</td>\n",
       "      <td>divorced</td>\n",
       "      <td>primary</td>\n",
       "      <td>no</td>\n",
       "      <td>1729</td>\n",
       "      <td>no</td>\n",
       "      <td>no</td>\n",
       "      <td>cellular</td>\n",
       "      <td>17</td>\n",
       "      <td>nov</td>\n",
       "      <td>456</td>\n",
       "      <td>2</td>\n",
       "      <td>-1</td>\n",
       "      <td>0</td>\n",
       "      <td>unknown</td>\n",
       "      <td>yes</td>\n",
       "    </tr>\n",
       "    <tr>\n",
       "      <th>45208</th>\n",
       "      <td>72</td>\n",
       "      <td>retired</td>\n",
       "      <td>married</td>\n",
       "      <td>secondary</td>\n",
       "      <td>no</td>\n",
       "      <td>5715</td>\n",
       "      <td>no</td>\n",
       "      <td>no</td>\n",
       "      <td>cellular</td>\n",
       "      <td>17</td>\n",
       "      <td>nov</td>\n",
       "      <td>1127</td>\n",
       "      <td>5</td>\n",
       "      <td>184</td>\n",
       "      <td>3</td>\n",
       "      <td>success</td>\n",
       "      <td>yes</td>\n",
       "    </tr>\n",
       "    <tr>\n",
       "      <th>45209</th>\n",
       "      <td>57</td>\n",
       "      <td>blue-collar</td>\n",
       "      <td>married</td>\n",
       "      <td>secondary</td>\n",
       "      <td>no</td>\n",
       "      <td>668</td>\n",
       "      <td>no</td>\n",
       "      <td>no</td>\n",
       "      <td>telephone</td>\n",
       "      <td>17</td>\n",
       "      <td>nov</td>\n",
       "      <td>508</td>\n",
       "      <td>4</td>\n",
       "      <td>-1</td>\n",
       "      <td>0</td>\n",
       "      <td>unknown</td>\n",
       "      <td>no</td>\n",
       "    </tr>\n",
       "    <tr>\n",
       "      <th>45210</th>\n",
       "      <td>37</td>\n",
       "      <td>entrepreneur</td>\n",
       "      <td>married</td>\n",
       "      <td>secondary</td>\n",
       "      <td>no</td>\n",
       "      <td>2971</td>\n",
       "      <td>no</td>\n",
       "      <td>no</td>\n",
       "      <td>cellular</td>\n",
       "      <td>17</td>\n",
       "      <td>nov</td>\n",
       "      <td>361</td>\n",
       "      <td>2</td>\n",
       "      <td>188</td>\n",
       "      <td>11</td>\n",
       "      <td>other</td>\n",
       "      <td>no</td>\n",
       "    </tr>\n",
       "  </tbody>\n",
       "</table>\n",
       "</div>"
      ],
      "text/plain": [
       "       age           job   marital  education default  balance housing loan  \\\n",
       "45206   51    technician   married   tertiary      no      825      no   no   \n",
       "45207   71       retired  divorced    primary      no     1729      no   no   \n",
       "45208   72       retired   married  secondary      no     5715      no   no   \n",
       "45209   57   blue-collar   married  secondary      no      668      no   no   \n",
       "45210   37  entrepreneur   married  secondary      no     2971      no   no   \n",
       "\n",
       "         contact  day month  duration  campaign  pdays  previous poutcome    y  \n",
       "45206   cellular   17   nov       977         3     -1         0  unknown  yes  \n",
       "45207   cellular   17   nov       456         2     -1         0  unknown  yes  \n",
       "45208   cellular   17   nov      1127         5    184         3  success  yes  \n",
       "45209  telephone   17   nov       508         4     -1         0  unknown   no  \n",
       "45210   cellular   17   nov       361         2    188        11    other   no  "
      ]
     },
     "metadata": {},
     "output_type": "display_data"
    }
   ],
   "source": [
    "display(bank_data.head())\n",
    "display(bank_data.tail())"
   ]
  },
  {
   "cell_type": "markdown",
   "id": "087e73f3-862b-4935-a2c2-fe731d10991d",
   "metadata": {},
   "source": [
    "#### 3) Get the number of rows & columns of dataset"
   ]
  },
  {
   "cell_type": "code",
   "execution_count": 4,
   "id": "16d2f54c-141c-4df3-a89a-f1a8507cf70f",
   "metadata": {},
   "outputs": [
    {
     "name": "stdout",
     "output_type": "stream",
     "text": [
      "The number of rows in dataset is: 45211\n",
      "The number of columns in dataset is: 17\n"
     ]
    }
   ],
   "source": [
    "bank_data_shape = bank_data.shape\n",
    "print(f\"The number of rows in dataset is: {bank_data_shape[0]}\")\n",
    "print(f\"The number of columns in dataset is: {bank_data_shape[1]}\")"
   ]
  },
  {
   "cell_type": "code",
   "execution_count": 5,
   "id": "e28293ba-2690-4d84-95ea-2967d6ed1b7e",
   "metadata": {},
   "outputs": [],
   "source": [
    "cols = bank_data.columns"
   ]
  },
  {
   "cell_type": "markdown",
   "id": "4abdcd4b-f52d-4a9a-9db9-e93fb7753639",
   "metadata": {
    "tags": []
   },
   "source": [
    "#### 4) Get comprehensive information about the dataset"
   ]
  },
  {
   "cell_type": "code",
   "execution_count": 6,
   "id": "eabe3435-a5a2-4751-becb-0740affe7c96",
   "metadata": {},
   "outputs": [
    {
     "name": "stdout",
     "output_type": "stream",
     "text": [
      "<class 'pandas.core.frame.DataFrame'>\n",
      "RangeIndex: 45211 entries, 0 to 45210\n",
      "Data columns (total 17 columns):\n",
      " #   Column     Non-Null Count  Dtype \n",
      "---  ------     --------------  ----- \n",
      " 0   age        45211 non-null  int64 \n",
      " 1   job        45211 non-null  object\n",
      " 2   marital    45211 non-null  object\n",
      " 3   education  45211 non-null  object\n",
      " 4   default    45211 non-null  object\n",
      " 5   balance    45211 non-null  int64 \n",
      " 6   housing    45211 non-null  object\n",
      " 7   loan       45211 non-null  object\n",
      " 8   contact    45211 non-null  object\n",
      " 9   day        45211 non-null  int64 \n",
      " 10  month      45211 non-null  object\n",
      " 11  duration   45211 non-null  int64 \n",
      " 12  campaign   45211 non-null  int64 \n",
      " 13  pdays      45211 non-null  int64 \n",
      " 14  previous   45211 non-null  int64 \n",
      " 15  poutcome   45211 non-null  object\n",
      " 16  y          45211 non-null  object\n",
      "dtypes: int64(7), object(10)\n",
      "memory usage: 5.9+ MB\n"
     ]
    }
   ],
   "source": [
    "bank_data.info()"
   ]
  },
  {
   "cell_type": "markdown",
   "id": "aadd0787-2fa4-4807-ae07-2293bebbf669",
   "metadata": {},
   "source": [
    "#### 5) Check for missing values"
   ]
  },
  {
   "cell_type": "code",
   "execution_count": 7,
   "id": "6633d5cc-66d1-4504-973b-b6683f13eb6e",
   "metadata": {},
   "outputs": [
    {
     "data": {
      "text/plain": [
       "Text(0.5, 1.0, 'Visualizing Missing Values')"
      ]
     },
     "execution_count": 7,
     "metadata": {},
     "output_type": "execute_result"
    },
    {
     "data": {
      "image/png": "[encoded data removed]",
      "text/plain": [
       "<Figure size 432x288 with 2 Axes>"
      ]
     },
     "metadata": {
      "needs_background": "light"
     },
     "output_type": "display_data"
    }
   ],
   "source": [
    "missing_values = bank_data.isnull()\n",
    "sns.heatmap(missing_values, cmap=\"YlOrRd\", yticklabels=False)\n",
    "plt.title(\"Visualizing Missing Values\")"
   ]
  },
  {
   "cell_type": "markdown",
   "id": "c77be551-eee6-4146-82d7-647cedc8c73b",
   "metadata": {},
   "source": [
    "#####\n",
    "<i>There are no missing values in the dataset.</i>"
   ]
  },
  {
   "cell_type": "markdown",
   "id": "5b7a8698-c392-4569-b2b8-de6c2c858578",
   "metadata": {},
   "source": [
    "#### 6) Explore Continuous Features"
   ]
  },
  {
   "cell_type": "markdown",
   "id": "bc2498e3-c12e-45d6-82c9-2e3ce18256af",
   "metadata": {},
   "source": [
    "##### 6A) Get a list of continuous features"
   ]
  },
  {
   "cell_type": "code",
   "execution_count": 8,
   "id": "35c683f8-1000-412b-b37d-6277b1af1370",
   "metadata": {},
   "outputs": [
    {
     "data": {
      "text/plain": [
       "['age', 'balance', 'day', 'duration', 'campaign', 'pdays', 'previous']"
      ]
     },
     "execution_count": 8,
     "metadata": {},
     "output_type": "execute_result"
    }
   ],
   "source": [
    "continuous_features = list(bank_data.select_dtypes(include='int64').columns)\n",
    "continuous_features"
   ]
  },
  {
   "cell_type": "markdown",
   "id": "827a05be-e6b1-46a5-a9de-20148e62f6f3",
   "metadata": {},
   "source": [
    "##### 6B) Analyze the distribution of \"age\" variable by the target variable \"y\""
   ]
  },
  {
   "cell_type": "code",
   "execution_count": 9,
   "id": "c83d448d-b97e-4709-9120-6b28c84552bf",
   "metadata": {},
   "outputs": [
    {
     "data": {
      "text/plain": [
       "Text(0.5, 1.0, 'Analyzing the likelihood to Subscribe by Age')"
      ]
     },
     "execution_count": 9,
     "metadata": {},
     "output_type": "execute_result"
    },
    {
     "data": {
      "image/png": "[encoded data removed]",
      "text/plain": [
       "<Figure size 413.25x360 with 1 Axes>"
      ]
     },
     "metadata": {
      "needs_background": "light"
     },
     "output_type": "display_data"
    }
   ],
   "source": [
    "sns.displot(kind=\"kde\",\n",
    "            data=bank_data, \n",
    "            x=\"age\", \n",
    "            hue=\"y\", palette=\"Oranges\")\n",
    "plt.title(\"Analyzing the likelihood to Subscribe by Age\")"
   ]
  },
  {
   "cell_type": "markdown",
   "id": "3966df9d-352f-45f9-aa77-77d196efae28",
   "metadata": {},
   "source": [
    "##### \n",
    "<i>Focusing only on the clients who have subscribed to the term deposit, we observe that the proportion of younger clients (in their 30s) who subscribed to the term deposit is higher compared to clients in other age groups.</i>\n",
    "\n",
    "<i>However, this is not to say that the bank should focus their marketing efforts only on youger clients. As we can see from the graph, the likelihood of not subscribing is also the highest among younger clients. So, there is a high possibility that contacting a younger client wouldn't be as fruitful; he or she is more likely to not subscribe to the term deposit. And this is true for all clients below the age of 60; they are more likely to not subscribe to the term deposit.</i>"
   ]
  },
  {
   "cell_type": "markdown",
   "id": "3efc68ff-1107-4570-bf7d-cb8a1569bb92",
   "metadata": {},
   "source": [
    "##### 6C) Analyze the distribution of \"balance\" variable by the target variable \"y\""
   ]
  },
  {
   "cell_type": "code",
   "execution_count": 10,
   "id": "cb6da5f8-bee1-48c9-a775-8b4bcd9e0202",
   "metadata": {},
   "outputs": [
    {
     "data": {
      "text/plain": [
       "Text(0.5, 1.0, 'Analyzing the likelihood to Subscribe by Account Balance')"
      ]
     },
     "execution_count": 10,
     "metadata": {},
     "output_type": "execute_result"
    },
    {
     "data": {
      "image/png": "[encoded data removed]",
      "text/plain": [
       "<Figure size 432x288 with 1 Axes>"
      ]
     },
     "metadata": {
      "needs_background": "light"
     },
     "output_type": "display_data"
    }
   ],
   "source": [
    "sns.kdeplot(data=bank_data, \n",
    "            x=\"balance\",\n",
    "            hue=\"y\",\n",
    "            palette=\"Oranges\")\n",
    "\n",
    "plt.title(\"Analyzing the likelihood to Subscribe by Account Balance\")"
   ]
  },
  {
   "cell_type": "markdown",
   "id": "8728b2fa-e682-4008-be3f-68d9abfe17bb",
   "metadata": {},
   "source": [
    "###### Analyze the distribution of \"balance\" variable by the target variable \"y\"\n",
    "\n",
    "###### Set A = Balance is greater than €0 but less than €25000"
   ]
  },
  {
   "cell_type": "code",
   "execution_count": 11,
   "id": "dafebb49-56a2-4a7f-bd15-3e7ff2f81da7",
   "metadata": {},
   "outputs": [
    {
     "data": {
      "text/plain": [
       "Text(0.5, 1.0, 'Analyzing the likelihood to Subscribe by Account Balance: €0 to €25000')"
      ]
     },
     "execution_count": 11,
     "metadata": {},
     "output_type": "execute_result"
    },
    {
     "data": {
      "image/png": "[encoded data removed]",
      "text/plain": [
       "<Figure size 432x288 with 1 Axes>"
      ]
     },
     "metadata": {
      "needs_background": "light"
     },
     "output_type": "display_data"
    }
   ],
   "source": [
    "bank_data_A = bank_data[(bank_data[\"balance\"]>0) & (bank_data[\"balance\"]<25000)]\n",
    "\n",
    "sns.kdeplot(data=bank_data_A, \n",
    "            x=\"balance\",\n",
    "            hue=\"y\",\n",
    "           palette=\"Oranges\")\n",
    "\n",
    "plt.title(\"Analyzing the likelihood to Subscribe by Account Balance: €0 to €25000\")"
   ]
  },
  {
   "cell_type": "markdown",
   "id": "8f97df43-6f47-4712-abca-657441baa930",
   "metadata": {},
   "source": [
    "###### Analyze the distribution of \"balance\" variable by the target variable \"y\"\n",
    "\n",
    "###### Set B = Balance is greater than €25000 but less than €45000"
   ]
  },
  {
   "cell_type": "code",
   "execution_count": 12,
   "id": "3e924a0b-c600-436b-9380-b6cbe6851c98",
   "metadata": {},
   "outputs": [
    {
     "data": {
      "text/plain": [
       "Text(0.5, 1.0, 'Analyzing the likelihood to Subscribe by Account Balance: €25000 to €45000')"
      ]
     },
     "execution_count": 12,
     "metadata": {},
     "output_type": "execute_result"
    },
    {
     "data": {
      "image/png": "[encoded data removed]",
      "text/plain": [
       "<Figure size 432x288 with 1 Axes>"
      ]
     },
     "metadata": {
      "needs_background": "light"
     },
     "output_type": "display_data"
    }
   ],
   "source": [
    "bank_data_B = bank_data[(bank_data[\"balance\"]>25000) & (bank_data[\"balance\"]<45000)]\n",
    "\n",
    "sns.kdeplot(data=bank_data_B, \n",
    "            x=\"balance\",\n",
    "            hue=\"y\",\n",
    "           palette=\"Oranges\")\n",
    "\n",
    "plt.title(\"Analyzing the likelihood to Subscribe by Account Balance: €25000 to €45000\")"
   ]
  },
  {
   "cell_type": "markdown",
   "id": "48e83656-671f-41af-90b8-49a079b29a18",
   "metadata": {},
   "source": [
    "###### Analyze the distribution of \"balance\" variable by the target variable \"y\"\n",
    "\n",
    "###### Set C = Balance is greater than €35000 but less than €50000"
   ]
  },
  {
   "cell_type": "code",
   "execution_count": 13,
   "id": "3cfc6aa2-fcc7-4814-ac84-9201e64a1737",
   "metadata": {},
   "outputs": [
    {
     "data": {
      "text/plain": [
       "Text(0.5, 1.0, 'Analyzing the likelihood to Subscribe by Account Balance: €35000 to €50000')"
      ]
     },
     "execution_count": 13,
     "metadata": {},
     "output_type": "execute_result"
    },
    {
     "data": {
      "image/png": "[encoded data removed]",
      "text/plain": [
       "<Figure size 432x288 with 1 Axes>"
      ]
     },
     "metadata": {
      "needs_background": "light"
     },
     "output_type": "display_data"
    }
   ],
   "source": [
    "bank_data_C = bank_data[(bank_data[\"balance\"]>35000) & (bank_data[\"balance\"]<50000)]\n",
    "\n",
    "sns.kdeplot(data=bank_data_C, \n",
    "            x=\"balance\",\n",
    "            hue=\"y\",\n",
    "           palette=\"Oranges\")\n",
    "\n",
    "plt.title(\"Analyzing the likelihood to Subscribe by Account Balance: €35000 to €50000\")"
   ]
  },
  {
   "cell_type": "markdown",
   "id": "6a45d567-1e14-4462-8fcf-bdb25e649c11",
   "metadata": {},
   "source": [
    "###### Analyze the distribution of \"balance\" variable by the target variable \"y\"\n",
    "\n",
    "###### Set D = Balance is greater than €50000 but less than €100000"
   ]
  },
  {
   "cell_type": "code",
   "execution_count": 14,
   "id": "d6c8051f-9681-4ab6-856b-7df434b23a5e",
   "metadata": {},
   "outputs": [
    {
     "data": {
      "text/plain": [
       "Text(0.5, 1.0, 'Analyzing the likelihood to Subscribe by Account Balance: €50000 to €100000')"
      ]
     },
     "execution_count": 14,
     "metadata": {},
     "output_type": "execute_result"
    },
    {
     "data": {
      "image/png": "[encoded data removed]",
      "text/plain": [
       "<Figure size 432x288 with 1 Axes>"
      ]
     },
     "metadata": {
      "needs_background": "light"
     },
     "output_type": "display_data"
    }
   ],
   "source": [
    "bank_data_D = bank_data[(bank_data[\"balance\"]>50000) & (bank_data[\"balance\"]<100000)]\n",
    "\n",
    "sns.kdeplot(data=bank_data_D, \n",
    "            x=\"balance\",\n",
    "            hue=\"y\", palette=\"Oranges\")\n",
    "\n",
    "plt.title(\"Analyzing the likelihood to Subscribe by Account Balance: €50000 to €100000\")"
   ]
  },
  {
   "cell_type": "markdown",
   "id": "b747197e-6a9e-4c2e-9bc3-2eb7d3ecfe27",
   "metadata": {},
   "source": [
    "#####\n",
    "<i>Apart from the range between 80000 and 90000, for all balance ranges, the proportion of those who did not subscribe for the term deposit is greater than those who did. For the balance in the range 80000-90000, we see that the proportion who subcribed is greater than those who did not. This information could be useful from a marketing perspective, but I'm not sure if the bank's marketing department has access to customer's account balance information for privacy reasons.</i>"
   ]
  },
  {
   "cell_type": "markdown",
   "id": "13731b53-e47c-48ac-bcac-50905bb7b7fe",
   "metadata": {},
   "source": [
    "##### 6D) Create a distribution plot of \"duration\" variable by the target variable \"y\""
   ]
  },
  {
   "cell_type": "code",
   "execution_count": 15,
   "id": "ccf7f898-6d71-4af0-a393-5ef70ef94442",
   "metadata": {},
   "outputs": [
    {
     "name": "stdout",
     "output_type": "stream",
     "text": [
      "The maximum call duration made to any client is: 82 minutes\n",
      "The minimum call duration made to any client is: 0 minutes\n",
      "The average call duration made to any client is: 4 minutes\n"
     ]
    }
   ],
   "source": [
    "max_call_duration = (bank_data[\"duration\"].max())/60\n",
    "min_call_duration = (bank_data[\"duration\"].min())/60\n",
    "avg_call_duration = (bank_data[\"duration\"].mean())/60\n",
    "\n",
    "print(f\"The maximum call duration made to any client is: {round(max_call_duration)} minutes\")\n",
    "print(f\"The minimum call duration made to any client is: {round(min_call_duration)} minutes\")\n",
    "print(f\"The average call duration made to any client is: {round(avg_call_duration)} minutes\")"
   ]
  },
  {
   "cell_type": "code",
   "execution_count": 16,
   "id": "cab95f54-c2fe-45d4-8082-3315f45c9264",
   "metadata": {},
   "outputs": [
    {
     "data": {
      "text/plain": [
       "Text(0.5, 1.0, 'Analyzing the likelihood to Subscribe by Call Duration')"
      ]
     },
     "execution_count": 16,
     "metadata": {},
     "output_type": "execute_result"
    },
    {
     "data": {
      "image/png": "[encoded data removed]",
      "text/plain": [
       "<Figure size 432x288 with 1 Axes>"
      ]
     },
     "metadata": {
      "needs_background": "light"
     },
     "output_type": "display_data"
    }
   ],
   "source": [
    "sns.kdeplot(data=bank_data, \n",
    "            x=\"duration\",\n",
    "            hue=\"y\", palette=\"Oranges\")\n",
    "\n",
    "plt.title(\"Analyzing the likelihood to Subscribe by Call Duration\")"
   ]
  },
  {
   "cell_type": "code",
   "execution_count": 17,
   "id": "e63b3570-d4db-40bf-b53a-5c296debfa22",
   "metadata": {},
   "outputs": [
    {
     "data": {
      "text/plain": [
       "<AxesSubplot:xlabel='duration', ylabel='Density'>"
      ]
     },
     "execution_count": 17,
     "metadata": {},
     "output_type": "execute_result"
    },
    {
     "data": {
      "image/png": "[encoded data removed]",
      "text/plain": [
       "<Figure size 432x288 with 1 Axes>"
      ]
     },
     "metadata": {
      "needs_background": "light"
     },
     "output_type": "display_data"
    }
   ],
   "source": [
    "bank_data_duration_A = bank_data[(bank_data[\"duration\"]>250) & (bank_data[\"duration\"]<750)]\n",
    "\n",
    "sns.kdeplot(data=bank_data_duration_A,\n",
    "            x=\"duration\",\n",
    "           hue=\"y\", palette=\"Oranges\")"
   ]
  },
  {
   "cell_type": "code",
   "execution_count": 18,
   "id": "4d0002aa-4fe9-412a-bfad-52194957c4da",
   "metadata": {},
   "outputs": [
    {
     "data": {
      "text/plain": [
       "<AxesSubplot:xlabel='duration', ylabel='Density'>"
      ]
     },
     "execution_count": 18,
     "metadata": {},
     "output_type": "execute_result"
    },
    {
     "data": {
      "image/png": "[encoded data removed]",
      "text/plain": [
       "<Figure size 432x288 with 1 Axes>"
      ]
     },
     "metadata": {
      "needs_background": "light"
     },
     "output_type": "display_data"
    }
   ],
   "source": [
    "bank_data_duration_B = bank_data[(bank_data[\"duration\"]>750) & (bank_data[\"duration\"]<2000)]\n",
    "\n",
    "sns.kdeplot(data=bank_data_duration_B,\n",
    "            x=\"duration\",\n",
    "           hue=\"y\", palette=\"Oranges\")"
   ]
  },
  {
   "cell_type": "code",
   "execution_count": 19,
   "id": "7373c6ee-37a0-4b81-9fed-ff90dcce9a01",
   "metadata": {},
   "outputs": [
    {
     "data": {
      "text/plain": [
       "<AxesSubplot:xlabel='duration', ylabel='Density'>"
      ]
     },
     "execution_count": 19,
     "metadata": {},
     "output_type": "execute_result"
    },
    {
     "data": {
      "image/png": "[encoded data removed]",
      "text/plain": [
       "<Figure size 432x288 with 1 Axes>"
      ]
     },
     "metadata": {
      "needs_background": "light"
     },
     "output_type": "display_data"
    }
   ],
   "source": [
    "bank_data_duration_C = bank_data[(bank_data[\"duration\"]>2000) & (bank_data[\"duration\"]<5000)]\n",
    "\n",
    "sns.kdeplot(data=bank_data_duration_C,\n",
    "            x=\"duration\",\n",
    "           hue=\"y\", palette=\"Oranges\")"
   ]
  },
  {
   "cell_type": "markdown",
   "id": "6863c324-77a8-458a-bfe9-b568dc17c680",
   "metadata": {},
   "source": [
    "#####\n",
    "<i>From the previous analyses we glean that lower call duration doesn't translate to subscription, whereas higher call duration, more or less, results in the client subscribing to the term deposit scheme. However, it is important to note that call duration cannot be predicted before hand. So even if this variable seems to have a strong influence on the target variable, we cannot really use it for our predictive analysis.</i>"
   ]
  },
  {
   "cell_type": "markdown",
   "id": "8717937f-6cee-463d-90ee-c0313924d418",
   "metadata": {},
   "source": [
    "##### 6D) Create a distribution plot of \"campaign\" variable by the target variable \"y\""
   ]
  },
  {
   "cell_type": "code",
   "execution_count": 20,
   "id": "7ea8f621-f421-4ccf-b06a-ba57b26f4c5f",
   "metadata": {},
   "outputs": [
    {
     "name": "stdout",
     "output_type": "stream",
     "text": [
      "The maximum number of contacts made during the campaign to any client is: 63\n",
      "The minimum number of contacts made during the campaign to any client is: 1\n",
      "The average number of contacts made during the campaign to any client is: 3\n"
     ]
    }
   ],
   "source": [
    "max_number_contacts = bank_data[\"campaign\"].max()\n",
    "min_number_contacts = bank_data[\"campaign\"].min()\n",
    "avg_number_contacts = bank_data[\"campaign\"].mean()\n",
    "\n",
    "print(f\"The maximum number of contacts made during the campaign to any client is: {max_number_contacts}\")\n",
    "print(f\"The minimum number of contacts made during the campaign to any client is: {min_number_contacts}\")\n",
    "print(f\"The average number of contacts made during the campaign to any client is: {round(avg_number_contacts)}\")"
   ]
  },
  {
   "cell_type": "code",
   "execution_count": 21,
   "id": "49c7f7f9-096a-42f5-b8b2-c55cb03cb136",
   "metadata": {},
   "outputs": [
    {
     "data": {
      "text/plain": [
       "<AxesSubplot:xlabel='y', ylabel='campaign'>"
      ]
     },
     "execution_count": 21,
     "metadata": {},
     "output_type": "execute_result"
    },
    {
     "data": {
      "image/png": "[encoded data removed]",
      "text/plain": [
       "<Figure size 432x288 with 1 Axes>"
      ]
     },
     "metadata": {
      "needs_background": "light"
     },
     "output_type": "display_data"
    }
   ],
   "source": [
    "sns.boxplot(data=bank_data,\n",
    "            y=bank_data[\"campaign\"],\n",
    "           x=\"y\", showfliers = False, palette=\"Oranges\")"
   ]
  },
  {
   "cell_type": "markdown",
   "id": "008d20ce-41a6-4442-a802-8b16cf638310",
   "metadata": {},
   "source": [
    "##### 6E) Create a distribution plot of \"pdays\" variable by the target variable \"y\""
   ]
  },
  {
   "cell_type": "code",
   "execution_count": 22,
   "id": "13664355-b7a1-4534-9ac1-5a1f28200783",
   "metadata": {},
   "outputs": [
    {
     "name": "stdout",
     "output_type": "stream",
     "text": [
      "The maximum number of days passed after the client was last contacted from a previous campaign is: 871\n",
      "The minimum number of days passed after the client was last contacted from a previous campaign is: -1\n",
      "The average number of days passed after the client was last contacted from a previous campaign is: 40\n"
     ]
    }
   ],
   "source": [
    "max_pdays_contact = bank_data[\"pdays\"].max()\n",
    "min_pdays_contact = bank_data[\"pdays\"].min()\n",
    "avg_pdays_contact = bank_data[\"pdays\"].mean()\n",
    "\n",
    "print(f\"The maximum number of days passed after the client was last contacted from a previous campaign is: {max_pdays_contact}\")\n",
    "print(f\"The minimum number of days passed after the client was last contacted from a previous campaign is: {min_pdays_contact}\")\n",
    "print(f\"The average number of days passed after the client was last contacted from a previous campaign is: {round(avg_pdays_contact)}\")"
   ]
  },
  {
   "cell_type": "code",
   "execution_count": 23,
   "id": "fe64f3af-e656-48fa-8c21-3c7e021802f4",
   "metadata": {},
   "outputs": [
    {
     "data": {
      "text/plain": [
       "<AxesSubplot:xlabel='y', ylabel='pdays'>"
      ]
     },
     "execution_count": 23,
     "metadata": {},
     "output_type": "execute_result"
    },
    {
     "data": {
      "image/png": "[encoded data removed]",
      "text/plain": [
       "<Figure size 432x288 with 1 Axes>"
      ]
     },
     "metadata": {
      "needs_background": "light"
     },
     "output_type": "display_data"
    }
   ],
   "source": [
    "bank_data_pdays = bank_data[bank_data[\"pdays\"] != -1]\n",
    "\n",
    "sns.boxplot(data=bank_data_pdays,\n",
    "            y=bank_data[\"pdays\"],\n",
    "           x=\"y\", showfliers = True, palette=\"Oranges\")"
   ]
  },
  {
   "cell_type": "markdown",
   "id": "1b171ea5-d16d-42c8-ac00-b4226cd13491",
   "metadata": {},
   "source": [
    "#####\n",
    "<i>The variable \"pdays\" shows the number of days that passed by after the client was last contacted from a previous campaign. When I looked at the data, I saw that the minimum number of days that passed by is -1, which doesn't make any sense. So, I filtered all rows that did not have pdays = -1 and created boxplots for the remaining records. From the boxplots, we see that on average, for the customers who subscribed to the term deposit, the number of days passed from previous contact was considerbly less than those who did not subscribe to the scheme. So, the bank marketing department should keep frequent contacts with customers to develop a loyal customer base.</i>\n",
    "\n",
    "<i>Those clients with whom the bank had recent contacts were more likely to subscribe to the scheme... Subscribed = Yes --> Those with whom the last contact was made very recently</i>"
   ]
  },
  {
   "cell_type": "markdown",
   "id": "78d87541-3417-4108-8a5a-cf9b92e8980e",
   "metadata": {},
   "source": [
    "##### 6E) Create a distribution plot of \"previous\" variable by the target variable \"y\""
   ]
  },
  {
   "cell_type": "code",
   "execution_count": 24,
   "id": "9d90cf65-acf1-4209-84b0-35610b18d5bb",
   "metadata": {},
   "outputs": [
    {
     "name": "stdout",
     "output_type": "stream",
     "text": [
      "The maximum number of contacts performed for the given client before this campaign is: 275\n",
      "The minimum number of contacts performed for the given client before this campaign is: 0\n"
     ]
    }
   ],
   "source": [
    "max_previous_contact = bank_data[\"previous\"].max()\n",
    "min_previous_contact = bank_data[\"previous\"].min()\n",
    "\n",
    "print(f\"The maximum number of contacts performed for the given client before this campaign is: {max_previous_contact}\")\n",
    "print(f\"The minimum number of contacts performed for the given client before this campaign is: {min_previous_contact}\")"
   ]
  },
  {
   "cell_type": "code",
   "execution_count": 25,
   "id": "8ff347dd-81fd-4bf7-84b0-12621aea4df9",
   "metadata": {},
   "outputs": [
    {
     "data": {
      "text/plain": [
       "<AxesSubplot:xlabel='y', ylabel='previous'>"
      ]
     },
     "execution_count": 25,
     "metadata": {},
     "output_type": "execute_result"
    },
    {
     "data": {
      "image/png": "[encoded data removed]",
      "text/plain": [
       "<Figure size 432x288 with 1 Axes>"
      ]
     },
     "metadata": {
      "needs_background": "light"
     },
     "output_type": "display_data"
    }
   ],
   "source": [
    "sns.boxplot(data=bank_data_pdays,\n",
    "            y=bank_data[\"previous\"],\n",
    "           x=\"y\", showfliers = False, palette=\"Oranges\")"
   ]
  },
  {
   "cell_type": "markdown",
   "id": "d7f3b8db-71d2-4af2-80e3-adca18d43213",
   "metadata": {},
   "source": [
    "#####\n",
    "<i>Similar for those who subscribed and those who did not subscribe.</i>\n"
   ]
  },
  {
   "cell_type": "markdown",
   "id": "b258ea0c-0609-4fb4-bde9-0b76cc564917",
   "metadata": {},
   "source": [
    "#### 7) Explore Categorical Features"
   ]
  },
  {
   "cell_type": "markdown",
   "id": "36720475-bb36-4890-8298-34ce7b94da6f",
   "metadata": {},
   "source": [
    "##### 7A) Get a list of categorical features"
   ]
  },
  {
   "cell_type": "code",
   "execution_count": 26,
   "id": "fcab9baa-845e-4f82-916e-d638b883f344",
   "metadata": {},
   "outputs": [
    {
     "data": {
      "text/plain": [
       "['job',\n",
       " 'marital',\n",
       " 'education',\n",
       " 'default',\n",
       " 'housing',\n",
       " 'loan',\n",
       " 'contact',\n",
       " 'month',\n",
       " 'poutcome',\n",
       " 'y']"
      ]
     },
     "execution_count": 26,
     "metadata": {},
     "output_type": "execute_result"
    }
   ],
   "source": [
    "categorical_features = list(bank_data.select_dtypes(include='object').columns)\n",
    "categorical_features"
   ]
  },
  {
   "cell_type": "code",
   "execution_count": 27,
   "id": "d6654910-02e8-4f10-9483-c17ba08a1ce0",
   "metadata": {},
   "outputs": [
    {
     "data": {
      "text/plain": [
       "<AxesSubplot:xlabel='count', ylabel='job'>"
      ]
     },
     "metadata": {},
     "output_type": "display_data"
    },
    {
     "data": {
      "text/plain": [
       "blue-collar      9732\n",
       "management       9458\n",
       "technician       7597\n",
       "admin.           5171\n",
       "services         4154\n",
       "retired          2264\n",
       "self-employed    1579\n",
       "entrepreneur     1487\n",
       "unemployed       1303\n",
       "housemaid        1240\n",
       "student           938\n",
       "unknown           288\n",
       "Name: job, dtype: int64"
      ]
     },
     "metadata": {},
     "output_type": "display_data"
    },
    {
     "data": {
      "image/png": "[encoded data removed]",
      "text/plain": [
       "<Figure size 432x288 with 1 Axes>"
      ]
     },
     "metadata": {
      "needs_background": "light"
     },
     "output_type": "display_data"
    }
   ],
   "source": [
    "display(sns.countplot(data=bank_data, y=\"job\", order=bank_data['job'].value_counts().index, palette=\"Reds\"))\n",
    "\n",
    "display(bank_data[\"job\"].value_counts(dropna=False))"
   ]
  },
  {
   "cell_type": "code",
   "execution_count": 28,
   "id": "0f623885-50a6-4f3d-8342-0f7db383ed5f",
   "metadata": {},
   "outputs": [
    {
     "data": {
      "text/plain": [
       "<AxesSubplot:xlabel='marital', ylabel='count'>"
      ]
     },
     "metadata": {},
     "output_type": "display_data"
    },
    {
     "data": {
      "text/plain": [
       "married     27214\n",
       "single      12790\n",
       "divorced     5207\n",
       "Name: marital, dtype: int64"
      ]
     },
     "metadata": {},
     "output_type": "display_data"
    },
    {
     "data": {
      "image/png": "[encoded data removed]",
      "text/plain": [
       "<Figure size 432x288 with 1 Axes>"
      ]
     },
     "metadata": {
      "needs_background": "light"
     },
     "output_type": "display_data"
    }
   ],
   "source": [
    "display(sns.countplot(data=bank_data, x=\"marital\", palette=\"Reds\"))\n",
    "\n",
    "display(bank_data[\"marital\"].value_counts(dropna=False))"
   ]
  },
  {
   "cell_type": "code",
   "execution_count": 29,
   "id": "8794e47a-27bd-445c-a24a-0262eeb12970",
   "metadata": {},
   "outputs": [
    {
     "data": {
      "text/plain": [
       "<AxesSubplot:xlabel='education', ylabel='count'>"
      ]
     },
     "metadata": {},
     "output_type": "display_data"
    },
    {
     "data": {
      "text/plain": [
       "secondary    23202\n",
       "tertiary     13301\n",
       "primary       6851\n",
       "unknown       1857\n",
       "Name: education, dtype: int64"
      ]
     },
     "metadata": {},
     "output_type": "display_data"
    },
    {
     "data": {
      "image/png": "[encoded data removed]",
      "text/plain": [
       "<Figure size 432x288 with 1 Axes>"
      ]
     },
     "metadata": {
      "needs_background": "light"
     },
     "output_type": "display_data"
    }
   ],
   "source": [
    "display(sns.countplot(data=bank_data, x=\"education\",  order=bank_data['education'].value_counts().index, palette=\"Reds\"))\n",
    "display(bank_data[\"education\"].value_counts(dropna=False))"
   ]
  },
  {
   "cell_type": "code",
   "execution_count": 30,
   "id": "dd35d88c-300b-4192-bafd-55b6b04d5271",
   "metadata": {},
   "outputs": [
    {
     "data": {
      "text/plain": [
       "<AxesSubplot:xlabel='default', ylabel='count'>"
      ]
     },
     "metadata": {},
     "output_type": "display_data"
    },
    {
     "data": {
      "text/plain": [
       "no     44396\n",
       "yes      815\n",
       "Name: default, dtype: int64"
      ]
     },
     "metadata": {},
     "output_type": "display_data"
    },
    {
     "data": {
      "image/png": "[encoded data removed]",
      "text/plain": [
       "<Figure size 432x288 with 1 Axes>"
      ]
     },
     "metadata": {
      "needs_background": "light"
     },
     "output_type": "display_data"
    }
   ],
   "source": [
    "display(sns.countplot(data=bank_data, x=\"default\", palette=\"Reds\"))\n",
    "display(bank_data[\"default\"].value_counts(dropna=False))"
   ]
  },
  {
   "cell_type": "code",
   "execution_count": 31,
   "id": "525ab6e0-21c0-45d6-8199-35c3e1c8392a",
   "metadata": {},
   "outputs": [
    {
     "data": {
      "text/plain": [
       "<AxesSubplot:xlabel='housing', ylabel='count'>"
      ]
     },
     "metadata": {},
     "output_type": "display_data"
    },
    {
     "data": {
      "text/plain": [
       "yes    25130\n",
       "no     20081\n",
       "Name: housing, dtype: int64"
      ]
     },
     "metadata": {},
     "output_type": "display_data"
    },
    {
     "data": {
      "image/png": "[encoded data removed]",
      "text/plain": [
       "<Figure size 432x288 with 1 Axes>"
      ]
     },
     "metadata": {
      "needs_background": "light"
     },
     "output_type": "display_data"
    }
   ],
   "source": [
    "display(sns.countplot(data=bank_data, x=\"housing\", palette=\"Reds\"))\n",
    "display(bank_data[\"housing\"].value_counts(dropna=False))"
   ]
  },
  {
   "cell_type": "code",
   "execution_count": 32,
   "id": "88868f21-24a2-46a5-b6d8-a32ae7aa2922",
   "metadata": {},
   "outputs": [
    {
     "data": {
      "text/plain": [
       "<AxesSubplot:xlabel='loan', ylabel='count'>"
      ]
     },
     "metadata": {},
     "output_type": "display_data"
    },
    {
     "data": {
      "text/plain": [
       "no     37967\n",
       "yes     7244\n",
       "Name: loan, dtype: int64"
      ]
     },
     "metadata": {},
     "output_type": "display_data"
    },
    {
     "data": {
      "image/png": "[encoded data removed]",
      "text/plain": [
       "<Figure size 432x288 with 1 Axes>"
      ]
     },
     "metadata": {
      "needs_background": "light"
     },
     "output_type": "display_data"
    }
   ],
   "source": [
    "display(sns.countplot(data=bank_data, x=\"loan\", palette=\"Reds\"))\n",
    "display(bank_data[\"loan\"].value_counts(dropna=False))"
   ]
  },
  {
   "cell_type": "code",
   "execution_count": 33,
   "id": "77b4da45-e603-4c96-8215-cb632f2f0901",
   "metadata": {},
   "outputs": [
    {
     "data": {
      "text/plain": [
       "<AxesSubplot:xlabel='contact', ylabel='count'>"
      ]
     },
     "metadata": {},
     "output_type": "display_data"
    },
    {
     "data": {
      "text/plain": [
       "cellular     29285\n",
       "unknown      13020\n",
       "telephone     2906\n",
       "Name: contact, dtype: int64"
      ]
     },
     "metadata": {},
     "output_type": "display_data"
    },
    {
     "data": {
      "image/png": "[encoded data removed]",
      "text/plain": [
       "<Figure size 432x288 with 1 Axes>"
      ]
     },
     "metadata": {
      "needs_background": "light"
     },
     "output_type": "display_data"
    }
   ],
   "source": [
    "display(sns.countplot(data=bank_data, x=\"contact\",  order=bank_data['contact'].value_counts().index, palette=\"Reds\"))\n",
    "display(bank_data[\"contact\"].value_counts(dropna=False))"
   ]
  },
  {
   "cell_type": "code",
   "execution_count": 34,
   "id": "09475e76-31ff-400f-9aad-63eb08e20e49",
   "metadata": {},
   "outputs": [
    {
     "data": {
      "text/plain": [
       "<AxesSubplot:xlabel='month', ylabel='count'>"
      ]
     },
     "execution_count": 34,
     "metadata": {},
     "output_type": "execute_result"
    },
    {
     "data": {
      "image/png": "[encoded data removed]",
      "text/plain": [
       "<Figure size 432x288 with 1 Axes>"
      ]
     },
     "metadata": {
      "needs_background": "light"
     },
     "output_type": "display_data"
    }
   ],
   "source": [
    "sns.countplot(data=bank_data, x=\"month\",  order=bank_data['month'].value_counts().index, palette=\"Reds\")"
   ]
  },
  {
   "cell_type": "code",
   "execution_count": 35,
   "id": "a8399bbe-ed6f-44ba-917b-58659580fbd8",
   "metadata": {},
   "outputs": [
    {
     "data": {
      "text/plain": [
       "<AxesSubplot:xlabel='poutcome', ylabel='count'>"
      ]
     },
     "metadata": {},
     "output_type": "display_data"
    },
    {
     "data": {
      "text/plain": [
       "unknown    36959\n",
       "failure     4901\n",
       "other       1840\n",
       "success     1511\n",
       "Name: poutcome, dtype: int64"
      ]
     },
     "metadata": {},
     "output_type": "display_data"
    },
    {
     "data": {
      "image/png": "[encoded data removed]",
      "text/plain": [
       "<Figure size 432x288 with 1 Axes>"
      ]
     },
     "metadata": {
      "needs_background": "light"
     },
     "output_type": "display_data"
    }
   ],
   "source": [
    "display(sns.countplot(data=bank_data, x=\"poutcome\", palette=\"Reds\"))\n",
    "\n",
    "display(bank_data[\"poutcome\"].value_counts(dropna=False))"
   ]
  },
  {
   "cell_type": "code",
   "execution_count": 36,
   "id": "eb4435f2-5afb-437b-b7e2-6f440e2ccf2a",
   "metadata": {},
   "outputs": [
    {
     "data": {
      "text/plain": [
       "<AxesSubplot:xlabel='default', ylabel='count'>"
      ]
     },
     "metadata": {},
     "output_type": "display_data"
    },
    {
     "data": {
      "text/plain": [
       "no     44396\n",
       "yes      815\n",
       "Name: default, dtype: int64"
      ]
     },
     "metadata": {},
     "output_type": "display_data"
    },
    {
     "data": {
      "image/png": "[encoded data removed]",
      "text/plain": [
       "<Figure size 432x288 with 1 Axes>"
      ]
     },
     "metadata": {
      "needs_background": "light"
     },
     "output_type": "display_data"
    }
   ],
   "source": [
    "display(sns.countplot(data=bank_data, x=\"default\", palette=\"Reds\"))\n",
    "\n",
    "display(bank_data[\"default\"].value_counts(dropna=False))"
   ]
  },
  {
   "cell_type": "code",
   "execution_count": 37,
   "id": "a7addd23-d598-4e0b-a0f2-2591450cfaa7",
   "metadata": {},
   "outputs": [
    {
     "data": {
      "text/plain": [
       "<AxesSubplot:xlabel='y', ylabel='count'>"
      ]
     },
     "metadata": {},
     "output_type": "display_data"
    },
    {
     "data": {
      "text/plain": [
       "no     39922\n",
       "yes     5289\n",
       "Name: y, dtype: int64"
      ]
     },
     "metadata": {},
     "output_type": "display_data"
    },
    {
     "data": {
      "image/png": "[encoded data removed]",
      "text/plain": [
       "<Figure size 432x288 with 1 Axes>"
      ]
     },
     "metadata": {
      "needs_background": "light"
     },
     "output_type": "display_data"
    }
   ],
   "source": [
    "display(sns.countplot(data=bank_data, x=\"y\", palette=\"Reds\"))\n",
    "\n",
    "display(bank_data[\"y\"].value_counts(dropna=False))"
   ]
  },
  {
   "cell_type": "markdown",
   "id": "b42819b0-dc38-444e-ac04-3477c950d704",
   "metadata": {},
   "source": [
    "##### 7C) Analyzing the target variable \"y\" more to get the proportion of each category"
   ]
  },
  {
   "cell_type": "code",
   "execution_count": 38,
   "id": "e1b0791d-e199-4e84-829f-e584aa692e86",
   "metadata": {},
   "outputs": [
    {
     "data": {
      "text/plain": [
       "no     0.883015\n",
       "yes    0.116985\n",
       "Name: y, dtype: float64"
      ]
     },
     "execution_count": 38,
     "metadata": {},
     "output_type": "execute_result"
    }
   ],
   "source": [
    "bank_data[\"y\"].value_counts(normalize=True)"
   ]
  },
  {
   "cell_type": "markdown",
   "id": "94918e01-aed7-4dbf-ab93-ca6fc2539b8b",
   "metadata": {},
   "source": [
    "##### \n",
    "<i>The dataset is an imbalanced one. Out of all clients contacted, only 12% agreed to subscribe to the term deposit offer, whereas a majority of them (88%) did not subscribe to the term deposit offer.</i> "
   ]
  },
  {
   "cell_type": "markdown",
   "id": "5aa77289-09f0-46c9-85a0-8ff5320914f2",
   "metadata": {},
   "source": [
    "##### 7D) Analyzing the variable \"job\" by target variable \"y\""
   ]
  },
  {
   "cell_type": "code",
   "execution_count": 39,
   "id": "5bee19ac-5b6f-4d91-b188-0989367f5740",
   "metadata": {},
   "outputs": [
    {
     "data": {
      "text/plain": [
       "<AxesSubplot:xlabel='count', ylabel='job'>"
      ]
     },
     "metadata": {},
     "output_type": "display_data"
    },
    {
     "data": {
      "text/html": [
       "<div>\n",
       "<style scoped>\n",
       "    .dataframe tbody tr th:only-of-type {\n",
       "        vertical-align: middle;\n",
       "    }\n",
       "\n",
       "    .dataframe tbody tr th {\n",
       "        vertical-align: top;\n",
       "    }\n",
       "\n",
       "    .dataframe thead th {\n",
       "        text-align: right;\n",
       "    }\n",
       "</style>\n",
       "<table border=\"1\" class=\"dataframe\">\n",
       "  <thead>\n",
       "    <tr style=\"text-align: right;\">\n",
       "      <th>y</th>\n",
       "      <th>no</th>\n",
       "      <th>yes</th>\n",
       "      <th>All</th>\n",
       "    </tr>\n",
       "    <tr>\n",
       "      <th>job</th>\n",
       "      <th></th>\n",
       "      <th></th>\n",
       "      <th></th>\n",
       "    </tr>\n",
       "  </thead>\n",
       "  <tbody>\n",
       "    <tr>\n",
       "      <th>admin.</th>\n",
       "      <td>4540</td>\n",
       "      <td>631</td>\n",
       "      <td>5171</td>\n",
       "    </tr>\n",
       "    <tr>\n",
       "      <th>blue-collar</th>\n",
       "      <td>9024</td>\n",
       "      <td>708</td>\n",
       "      <td>9732</td>\n",
       "    </tr>\n",
       "    <tr>\n",
       "      <th>entrepreneur</th>\n",
       "      <td>1364</td>\n",
       "      <td>123</td>\n",
       "      <td>1487</td>\n",
       "    </tr>\n",
       "    <tr>\n",
       "      <th>housemaid</th>\n",
       "      <td>1131</td>\n",
       "      <td>109</td>\n",
       "      <td>1240</td>\n",
       "    </tr>\n",
       "    <tr>\n",
       "      <th>management</th>\n",
       "      <td>8157</td>\n",
       "      <td>1301</td>\n",
       "      <td>9458</td>\n",
       "    </tr>\n",
       "    <tr>\n",
       "      <th>retired</th>\n",
       "      <td>1748</td>\n",
       "      <td>516</td>\n",
       "      <td>2264</td>\n",
       "    </tr>\n",
       "    <tr>\n",
       "      <th>self-employed</th>\n",
       "      <td>1392</td>\n",
       "      <td>187</td>\n",
       "      <td>1579</td>\n",
       "    </tr>\n",
       "    <tr>\n",
       "      <th>services</th>\n",
       "      <td>3785</td>\n",
       "      <td>369</td>\n",
       "      <td>4154</td>\n",
       "    </tr>\n",
       "    <tr>\n",
       "      <th>student</th>\n",
       "      <td>669</td>\n",
       "      <td>269</td>\n",
       "      <td>938</td>\n",
       "    </tr>\n",
       "    <tr>\n",
       "      <th>technician</th>\n",
       "      <td>6757</td>\n",
       "      <td>840</td>\n",
       "      <td>7597</td>\n",
       "    </tr>\n",
       "    <tr>\n",
       "      <th>unemployed</th>\n",
       "      <td>1101</td>\n",
       "      <td>202</td>\n",
       "      <td>1303</td>\n",
       "    </tr>\n",
       "    <tr>\n",
       "      <th>unknown</th>\n",
       "      <td>254</td>\n",
       "      <td>34</td>\n",
       "      <td>288</td>\n",
       "    </tr>\n",
       "    <tr>\n",
       "      <th>All</th>\n",
       "      <td>39922</td>\n",
       "      <td>5289</td>\n",
       "      <td>45211</td>\n",
       "    </tr>\n",
       "  </tbody>\n",
       "</table>\n",
       "</div>"
      ],
      "text/plain": [
       "y                 no   yes    All\n",
       "job                              \n",
       "admin.          4540   631   5171\n",
       "blue-collar     9024   708   9732\n",
       "entrepreneur    1364   123   1487\n",
       "housemaid       1131   109   1240\n",
       "management      8157  1301   9458\n",
       "retired         1748   516   2264\n",
       "self-employed   1392   187   1579\n",
       "services        3785   369   4154\n",
       "student          669   269    938\n",
       "technician      6757   840   7597\n",
       "unemployed      1101   202   1303\n",
       "unknown          254    34    288\n",
       "All            39922  5289  45211"
      ]
     },
     "metadata": {},
     "output_type": "display_data"
    },
    {
     "data": {
      "image/png": "[encoded data removed]",
      "text/plain": [
       "<Figure size 432x288 with 1 Axes>"
      ]
     },
     "metadata": {
      "needs_background": "light"
     },
     "output_type": "display_data"
    }
   ],
   "source": [
    "display(sns.countplot(data=bank_data, y=\"job\", hue=\"y\", palette=\"OrRd\"))\n",
    "\n",
    "display(pd.crosstab(bank_data[\"job\"], bank_data[\"y\"], margins=True))"
   ]
  },
  {
   "cell_type": "markdown",
   "id": "6b7aceaf-a367-4751-bca5-11233b30e834",
   "metadata": {},
   "source": [
    "##### 7E) Analyzing the variable \"marital\" by target variable \"y\""
   ]
  },
  {
   "cell_type": "code",
   "execution_count": 40,
   "id": "d5b778f5-5d84-46fa-9119-2f047c89081d",
   "metadata": {},
   "outputs": [
    {
     "data": {
      "text/plain": [
       "<AxesSubplot:xlabel='marital', ylabel='count'>"
      ]
     },
     "metadata": {},
     "output_type": "display_data"
    },
    {
     "data": {
      "text/html": [
       "<div>\n",
       "<style scoped>\n",
       "    .dataframe tbody tr th:only-of-type {\n",
       "        vertical-align: middle;\n",
       "    }\n",
       "\n",
       "    .dataframe tbody tr th {\n",
       "        vertical-align: top;\n",
       "    }\n",
       "\n",
       "    .dataframe thead th {\n",
       "        text-align: right;\n",
       "    }\n",
       "</style>\n",
       "<table border=\"1\" class=\"dataframe\">\n",
       "  <thead>\n",
       "    <tr style=\"text-align: right;\">\n",
       "      <th>y</th>\n",
       "      <th>no</th>\n",
       "      <th>yes</th>\n",
       "      <th>All</th>\n",
       "    </tr>\n",
       "    <tr>\n",
       "      <th>marital</th>\n",
       "      <th></th>\n",
       "      <th></th>\n",
       "      <th></th>\n",
       "    </tr>\n",
       "  </thead>\n",
       "  <tbody>\n",
       "    <tr>\n",
       "      <th>divorced</th>\n",
       "      <td>4585</td>\n",
       "      <td>622</td>\n",
       "      <td>5207</td>\n",
       "    </tr>\n",
       "    <tr>\n",
       "      <th>married</th>\n",
       "      <td>24459</td>\n",
       "      <td>2755</td>\n",
       "      <td>27214</td>\n",
       "    </tr>\n",
       "    <tr>\n",
       "      <th>single</th>\n",
       "      <td>10878</td>\n",
       "      <td>1912</td>\n",
       "      <td>12790</td>\n",
       "    </tr>\n",
       "    <tr>\n",
       "      <th>All</th>\n",
       "      <td>39922</td>\n",
       "      <td>5289</td>\n",
       "      <td>45211</td>\n",
       "    </tr>\n",
       "  </tbody>\n",
       "</table>\n",
       "</div>"
      ],
      "text/plain": [
       "y            no   yes    All\n",
       "marital                     \n",
       "divorced   4585   622   5207\n",
       "married   24459  2755  27214\n",
       "single    10878  1912  12790\n",
       "All       39922  5289  45211"
      ]
     },
     "metadata": {},
     "output_type": "display_data"
    },
    {
     "data": {
      "image/png": "[encoded data removed]",
      "text/plain": [
       "<Figure size 432x288 with 1 Axes>"
      ]
     },
     "metadata": {
      "needs_background": "light"
     },
     "output_type": "display_data"
    }
   ],
   "source": [
    "display(sns.countplot(data=bank_data, x=\"marital\", hue=\"y\", palette=\"OrRd\"))\n",
    "\n",
    "display(pd.crosstab(bank_data[\"marital\"], bank_data[\"y\"], margins=True))"
   ]
  },
  {
   "cell_type": "markdown",
   "id": "c1fb995c-41c8-48f8-befe-c744b01d44fc",
   "metadata": {},
   "source": [
    "##### 7F) Analyzing the variable \"education\" by target variable \"y\""
   ]
  },
  {
   "cell_type": "code",
   "execution_count": 41,
   "id": "906caf36-82ea-48d7-ba6f-23a27e12345d",
   "metadata": {},
   "outputs": [
    {
     "data": {
      "text/plain": [
       "<AxesSubplot:xlabel='education', ylabel='count'>"
      ]
     },
     "metadata": {},
     "output_type": "display_data"
    },
    {
     "data": {
      "text/html": [
       "<div>\n",
       "<style scoped>\n",
       "    .dataframe tbody tr th:only-of-type {\n",
       "        vertical-align: middle;\n",
       "    }\n",
       "\n",
       "    .dataframe tbody tr th {\n",
       "        vertical-align: top;\n",
       "    }\n",
       "\n",
       "    .dataframe thead th {\n",
       "        text-align: right;\n",
       "    }\n",
       "</style>\n",
       "<table border=\"1\" class=\"dataframe\">\n",
       "  <thead>\n",
       "    <tr style=\"text-align: right;\">\n",
       "      <th>y</th>\n",
       "      <th>no</th>\n",
       "      <th>yes</th>\n",
       "      <th>All</th>\n",
       "    </tr>\n",
       "    <tr>\n",
       "      <th>education</th>\n",
       "      <th></th>\n",
       "      <th></th>\n",
       "      <th></th>\n",
       "    </tr>\n",
       "  </thead>\n",
       "  <tbody>\n",
       "    <tr>\n",
       "      <th>primary</th>\n",
       "      <td>6260</td>\n",
       "      <td>591</td>\n",
       "      <td>6851</td>\n",
       "    </tr>\n",
       "    <tr>\n",
       "      <th>secondary</th>\n",
       "      <td>20752</td>\n",
       "      <td>2450</td>\n",
       "      <td>23202</td>\n",
       "    </tr>\n",
       "    <tr>\n",
       "      <th>tertiary</th>\n",
       "      <td>11305</td>\n",
       "      <td>1996</td>\n",
       "      <td>13301</td>\n",
       "    </tr>\n",
       "    <tr>\n",
       "      <th>unknown</th>\n",
       "      <td>1605</td>\n",
       "      <td>252</td>\n",
       "      <td>1857</td>\n",
       "    </tr>\n",
       "    <tr>\n",
       "      <th>All</th>\n",
       "      <td>39922</td>\n",
       "      <td>5289</td>\n",
       "      <td>45211</td>\n",
       "    </tr>\n",
       "  </tbody>\n",
       "</table>\n",
       "</div>"
      ],
      "text/plain": [
       "y             no   yes    All\n",
       "education                    \n",
       "primary     6260   591   6851\n",
       "secondary  20752  2450  23202\n",
       "tertiary   11305  1996  13301\n",
       "unknown     1605   252   1857\n",
       "All        39922  5289  45211"
      ]
     },
     "metadata": {},
     "output_type": "display_data"
    },
    {
     "data": {
      "image/png": "[encoded data removed]",
      "text/plain": [
       "<Figure size 432x288 with 1 Axes>"
      ]
     },
     "metadata": {
      "needs_background": "light"
     },
     "output_type": "display_data"
    }
   ],
   "source": [
    "display(sns.countplot(data=bank_data, x=\"education\", hue=\"y\", palette=\"OrRd\"))\n",
    "\n",
    "display(pd.crosstab(bank_data[\"education\"], bank_data[\"y\"], margins=True))"
   ]
  },
  {
   "cell_type": "markdown",
   "id": "f4069566-7733-484e-a0a9-9729d0904419",
   "metadata": {},
   "source": [
    "##### 7G) Analyzing the variable \"default\" by target variable \"y\""
   ]
  },
  {
   "cell_type": "code",
   "execution_count": 42,
   "id": "ddbd7024-bec0-47e0-a49c-e1e6b51e3c4a",
   "metadata": {},
   "outputs": [
    {
     "data": {
      "text/plain": [
       "<AxesSubplot:xlabel='default', ylabel='count'>"
      ]
     },
     "metadata": {},
     "output_type": "display_data"
    },
    {
     "data": {
      "text/html": [
       "<div>\n",
       "<style scoped>\n",
       "    .dataframe tbody tr th:only-of-type {\n",
       "        vertical-align: middle;\n",
       "    }\n",
       "\n",
       "    .dataframe tbody tr th {\n",
       "        vertical-align: top;\n",
       "    }\n",
       "\n",
       "    .dataframe thead th {\n",
       "        text-align: right;\n",
       "    }\n",
       "</style>\n",
       "<table border=\"1\" class=\"dataframe\">\n",
       "  <thead>\n",
       "    <tr style=\"text-align: right;\">\n",
       "      <th>y</th>\n",
       "      <th>no</th>\n",
       "      <th>yes</th>\n",
       "      <th>All</th>\n",
       "    </tr>\n",
       "    <tr>\n",
       "      <th>default</th>\n",
       "      <th></th>\n",
       "      <th></th>\n",
       "      <th></th>\n",
       "    </tr>\n",
       "  </thead>\n",
       "  <tbody>\n",
       "    <tr>\n",
       "      <th>no</th>\n",
       "      <td>39159</td>\n",
       "      <td>5237</td>\n",
       "      <td>44396</td>\n",
       "    </tr>\n",
       "    <tr>\n",
       "      <th>yes</th>\n",
       "      <td>763</td>\n",
       "      <td>52</td>\n",
       "      <td>815</td>\n",
       "    </tr>\n",
       "    <tr>\n",
       "      <th>All</th>\n",
       "      <td>39922</td>\n",
       "      <td>5289</td>\n",
       "      <td>45211</td>\n",
       "    </tr>\n",
       "  </tbody>\n",
       "</table>\n",
       "</div>"
      ],
      "text/plain": [
       "y           no   yes    All\n",
       "default                    \n",
       "no       39159  5237  44396\n",
       "yes        763    52    815\n",
       "All      39922  5289  45211"
      ]
     },
     "metadata": {},
     "output_type": "display_data"
    },
    {
     "data": {
      "image/png": "[encoded data removed]",
      "text/plain": [
       "<Figure size 432x288 with 1 Axes>"
      ]
     },
     "metadata": {
      "needs_background": "light"
     },
     "output_type": "display_data"
    }
   ],
   "source": [
    "display(sns.countplot(data=bank_data, x=\"default\", hue=\"y\", palette=\"OrRd\"))\n",
    "\n",
    "display(pd.crosstab(bank_data[\"default\"], bank_data[\"y\"], margins=True))"
   ]
  },
  {
   "cell_type": "markdown",
   "id": "a4c9e295-a0eb-481d-a8f7-4aa7aaa1c456",
   "metadata": {},
   "source": [
    "##### 7H) Analyzing the variable \"housing\" by target variable \"y\""
   ]
  },
  {
   "cell_type": "code",
   "execution_count": 43,
   "id": "c4c4916c-03e9-460d-aabb-bdc8d7b0be0e",
   "metadata": {},
   "outputs": [
    {
     "data": {
      "text/plain": [
       "<AxesSubplot:xlabel='housing', ylabel='count'>"
      ]
     },
     "metadata": {},
     "output_type": "display_data"
    },
    {
     "data": {
      "text/html": [
       "<div>\n",
       "<style scoped>\n",
       "    .dataframe tbody tr th:only-of-type {\n",
       "        vertical-align: middle;\n",
       "    }\n",
       "\n",
       "    .dataframe tbody tr th {\n",
       "        vertical-align: top;\n",
       "    }\n",
       "\n",
       "    .dataframe thead th {\n",
       "        text-align: right;\n",
       "    }\n",
       "</style>\n",
       "<table border=\"1\" class=\"dataframe\">\n",
       "  <thead>\n",
       "    <tr style=\"text-align: right;\">\n",
       "      <th>y</th>\n",
       "      <th>no</th>\n",
       "      <th>yes</th>\n",
       "      <th>All</th>\n",
       "    </tr>\n",
       "    <tr>\n",
       "      <th>housing</th>\n",
       "      <th></th>\n",
       "      <th></th>\n",
       "      <th></th>\n",
       "    </tr>\n",
       "  </thead>\n",
       "  <tbody>\n",
       "    <tr>\n",
       "      <th>no</th>\n",
       "      <td>16727</td>\n",
       "      <td>3354</td>\n",
       "      <td>20081</td>\n",
       "    </tr>\n",
       "    <tr>\n",
       "      <th>yes</th>\n",
       "      <td>23195</td>\n",
       "      <td>1935</td>\n",
       "      <td>25130</td>\n",
       "    </tr>\n",
       "    <tr>\n",
       "      <th>All</th>\n",
       "      <td>39922</td>\n",
       "      <td>5289</td>\n",
       "      <td>45211</td>\n",
       "    </tr>\n",
       "  </tbody>\n",
       "</table>\n",
       "</div>"
      ],
      "text/plain": [
       "y           no   yes    All\n",
       "housing                    \n",
       "no       16727  3354  20081\n",
       "yes      23195  1935  25130\n",
       "All      39922  5289  45211"
      ]
     },
     "metadata": {},
     "output_type": "display_data"
    },
    {
     "data": {
      "image/png": "[encoded data removed]",
      "text/plain": [
       "<Figure size 432x288 with 1 Axes>"
      ]
     },
     "metadata": {
      "needs_background": "light"
     },
     "output_type": "display_data"
    }
   ],
   "source": [
    "display(sns.countplot(data=bank_data, x=\"housing\", hue=\"y\", palette=\"OrRd\"))\n",
    "\n",
    "display(pd.crosstab(bank_data[\"housing\"], bank_data[\"y\"], margins=True))"
   ]
  },
  {
   "cell_type": "markdown",
   "id": "59582349-a82f-4aae-8204-011d408315b8",
   "metadata": {},
   "source": [
    "##### 7I) Analyzing the variable \"loan\" by target variable \"y\""
   ]
  },
  {
   "cell_type": "code",
   "execution_count": 44,
   "id": "e33ebd1b-4704-46de-b969-eb386e8d7f76",
   "metadata": {},
   "outputs": [
    {
     "data": {
      "text/html": [
       "<div>\n",
       "<style scoped>\n",
       "    .dataframe tbody tr th:only-of-type {\n",
       "        vertical-align: middle;\n",
       "    }\n",
       "\n",
       "    .dataframe tbody tr th {\n",
       "        vertical-align: top;\n",
       "    }\n",
       "\n",
       "    .dataframe thead th {\n",
       "        text-align: right;\n",
       "    }\n",
       "</style>\n",
       "<table border=\"1\" class=\"dataframe\">\n",
       "  <thead>\n",
       "    <tr style=\"text-align: right;\">\n",
       "      <th>y</th>\n",
       "      <th>no</th>\n",
       "      <th>yes</th>\n",
       "      <th>All</th>\n",
       "    </tr>\n",
       "    <tr>\n",
       "      <th>loan</th>\n",
       "      <th></th>\n",
       "      <th></th>\n",
       "      <th></th>\n",
       "    </tr>\n",
       "  </thead>\n",
       "  <tbody>\n",
       "    <tr>\n",
       "      <th>no</th>\n",
       "      <td>33162</td>\n",
       "      <td>4805</td>\n",
       "      <td>37967</td>\n",
       "    </tr>\n",
       "    <tr>\n",
       "      <th>yes</th>\n",
       "      <td>6760</td>\n",
       "      <td>484</td>\n",
       "      <td>7244</td>\n",
       "    </tr>\n",
       "    <tr>\n",
       "      <th>All</th>\n",
       "      <td>39922</td>\n",
       "      <td>5289</td>\n",
       "      <td>45211</td>\n",
       "    </tr>\n",
       "  </tbody>\n",
       "</table>\n",
       "</div>"
      ],
      "text/plain": [
       "y        no   yes    All\n",
       "loan                    \n",
       "no    33162  4805  37967\n",
       "yes    6760   484   7244\n",
       "All   39922  5289  45211"
      ]
     },
     "metadata": {},
     "output_type": "display_data"
    },
    {
     "data": {
      "image/png": "[encoded data removed]",
      "text/plain": [
       "<Figure size 432x288 with 1 Axes>"
      ]
     },
     "metadata": {
      "needs_background": "light"
     },
     "output_type": "display_data"
    }
   ],
   "source": [
    "sns.countplot(data=bank_data, x=\"loan\", hue=\"y\", palette=\"OrRd\")\n",
    "\n",
    "display(pd.crosstab(bank_data[\"loan\"], bank_data[\"y\"], margins=True))"
   ]
  },
  {
   "cell_type": "markdown",
   "id": "f42055e9-3f04-421c-b806-ba74657805ba",
   "metadata": {},
   "source": [
    "##### 7J) Analyzing the variable \"contact\" by target variable \"y\""
   ]
  },
  {
   "cell_type": "code",
   "execution_count": 45,
   "id": "6f5c2302-45e3-4976-8071-a6a993de8418",
   "metadata": {},
   "outputs": [
    {
     "data": {
      "text/html": [
       "<div>\n",
       "<style scoped>\n",
       "    .dataframe tbody tr th:only-of-type {\n",
       "        vertical-align: middle;\n",
       "    }\n",
       "\n",
       "    .dataframe tbody tr th {\n",
       "        vertical-align: top;\n",
       "    }\n",
       "\n",
       "    .dataframe thead th {\n",
       "        text-align: right;\n",
       "    }\n",
       "</style>\n",
       "<table border=\"1\" class=\"dataframe\">\n",
       "  <thead>\n",
       "    <tr style=\"text-align: right;\">\n",
       "      <th>y</th>\n",
       "      <th>no</th>\n",
       "      <th>yes</th>\n",
       "      <th>All</th>\n",
       "    </tr>\n",
       "    <tr>\n",
       "      <th>contact</th>\n",
       "      <th></th>\n",
       "      <th></th>\n",
       "      <th></th>\n",
       "    </tr>\n",
       "  </thead>\n",
       "  <tbody>\n",
       "    <tr>\n",
       "      <th>cellular</th>\n",
       "      <td>24916</td>\n",
       "      <td>4369</td>\n",
       "      <td>29285</td>\n",
       "    </tr>\n",
       "    <tr>\n",
       "      <th>telephone</th>\n",
       "      <td>2516</td>\n",
       "      <td>390</td>\n",
       "      <td>2906</td>\n",
       "    </tr>\n",
       "    <tr>\n",
       "      <th>unknown</th>\n",
       "      <td>12490</td>\n",
       "      <td>530</td>\n",
       "      <td>13020</td>\n",
       "    </tr>\n",
       "    <tr>\n",
       "      <th>All</th>\n",
       "      <td>39922</td>\n",
       "      <td>5289</td>\n",
       "      <td>45211</td>\n",
       "    </tr>\n",
       "  </tbody>\n",
       "</table>\n",
       "</div>"
      ],
      "text/plain": [
       "y             no   yes    All\n",
       "contact                      \n",
       "cellular   24916  4369  29285\n",
       "telephone   2516   390   2906\n",
       "unknown    12490   530  13020\n",
       "All        39922  5289  45211"
      ]
     },
     "metadata": {},
     "output_type": "display_data"
    },
    {
     "data": {
      "image/png": "[encoded data removed]",
      "text/plain": [
       "<Figure size 432x288 with 1 Axes>"
      ]
     },
     "metadata": {
      "needs_background": "light"
     },
     "output_type": "display_data"
    }
   ],
   "source": [
    "sns.countplot(data=bank_data, x=\"contact\", hue=\"y\", palette=\"OrRd\", )\n",
    "\n",
    "display(pd.crosstab(bank_data[\"contact\"], bank_data[\"y\"], margins=True))"
   ]
  },
  {
   "cell_type": "markdown",
   "id": "e6eb57eb-5717-4d13-b061-47079d8902a3",
   "metadata": {},
   "source": [
    "##### 7K) Analyzing the variable \"month\" by target variable \"y\""
   ]
  },
  {
   "cell_type": "code",
   "execution_count": 46,
   "id": "f295095d-81ed-4b69-83c1-42798207d680",
   "metadata": {},
   "outputs": [
    {
     "data": {
      "text/html": [
       "<div>\n",
       "<style scoped>\n",
       "    .dataframe tbody tr th:only-of-type {\n",
       "        vertical-align: middle;\n",
       "    }\n",
       "\n",
       "    .dataframe tbody tr th {\n",
       "        vertical-align: top;\n",
       "    }\n",
       "\n",
       "    .dataframe thead th {\n",
       "        text-align: right;\n",
       "    }\n",
       "</style>\n",
       "<table border=\"1\" class=\"dataframe\">\n",
       "  <thead>\n",
       "    <tr style=\"text-align: right;\">\n",
       "      <th>y</th>\n",
       "      <th>no</th>\n",
       "      <th>yes</th>\n",
       "      <th>All</th>\n",
       "    </tr>\n",
       "    <tr>\n",
       "      <th>month</th>\n",
       "      <th></th>\n",
       "      <th></th>\n",
       "      <th></th>\n",
       "    </tr>\n",
       "  </thead>\n",
       "  <tbody>\n",
       "    <tr>\n",
       "      <th>apr</th>\n",
       "      <td>2355</td>\n",
       "      <td>577</td>\n",
       "      <td>2932</td>\n",
       "    </tr>\n",
       "    <tr>\n",
       "      <th>aug</th>\n",
       "      <td>5559</td>\n",
       "      <td>688</td>\n",
       "      <td>6247</td>\n",
       "    </tr>\n",
       "    <tr>\n",
       "      <th>dec</th>\n",
       "      <td>114</td>\n",
       "      <td>100</td>\n",
       "      <td>214</td>\n",
       "    </tr>\n",
       "    <tr>\n",
       "      <th>feb</th>\n",
       "      <td>2208</td>\n",
       "      <td>441</td>\n",
       "      <td>2649</td>\n",
       "    </tr>\n",
       "    <tr>\n",
       "      <th>jan</th>\n",
       "      <td>1261</td>\n",
       "      <td>142</td>\n",
       "      <td>1403</td>\n",
       "    </tr>\n",
       "    <tr>\n",
       "      <th>jul</th>\n",
       "      <td>6268</td>\n",
       "      <td>627</td>\n",
       "      <td>6895</td>\n",
       "    </tr>\n",
       "    <tr>\n",
       "      <th>jun</th>\n",
       "      <td>4795</td>\n",
       "      <td>546</td>\n",
       "      <td>5341</td>\n",
       "    </tr>\n",
       "    <tr>\n",
       "      <th>mar</th>\n",
       "      <td>229</td>\n",
       "      <td>248</td>\n",
       "      <td>477</td>\n",
       "    </tr>\n",
       "    <tr>\n",
       "      <th>may</th>\n",
       "      <td>12841</td>\n",
       "      <td>925</td>\n",
       "      <td>13766</td>\n",
       "    </tr>\n",
       "    <tr>\n",
       "      <th>nov</th>\n",
       "      <td>3567</td>\n",
       "      <td>403</td>\n",
       "      <td>3970</td>\n",
       "    </tr>\n",
       "    <tr>\n",
       "      <th>oct</th>\n",
       "      <td>415</td>\n",
       "      <td>323</td>\n",
       "      <td>738</td>\n",
       "    </tr>\n",
       "    <tr>\n",
       "      <th>sep</th>\n",
       "      <td>310</td>\n",
       "      <td>269</td>\n",
       "      <td>579</td>\n",
       "    </tr>\n",
       "    <tr>\n",
       "      <th>All</th>\n",
       "      <td>39922</td>\n",
       "      <td>5289</td>\n",
       "      <td>45211</td>\n",
       "    </tr>\n",
       "  </tbody>\n",
       "</table>\n",
       "</div>"
      ],
      "text/plain": [
       "y         no   yes    All\n",
       "month                    \n",
       "apr     2355   577   2932\n",
       "aug     5559   688   6247\n",
       "dec      114   100    214\n",
       "feb     2208   441   2649\n",
       "jan     1261   142   1403\n",
       "jul     6268   627   6895\n",
       "jun     4795   546   5341\n",
       "mar      229   248    477\n",
       "may    12841   925  13766\n",
       "nov     3567   403   3970\n",
       "oct      415   323    738\n",
       "sep      310   269    579\n",
       "All    39922  5289  45211"
      ]
     },
     "metadata": {},
     "output_type": "display_data"
    },
    {
     "data": {
      "image/png": "[encoded data removed]",
      "text/plain": [
       "<Figure size 432x288 with 1 Axes>"
      ]
     },
     "metadata": {
      "needs_background": "light"
     },
     "output_type": "display_data"
    }
   ],
   "source": [
    "sns.countplot(data=bank_data, y=\"month\", hue=\"y\", palette=\"OrRd\", )\n",
    "\n",
    "display(pd.crosstab(bank_data[\"month\"], bank_data[\"y\"], margins=True))"
   ]
  },
  {
   "cell_type": "markdown",
   "id": "9a2ae3c5-6694-40c0-8731-8e900625cd38",
   "metadata": {},
   "source": [
    "##### 7L) Analyzing the variable \"poutcome\" by target variable \"y\""
   ]
  },
  {
   "cell_type": "code",
   "execution_count": 47,
   "id": "33684929-cefc-42f7-b66c-1dbc577ef6f8",
   "metadata": {},
   "outputs": [
    {
     "data": {
      "text/html": [
       "<div>\n",
       "<style scoped>\n",
       "    .dataframe tbody tr th:only-of-type {\n",
       "        vertical-align: middle;\n",
       "    }\n",
       "\n",
       "    .dataframe tbody tr th {\n",
       "        vertical-align: top;\n",
       "    }\n",
       "\n",
       "    .dataframe thead th {\n",
       "        text-align: right;\n",
       "    }\n",
       "</style>\n",
       "<table border=\"1\" class=\"dataframe\">\n",
       "  <thead>\n",
       "    <tr style=\"text-align: right;\">\n",
       "      <th>y</th>\n",
       "      <th>no</th>\n",
       "      <th>yes</th>\n",
       "      <th>All</th>\n",
       "    </tr>\n",
       "    <tr>\n",
       "      <th>poutcome</th>\n",
       "      <th></th>\n",
       "      <th></th>\n",
       "      <th></th>\n",
       "    </tr>\n",
       "  </thead>\n",
       "  <tbody>\n",
       "    <tr>\n",
       "      <th>failure</th>\n",
       "      <td>4283</td>\n",
       "      <td>618</td>\n",
       "      <td>4901</td>\n",
       "    </tr>\n",
       "    <tr>\n",
       "      <th>other</th>\n",
       "      <td>1533</td>\n",
       "      <td>307</td>\n",
       "      <td>1840</td>\n",
       "    </tr>\n",
       "    <tr>\n",
       "      <th>success</th>\n",
       "      <td>533</td>\n",
       "      <td>978</td>\n",
       "      <td>1511</td>\n",
       "    </tr>\n",
       "    <tr>\n",
       "      <th>unknown</th>\n",
       "      <td>33573</td>\n",
       "      <td>3386</td>\n",
       "      <td>36959</td>\n",
       "    </tr>\n",
       "    <tr>\n",
       "      <th>All</th>\n",
       "      <td>39922</td>\n",
       "      <td>5289</td>\n",
       "      <td>45211</td>\n",
       "    </tr>\n",
       "  </tbody>\n",
       "</table>\n",
       "</div>"
      ],
      "text/plain": [
       "y            no   yes    All\n",
       "poutcome                    \n",
       "failure    4283   618   4901\n",
       "other      1533   307   1840\n",
       "success     533   978   1511\n",
       "unknown   33573  3386  36959\n",
       "All       39922  5289  45211"
      ]
     },
     "metadata": {},
     "output_type": "display_data"
    },
    {
     "data": {
      "image/png": "[encoded data removed]",
      "text/plain": [
       "<Figure size 432x288 with 1 Axes>"
      ]
     },
     "metadata": {
      "needs_background": "light"
     },
     "output_type": "display_data"
    }
   ],
   "source": [
    "sns.countplot(data=bank_data, x=\"poutcome\", hue=\"y\", palette=\"OrRd\", )\n",
    "\n",
    "display(pd.crosstab(bank_data[\"poutcome\"], bank_data[\"y\"], margins=True))"
   ]
  },
  {
   "cell_type": "markdown",
   "id": "65014cdd-ef70-4e90-8881-56324f6da2f4",
   "metadata": {},
   "source": [
    "### <b>DATA PREPROCESSING</b>"
   ]
  },
  {
   "cell_type": "markdown",
   "id": "793b1015-2255-4f14-a563-d14b49aadffe",
   "metadata": {},
   "source": [
    "#### 1) Remove the features \"day\" & \"month\" because they aren't useful for predicting the outcome of future marketing campaigns"
   ]
  },
  {
   "cell_type": "code",
   "execution_count": 48,
   "id": "04a9a2c1-c2e7-4332-a768-cafefee5dd78",
   "metadata": {},
   "outputs": [
    {
     "data": {
      "text/html": [
       "<div>\n",
       "<style scoped>\n",
       "    .dataframe tbody tr th:only-of-type {\n",
       "        vertical-align: middle;\n",
       "    }\n",
       "\n",
       "    .dataframe tbody tr th {\n",
       "        vertical-align: top;\n",
       "    }\n",
       "\n",
       "    .dataframe thead th {\n",
       "        text-align: right;\n",
       "    }\n",
       "</style>\n",
       "<table border=\"1\" class=\"dataframe\">\n",
       "  <thead>\n",
       "    <tr style=\"text-align: right;\">\n",
       "      <th></th>\n",
       "      <th>age</th>\n",
       "      <th>job</th>\n",
       "      <th>marital</th>\n",
       "      <th>education</th>\n",
       "      <th>default</th>\n",
       "      <th>balance</th>\n",
       "      <th>housing</th>\n",
       "      <th>loan</th>\n",
       "      <th>contact</th>\n",
       "      <th>duration</th>\n",
       "      <th>campaign</th>\n",
       "      <th>pdays</th>\n",
       "      <th>previous</th>\n",
       "      <th>poutcome</th>\n",
       "      <th>y</th>\n",
       "    </tr>\n",
       "  </thead>\n",
       "  <tbody>\n",
       "    <tr>\n",
       "      <th>0</th>\n",
       "      <td>58</td>\n",
       "      <td>management</td>\n",
       "      <td>married</td>\n",
       "      <td>tertiary</td>\n",
       "      <td>no</td>\n",
       "      <td>2143</td>\n",
       "      <td>yes</td>\n",
       "      <td>no</td>\n",
       "      <td>unknown</td>\n",
       "      <td>261</td>\n",
       "      <td>1</td>\n",
       "      <td>-1</td>\n",
       "      <td>0</td>\n",
       "      <td>unknown</td>\n",
       "      <td>no</td>\n",
       "    </tr>\n",
       "    <tr>\n",
       "      <th>1</th>\n",
       "      <td>44</td>\n",
       "      <td>technician</td>\n",
       "      <td>single</td>\n",
       "      <td>secondary</td>\n",
       "      <td>no</td>\n",
       "      <td>29</td>\n",
       "      <td>yes</td>\n",
       "      <td>no</td>\n",
       "      <td>unknown</td>\n",
       "      <td>151</td>\n",
       "      <td>1</td>\n",
       "      <td>-1</td>\n",
       "      <td>0</td>\n",
       "      <td>unknown</td>\n",
       "      <td>no</td>\n",
       "    </tr>\n",
       "    <tr>\n",
       "      <th>2</th>\n",
       "      <td>33</td>\n",
       "      <td>entrepreneur</td>\n",
       "      <td>married</td>\n",
       "      <td>secondary</td>\n",
       "      <td>no</td>\n",
       "      <td>2</td>\n",
       "      <td>yes</td>\n",
       "      <td>yes</td>\n",
       "      <td>unknown</td>\n",
       "      <td>76</td>\n",
       "      <td>1</td>\n",
       "      <td>-1</td>\n",
       "      <td>0</td>\n",
       "      <td>unknown</td>\n",
       "      <td>no</td>\n",
       "    </tr>\n",
       "    <tr>\n",
       "      <th>3</th>\n",
       "      <td>47</td>\n",
       "      <td>blue-collar</td>\n",
       "      <td>married</td>\n",
       "      <td>unknown</td>\n",
       "      <td>no</td>\n",
       "      <td>1506</td>\n",
       "      <td>yes</td>\n",
       "      <td>no</td>\n",
       "      <td>unknown</td>\n",
       "      <td>92</td>\n",
       "      <td>1</td>\n",
       "      <td>-1</td>\n",
       "      <td>0</td>\n",
       "      <td>unknown</td>\n",
       "      <td>no</td>\n",
       "    </tr>\n",
       "  </tbody>\n",
       "</table>\n",
       "</div>"
      ],
      "text/plain": [
       "   age           job  marital  education default  balance housing loan  \\\n",
       "0   58    management  married   tertiary      no     2143     yes   no   \n",
       "1   44    technician   single  secondary      no       29     yes   no   \n",
       "2   33  entrepreneur  married  secondary      no        2     yes  yes   \n",
       "3   47   blue-collar  married    unknown      no     1506     yes   no   \n",
       "\n",
       "   contact  duration  campaign  pdays  previous poutcome   y  \n",
       "0  unknown       261         1     -1         0  unknown  no  \n",
       "1  unknown       151         1     -1         0  unknown  no  \n",
       "2  unknown        76         1     -1         0  unknown  no  \n",
       "3  unknown        92         1     -1         0  unknown  no  "
      ]
     },
     "execution_count": 48,
     "metadata": {},
     "output_type": "execute_result"
    }
   ],
   "source": [
    "bank_data.drop(columns=[\"day\", \"month\"], inplace=True)\n",
    "bank_data.head(4)"
   ]
  },
  {
   "cell_type": "markdown",
   "id": "907ad200-9576-4ac2-8fbf-24b7e1b47380",
   "metadata": {},
   "source": [
    "#### 2) Remove the feature \"duration\" because it won't be useful for predicting the outcome of future marketing campaigns."
   ]
  },
  {
   "cell_type": "code",
   "execution_count": 49,
   "id": "60b183bc-62f9-4dcc-8891-8d205c1deeae",
   "metadata": {},
   "outputs": [
    {
     "data": {
      "text/html": [
       "<div>\n",
       "<style scoped>\n",
       "    .dataframe tbody tr th:only-of-type {\n",
       "        vertical-align: middle;\n",
       "    }\n",
       "\n",
       "    .dataframe tbody tr th {\n",
       "        vertical-align: top;\n",
       "    }\n",
       "\n",
       "    .dataframe thead th {\n",
       "        text-align: right;\n",
       "    }\n",
       "</style>\n",
       "<table border=\"1\" class=\"dataframe\">\n",
       "  <thead>\n",
       "    <tr style=\"text-align: right;\">\n",
       "      <th></th>\n",
       "      <th>age</th>\n",
       "      <th>job</th>\n",
       "      <th>marital</th>\n",
       "      <th>education</th>\n",
       "      <th>default</th>\n",
       "      <th>balance</th>\n",
       "      <th>housing</th>\n",
       "      <th>loan</th>\n",
       "      <th>contact</th>\n",
       "      <th>campaign</th>\n",
       "      <th>pdays</th>\n",
       "      <th>previous</th>\n",
       "      <th>poutcome</th>\n",
       "      <th>y</th>\n",
       "    </tr>\n",
       "  </thead>\n",
       "  <tbody>\n",
       "    <tr>\n",
       "      <th>0</th>\n",
       "      <td>58</td>\n",
       "      <td>management</td>\n",
       "      <td>married</td>\n",
       "      <td>tertiary</td>\n",
       "      <td>no</td>\n",
       "      <td>2143</td>\n",
       "      <td>yes</td>\n",
       "      <td>no</td>\n",
       "      <td>unknown</td>\n",
       "      <td>1</td>\n",
       "      <td>-1</td>\n",
       "      <td>0</td>\n",
       "      <td>unknown</td>\n",
       "      <td>no</td>\n",
       "    </tr>\n",
       "    <tr>\n",
       "      <th>1</th>\n",
       "      <td>44</td>\n",
       "      <td>technician</td>\n",
       "      <td>single</td>\n",
       "      <td>secondary</td>\n",
       "      <td>no</td>\n",
       "      <td>29</td>\n",
       "      <td>yes</td>\n",
       "      <td>no</td>\n",
       "      <td>unknown</td>\n",
       "      <td>1</td>\n",
       "      <td>-1</td>\n",
       "      <td>0</td>\n",
       "      <td>unknown</td>\n",
       "      <td>no</td>\n",
       "    </tr>\n",
       "    <tr>\n",
       "      <th>2</th>\n",
       "      <td>33</td>\n",
       "      <td>entrepreneur</td>\n",
       "      <td>married</td>\n",
       "      <td>secondary</td>\n",
       "      <td>no</td>\n",
       "      <td>2</td>\n",
       "      <td>yes</td>\n",
       "      <td>yes</td>\n",
       "      <td>unknown</td>\n",
       "      <td>1</td>\n",
       "      <td>-1</td>\n",
       "      <td>0</td>\n",
       "      <td>unknown</td>\n",
       "      <td>no</td>\n",
       "    </tr>\n",
       "    <tr>\n",
       "      <th>3</th>\n",
       "      <td>47</td>\n",
       "      <td>blue-collar</td>\n",
       "      <td>married</td>\n",
       "      <td>unknown</td>\n",
       "      <td>no</td>\n",
       "      <td>1506</td>\n",
       "      <td>yes</td>\n",
       "      <td>no</td>\n",
       "      <td>unknown</td>\n",
       "      <td>1</td>\n",
       "      <td>-1</td>\n",
       "      <td>0</td>\n",
       "      <td>unknown</td>\n",
       "      <td>no</td>\n",
       "    </tr>\n",
       "  </tbody>\n",
       "</table>\n",
       "</div>"
      ],
      "text/plain": [
       "   age           job  marital  education default  balance housing loan  \\\n",
       "0   58    management  married   tertiary      no     2143     yes   no   \n",
       "1   44    technician   single  secondary      no       29     yes   no   \n",
       "2   33  entrepreneur  married  secondary      no        2     yes  yes   \n",
       "3   47   blue-collar  married    unknown      no     1506     yes   no   \n",
       "\n",
       "   contact  campaign  pdays  previous poutcome   y  \n",
       "0  unknown         1     -1         0  unknown  no  \n",
       "1  unknown         1     -1         0  unknown  no  \n",
       "2  unknown         1     -1         0  unknown  no  \n",
       "3  unknown         1     -1         0  unknown  no  "
      ]
     },
     "execution_count": 49,
     "metadata": {},
     "output_type": "execute_result"
    }
   ],
   "source": [
    "bank_data.drop(columns=[\"duration\"], inplace=True)\n",
    "bank_data.head(4)"
   ]
  },
  {
   "cell_type": "markdown",
   "id": "2c2ae55b-72af-43c5-893e-6089337a08db",
   "metadata": {},
   "source": [
    "#### 2) Handle missing values\n",
    "\n",
    "* In the EDA phase, I saw that none of the features have missing values.\n",
    "\n",
    "* However, on closer inspection, I saw that three of the features, \"education\", \"contact\", \"job\", & \"poutcome\" have values called \"unknown\". \n",
    "\n",
    "* Assuming that \"unknown\" is a code for null values, I will treat \"unknown\" values as missing values."
   ]
  },
  {
   "cell_type": "markdown",
   "id": "b85673ef-61c7-4ee9-bfea-8bf913f64d77",
   "metadata": {},
   "source": [
    "##### 2A) Replace \"unknown\" with Null values in the feature \"job\""
   ]
  },
  {
   "cell_type": "code",
   "execution_count": 50,
   "id": "7ab00250-4c4d-443c-8fe8-ba5934e49b2b",
   "metadata": {},
   "outputs": [],
   "source": [
    "bank_data[\"job\"] = bank_data[\"job\"].replace({\"unknown\":np.nan}) "
   ]
  },
  {
   "cell_type": "code",
   "execution_count": 51,
   "id": "8ffa8ed1-428b-40c4-87ed-6ca23ab42a07",
   "metadata": {},
   "outputs": [
    {
     "data": {
      "text/plain": [
       "blue-collar      9732\n",
       "management       9458\n",
       "technician       7597\n",
       "admin.           5171\n",
       "services         4154\n",
       "retired          2264\n",
       "self-employed    1579\n",
       "entrepreneur     1487\n",
       "unemployed       1303\n",
       "housemaid        1240\n",
       "student           938\n",
       "NaN               288\n",
       "Name: job, dtype: int64"
      ]
     },
     "metadata": {},
     "output_type": "display_data"
    },
    {
     "name": "stdout",
     "output_type": "stream",
     "text": [
      "_______________________\n"
     ]
    },
    {
     "data": {
      "text/plain": [
       "blue-collar      0.215257\n",
       "management       0.209197\n",
       "technician       0.168034\n",
       "admin.           0.114375\n",
       "services         0.091880\n",
       "retired          0.050076\n",
       "self-employed    0.034925\n",
       "entrepreneur     0.032890\n",
       "unemployed       0.028820\n",
       "housemaid        0.027427\n",
       "student          0.020747\n",
       "NaN              0.006370\n",
       "Name: job, dtype: float64"
      ]
     },
     "metadata": {},
     "output_type": "display_data"
    }
   ],
   "source": [
    "display(bank_data[\"job\"].value_counts(dropna=False))\n",
    "print(\"_______________________\")\n",
    "display(bank_data[\"job\"].value_counts(dropna=False, normalize=True))"
   ]
  },
  {
   "cell_type": "markdown",
   "id": "3d9fab56-279d-447a-aa58-16557f6a9d65",
   "metadata": {},
   "source": [
    "##### 2B) Replace \"unknown\" with Null values in the feature \"education\""
   ]
  },
  {
   "cell_type": "code",
   "execution_count": 52,
   "id": "e02692e5-8152-4667-9d21-941fa66b736f",
   "metadata": {},
   "outputs": [],
   "source": [
    "bank_data[\"education\"] = bank_data[\"education\"].replace({\"unknown\":np.nan}) "
   ]
  },
  {
   "cell_type": "code",
   "execution_count": 53,
   "id": "060467a9-ca9f-481d-962a-81e946facfd2",
   "metadata": {},
   "outputs": [
    {
     "data": {
      "text/plain": [
       "secondary    23202\n",
       "tertiary     13301\n",
       "primary       6851\n",
       "NaN           1857\n",
       "Name: education, dtype: int64"
      ]
     },
     "metadata": {},
     "output_type": "display_data"
    },
    {
     "name": "stdout",
     "output_type": "stream",
     "text": [
      "_______________________\n"
     ]
    },
    {
     "data": {
      "text/plain": [
       "secondary    0.513194\n",
       "tertiary     0.294198\n",
       "primary      0.151534\n",
       "NaN          0.041074\n",
       "Name: education, dtype: float64"
      ]
     },
     "metadata": {},
     "output_type": "display_data"
    }
   ],
   "source": [
    "display(bank_data[\"education\"].value_counts(dropna=False))\n",
    "print(\"_______________________\")\n",
    "display(bank_data[\"education\"].value_counts(dropna=False, normalize=True))"
   ]
  },
  {
   "cell_type": "markdown",
   "id": "f0cb7742-7976-446a-8806-123e06b56722",
   "metadata": {},
   "source": [
    "##### 2C) Replace \"unknown\" with Null values in the feature \"poutcome\""
   ]
  },
  {
   "cell_type": "code",
   "execution_count": 54,
   "id": "298376b9-ba5b-4b85-894a-bdca45ab2ffb",
   "metadata": {},
   "outputs": [],
   "source": [
    "bank_data[\"poutcome\"] = bank_data[\"poutcome\"].replace({\"unknown\":np.nan}) "
   ]
  },
  {
   "cell_type": "code",
   "execution_count": 55,
   "id": "e5015558-7ffa-4c5d-bda4-d80609dd1ea6",
   "metadata": {},
   "outputs": [
    {
     "data": {
      "text/plain": [
       "NaN        36959\n",
       "failure     4901\n",
       "other       1840\n",
       "success     1511\n",
       "Name: poutcome, dtype: int64"
      ]
     },
     "metadata": {},
     "output_type": "display_data"
    },
    {
     "name": "stdout",
     "output_type": "stream",
     "text": [
      "_______________________\n"
     ]
    },
    {
     "data": {
      "text/plain": [
       "NaN        0.817478\n",
       "failure    0.108403\n",
       "other      0.040698\n",
       "success    0.033421\n",
       "Name: poutcome, dtype: float64"
      ]
     },
     "metadata": {},
     "output_type": "display_data"
    }
   ],
   "source": [
    "display(bank_data[\"poutcome\"].value_counts(dropna=False))\n",
    "print(\"_______________________\")\n",
    "display(bank_data[\"poutcome\"].value_counts(dropna=False, normalize=True))"
   ]
  },
  {
   "cell_type": "markdown",
   "id": "614df964-7047-4e59-86e9-e70323b72813",
   "metadata": {},
   "source": [
    "#####  2D) Replace \"unknown \" with Null values in the feature \"contact\""
   ]
  },
  {
   "cell_type": "code",
   "execution_count": 56,
   "id": "2e911b83-c11e-4440-82da-97df626e2632",
   "metadata": {},
   "outputs": [],
   "source": [
    "bank_data[\"contact\"] = bank_data[\"contact\"].replace({\"unknown\":np.nan}) "
   ]
  },
  {
   "cell_type": "code",
   "execution_count": 57,
   "id": "6e1328d3-8337-4b32-8dee-6379f843844f",
   "metadata": {},
   "outputs": [
    {
     "data": {
      "text/plain": [
       "cellular     29285\n",
       "NaN          13020\n",
       "telephone     2906\n",
       "Name: contact, dtype: int64"
      ]
     },
     "metadata": {},
     "output_type": "display_data"
    },
    {
     "name": "stdout",
     "output_type": "stream",
     "text": [
      "_______________________\n"
     ]
    },
    {
     "data": {
      "text/plain": [
       "cellular     0.647741\n",
       "NaN          0.287983\n",
       "telephone    0.064276\n",
       "Name: contact, dtype: float64"
      ]
     },
     "metadata": {},
     "output_type": "display_data"
    }
   ],
   "source": [
    "display(bank_data[\"contact\"].value_counts(dropna=False))\n",
    "print(\"_______________________\")\n",
    "display(bank_data[\"contact\"].value_counts(dropna=False, normalize=True))"
   ]
  },
  {
   "cell_type": "markdown",
   "id": "95d93ef7-80e4-4258-9efc-2015c1ef5bee",
   "metadata": {},
   "source": [
    "#####  2E) Impute the missing values in categorical features \"job\" & \"education\"\n",
    "\n",
    "1. \"job\" = I replace the Null values with the most frequent category. I will get the most frequent category using \"mode()\" function.\n",
    "2. \"education\" = I replace the Null values with the most frequent category. I will get the most frequent category using \"mode()\" function."
   ]
  },
  {
   "cell_type": "code",
   "execution_count": 58,
   "id": "3c40aa98-090f-4dcf-8027-816a6792b494",
   "metadata": {},
   "outputs": [
    {
     "data": {
      "text/plain": [
       "288"
      ]
     },
     "execution_count": 58,
     "metadata": {},
     "output_type": "execute_result"
    }
   ],
   "source": [
    "# Count the number of Null values in the feature \"job\"\n",
    "\n",
    "bank_data[\"job\"].isnull().sum()"
   ]
  },
  {
   "cell_type": "code",
   "execution_count": 59,
   "id": "29c6b618-b7db-43b9-ba0f-46b10d9e7efa",
   "metadata": {},
   "outputs": [
    {
     "data": {
      "text/plain": [
       "blue-collar      9732\n",
       "management       9458\n",
       "technician       7597\n",
       "admin.           5171\n",
       "services         4154\n",
       "retired          2264\n",
       "self-employed    1579\n",
       "entrepreneur     1487\n",
       "unemployed       1303\n",
       "housemaid        1240\n",
       "student           938\n",
       "NaN               288\n",
       "Name: job, dtype: int64"
      ]
     },
     "execution_count": 59,
     "metadata": {},
     "output_type": "execute_result"
    }
   ],
   "source": [
    "# View the count of all unique categories, including Null values, in the feature \"job\"\n",
    "\n",
    "bank_data[\"job\"].value_counts(dropna=False)"
   ]
  },
  {
   "cell_type": "code",
   "execution_count": 60,
   "id": "6e9b8faf-43f0-4af5-b534-281dae7c91eb",
   "metadata": {},
   "outputs": [
    {
     "data": {
      "text/plain": [
       "blue-collar      10020\n",
       "management        9458\n",
       "technician        7597\n",
       "admin.            5171\n",
       "services          4154\n",
       "retired           2264\n",
       "self-employed     1579\n",
       "entrepreneur      1487\n",
       "unemployed        1303\n",
       "housemaid         1240\n",
       "student            938\n",
       "Name: job, dtype: int64"
      ]
     },
     "metadata": {},
     "output_type": "display_data"
    }
   ],
   "source": [
    "# Replace the Null values in the feature \"job\" with the most frequent category\n",
    "\n",
    "job_mode_value = bank_data[\"job\"].mode()[0]\n",
    "bank_data[\"job\"].fillna(value=job_mode_value, inplace=True)\n",
    "display(bank_data[\"job\"].value_counts(dropna=False))"
   ]
  },
  {
   "cell_type": "code",
   "execution_count": 61,
   "id": "c1cd917a-d69a-403d-adc6-f6bb91a8ae21",
   "metadata": {},
   "outputs": [
    {
     "data": {
      "text/plain": [
       "<AxesSubplot:xlabel='count', ylabel='job'>"
      ]
     },
     "metadata": {},
     "output_type": "display_data"
    },
    {
     "data": {
      "text/plain": [
       "Text(0.5, 1.0, 'Subscription by Job Type')"
      ]
     },
     "execution_count": 61,
     "metadata": {},
     "output_type": "execute_result"
    },
    {
     "data": {
      "image/png": "[encoded data removed]",
      "text/plain": [
       "<Figure size 432x288 with 1 Axes>"
      ]
     },
     "metadata": {
      "needs_background": "light"
     },
     "output_type": "display_data"
    }
   ],
   "source": [
    "display(sns.countplot(data=bank_data, y=\"job\", hue=\"y\", palette=\"OrRd\"))\n",
    "plt.title(\"Subscription by Job Type\")"
   ]
  },
  {
   "cell_type": "code",
   "execution_count": 62,
   "id": "77516017-c2c1-4906-8731-030c505de6be",
   "metadata": {},
   "outputs": [
    {
     "data": {
      "text/plain": [
       "1857"
      ]
     },
     "execution_count": 62,
     "metadata": {},
     "output_type": "execute_result"
    }
   ],
   "source": [
    "# Count the number of Null values in the feature \"education\"\n",
    "\n",
    "bank_data[\"education\"].isnull().sum()"
   ]
  },
  {
   "cell_type": "code",
   "execution_count": 63,
   "id": "07b827ed-2da6-4bd4-81aa-73e549b5410c",
   "metadata": {},
   "outputs": [
    {
     "data": {
      "text/plain": [
       "secondary    23202\n",
       "tertiary     13301\n",
       "primary       6851\n",
       "NaN           1857\n",
       "Name: education, dtype: int64"
      ]
     },
     "execution_count": 63,
     "metadata": {},
     "output_type": "execute_result"
    }
   ],
   "source": [
    "# View the count of all unique categories, including Null values, in the feature \"education\"\n",
    "\n",
    "bank_data[\"education\"].value_counts(dropna=False)"
   ]
  },
  {
   "cell_type": "code",
   "execution_count": 64,
   "id": "ad69ed31-b12c-4b6a-8050-a4c9df4567da",
   "metadata": {},
   "outputs": [
    {
     "data": {
      "text/plain": [
       "secondary    25059\n",
       "tertiary     13301\n",
       "primary       6851\n",
       "Name: education, dtype: int64"
      ]
     },
     "metadata": {},
     "output_type": "display_data"
    }
   ],
   "source": [
    "# Replace the Null values in the feature \"education\" with the most frequent category\n",
    "\n",
    "education_mode_value = bank_data[\"education\"].mode()[0]\n",
    "bank_data[\"education\"].fillna(value=education_mode_value, inplace=True)\n",
    "display(bank_data[\"education\"].value_counts(dropna=False))"
   ]
  },
  {
   "cell_type": "code",
   "execution_count": 65,
   "id": "553e1541-4a58-4db5-b9fc-c056ca6c3646",
   "metadata": {},
   "outputs": [
    {
     "data": {
      "text/plain": [
       "<AxesSubplot:xlabel='education', ylabel='count'>"
      ]
     },
     "metadata": {},
     "output_type": "display_data"
    },
    {
     "data": {
      "text/plain": [
       "Text(0.5, 1.0, 'Subscription by Educational Status')"
      ]
     },
     "execution_count": 65,
     "metadata": {},
     "output_type": "execute_result"
    },
    {
     "data": {
      "image/png": "[encoded data removed]",
      "text/plain": [
       "<Figure size 432x288 with 1 Axes>"
      ]
     },
     "metadata": {
      "needs_background": "light"
     },
     "output_type": "display_data"
    }
   ],
   "source": [
    "display(sns.countplot(data=bank_data, x=\"education\", hue=\"y\", palette=\"OrRd\"))\n",
    "plt.title(\"Subscription by Educational Status\")"
   ]
  },
  {
   "cell_type": "code",
   "execution_count": 66,
   "id": "02dbe0a6-c6aa-465a-b42d-21e2fc5e18c9",
   "metadata": {},
   "outputs": [
    {
     "data": {
      "text/plain": [
       "13020"
      ]
     },
     "execution_count": 66,
     "metadata": {},
     "output_type": "execute_result"
    }
   ],
   "source": [
    "# Count the number of Null values in the feature \"contact\"\n",
    "\n",
    "bank_data[\"contact\"].isnull().sum()"
   ]
  },
  {
   "cell_type": "code",
   "execution_count": 67,
   "id": "bf047e1e-3c89-40c6-aab5-2c56d897a29b",
   "metadata": {},
   "outputs": [
    {
     "data": {
      "text/plain": [
       "cellular     29285\n",
       "NaN          13020\n",
       "telephone     2906\n",
       "Name: contact, dtype: int64"
      ]
     },
     "execution_count": 67,
     "metadata": {},
     "output_type": "execute_result"
    }
   ],
   "source": [
    "# View the count of all unique categories, including Null values, in the feature \"contact\"\n",
    "\n",
    "bank_data[\"contact\"].value_counts(dropna=False)"
   ]
  },
  {
   "cell_type": "code",
   "execution_count": 68,
   "id": "e4536adf-0bce-48af-8014-152e2de5ae22",
   "metadata": {},
   "outputs": [
    {
     "data": {
      "text/plain": [
       "cellular     42305\n",
       "telephone     2906\n",
       "Name: contact, dtype: int64"
      ]
     },
     "metadata": {},
     "output_type": "display_data"
    }
   ],
   "source": [
    "# Replace the Null values in the feature \"contact\" with the most frequent category\n",
    "\n",
    "contact_mode_value = bank_data[\"contact\"].mode()[0]\n",
    "bank_data[\"contact\"].fillna(value=contact_mode_value, inplace=True)\n",
    "display(bank_data[\"contact\"].value_counts(dropna=False))"
   ]
  },
  {
   "cell_type": "code",
   "execution_count": 69,
   "id": "6886911e-5ca2-4702-b19c-d16c7b057a7d",
   "metadata": {},
   "outputs": [
    {
     "data": {
      "text/plain": [
       "36959"
      ]
     },
     "execution_count": 69,
     "metadata": {},
     "output_type": "execute_result"
    }
   ],
   "source": [
    "# Count the number of Null values in the feature \"poutcome\"\n",
    "\n",
    "bank_data[\"poutcome\"].isnull().sum()"
   ]
  },
  {
   "cell_type": "code",
   "execution_count": 70,
   "id": "4e6f8231-0796-49e7-b3b8-7966dae9da0a",
   "metadata": {},
   "outputs": [
    {
     "data": {
      "text/plain": [
       "NaN        36959\n",
       "failure     4901\n",
       "other       1840\n",
       "success     1511\n",
       "Name: poutcome, dtype: int64"
      ]
     },
     "execution_count": 70,
     "metadata": {},
     "output_type": "execute_result"
    }
   ],
   "source": [
    "# View the count of all unique categories, including Null values, in the feature \"poutcome\"\n",
    "\n",
    "bank_data[\"poutcome\"].value_counts(dropna=False)"
   ]
  },
  {
   "cell_type": "code",
   "execution_count": 71,
   "id": "df71fe79-6625-4745-abf2-9e887e5f74d8",
   "metadata": {},
   "outputs": [
    {
     "data": {
      "text/plain": [
       "failure    41860\n",
       "other       1840\n",
       "success     1511\n",
       "Name: poutcome, dtype: int64"
      ]
     },
     "metadata": {},
     "output_type": "display_data"
    }
   ],
   "source": [
    "# Replace the Null values in the feature \"poutcome\" with the most frequent category\n",
    "\n",
    "poutcome_mode_value = bank_data[\"poutcome\"].mode()[0]\n",
    "bank_data[\"poutcome\"].fillna(value=poutcome_mode_value, inplace=True)\n",
    "display(bank_data[\"poutcome\"].value_counts(dropna=False))"
   ]
  },
  {
   "cell_type": "markdown",
   "id": "c1cd4dd9-e899-4723-a356-09da40505660",
   "metadata": {},
   "source": [
    "#### 3) Explore the continuous features \"pdays\" & \"previous\" further"
   ]
  },
  {
   "cell_type": "markdown",
   "id": "b0483b40-c96a-4cbf-9ac9-a5f6dc9f3867",
   "metadata": {
    "tags": []
   },
   "source": [
    "##### The UCI website from where I got the dataset states that the value 999 in \"pdays\" feature means client was not previously contacted.\n",
    "\n",
    "##### However, when I analyzed the \"pdays\" variable, I found that there were no records where \"pdays=999\"."
   ]
  },
  {
   "cell_type": "code",
   "execution_count": 72,
   "id": "feb6275e-f26d-4e41-b9dd-27e4894b27ed",
   "metadata": {},
   "outputs": [
    {
     "data": {
      "text/html": [
       "<div>\n",
       "<style scoped>\n",
       "    .dataframe tbody tr th:only-of-type {\n",
       "        vertical-align: middle;\n",
       "    }\n",
       "\n",
       "    .dataframe tbody tr th {\n",
       "        vertical-align: top;\n",
       "    }\n",
       "\n",
       "    .dataframe thead th {\n",
       "        text-align: right;\n",
       "    }\n",
       "</style>\n",
       "<table border=\"1\" class=\"dataframe\">\n",
       "  <thead>\n",
       "    <tr style=\"text-align: right;\">\n",
       "      <th></th>\n",
       "      <th>age</th>\n",
       "      <th>job</th>\n",
       "      <th>marital</th>\n",
       "      <th>education</th>\n",
       "      <th>default</th>\n",
       "      <th>balance</th>\n",
       "      <th>housing</th>\n",
       "      <th>loan</th>\n",
       "      <th>contact</th>\n",
       "      <th>campaign</th>\n",
       "      <th>pdays</th>\n",
       "      <th>previous</th>\n",
       "      <th>poutcome</th>\n",
       "      <th>y</th>\n",
       "    </tr>\n",
       "  </thead>\n",
       "  <tbody>\n",
       "  </tbody>\n",
       "</table>\n",
       "</div>"
      ],
      "text/plain": [
       "Empty DataFrame\n",
       "Columns: [age, job, marital, education, default, balance, housing, loan, contact, campaign, pdays, previous, poutcome, y]\n",
       "Index: []"
      ]
     },
     "execution_count": 72,
     "metadata": {},
     "output_type": "execute_result"
    }
   ],
   "source": [
    "bank_data[bank_data.loc[:, \"pdays\"]==999]"
   ]
  },
  {
   "cell_type": "markdown",
   "id": "baeb50ec-6a63-4d24-ba1f-7da520387161",
   "metadata": {},
   "source": [
    "##### Exploring the values in \"pdays\" variable more, I found that ~81% of the records had a value \"-1\"."
   ]
  },
  {
   "cell_type": "code",
   "execution_count": 73,
   "id": "2cab5480-4b10-4dc9-9265-456fc1123a39",
   "metadata": {},
   "outputs": [
    {
     "data": {
      "text/html": [
       "<div>\n",
       "<style scoped>\n",
       "    .dataframe tbody tr th:only-of-type {\n",
       "        vertical-align: middle;\n",
       "    }\n",
       "\n",
       "    .dataframe tbody tr th {\n",
       "        vertical-align: top;\n",
       "    }\n",
       "\n",
       "    .dataframe thead th {\n",
       "        text-align: right;\n",
       "    }\n",
       "</style>\n",
       "<table border=\"1\" class=\"dataframe\">\n",
       "  <thead>\n",
       "    <tr style=\"text-align: right;\">\n",
       "      <th></th>\n",
       "      <th>age</th>\n",
       "      <th>job</th>\n",
       "      <th>marital</th>\n",
       "      <th>education</th>\n",
       "      <th>default</th>\n",
       "      <th>balance</th>\n",
       "      <th>housing</th>\n",
       "      <th>loan</th>\n",
       "      <th>contact</th>\n",
       "      <th>campaign</th>\n",
       "      <th>pdays</th>\n",
       "      <th>previous</th>\n",
       "      <th>poutcome</th>\n",
       "      <th>y</th>\n",
       "    </tr>\n",
       "  </thead>\n",
       "  <tbody>\n",
       "    <tr>\n",
       "      <th>0</th>\n",
       "      <td>58</td>\n",
       "      <td>management</td>\n",
       "      <td>married</td>\n",
       "      <td>tertiary</td>\n",
       "      <td>no</td>\n",
       "      <td>2143</td>\n",
       "      <td>yes</td>\n",
       "      <td>no</td>\n",
       "      <td>cellular</td>\n",
       "      <td>1</td>\n",
       "      <td>-1</td>\n",
       "      <td>0</td>\n",
       "      <td>failure</td>\n",
       "      <td>no</td>\n",
       "    </tr>\n",
       "    <tr>\n",
       "      <th>1</th>\n",
       "      <td>44</td>\n",
       "      <td>technician</td>\n",
       "      <td>single</td>\n",
       "      <td>secondary</td>\n",
       "      <td>no</td>\n",
       "      <td>29</td>\n",
       "      <td>yes</td>\n",
       "      <td>no</td>\n",
       "      <td>cellular</td>\n",
       "      <td>1</td>\n",
       "      <td>-1</td>\n",
       "      <td>0</td>\n",
       "      <td>failure</td>\n",
       "      <td>no</td>\n",
       "    </tr>\n",
       "    <tr>\n",
       "      <th>2</th>\n",
       "      <td>33</td>\n",
       "      <td>entrepreneur</td>\n",
       "      <td>married</td>\n",
       "      <td>secondary</td>\n",
       "      <td>no</td>\n",
       "      <td>2</td>\n",
       "      <td>yes</td>\n",
       "      <td>yes</td>\n",
       "      <td>cellular</td>\n",
       "      <td>1</td>\n",
       "      <td>-1</td>\n",
       "      <td>0</td>\n",
       "      <td>failure</td>\n",
       "      <td>no</td>\n",
       "    </tr>\n",
       "    <tr>\n",
       "      <th>3</th>\n",
       "      <td>47</td>\n",
       "      <td>blue-collar</td>\n",
       "      <td>married</td>\n",
       "      <td>secondary</td>\n",
       "      <td>no</td>\n",
       "      <td>1506</td>\n",
       "      <td>yes</td>\n",
       "      <td>no</td>\n",
       "      <td>cellular</td>\n",
       "      <td>1</td>\n",
       "      <td>-1</td>\n",
       "      <td>0</td>\n",
       "      <td>failure</td>\n",
       "      <td>no</td>\n",
       "    </tr>\n",
       "    <tr>\n",
       "      <th>4</th>\n",
       "      <td>33</td>\n",
       "      <td>blue-collar</td>\n",
       "      <td>single</td>\n",
       "      <td>secondary</td>\n",
       "      <td>no</td>\n",
       "      <td>1</td>\n",
       "      <td>no</td>\n",
       "      <td>no</td>\n",
       "      <td>cellular</td>\n",
       "      <td>1</td>\n",
       "      <td>-1</td>\n",
       "      <td>0</td>\n",
       "      <td>failure</td>\n",
       "      <td>no</td>\n",
       "    </tr>\n",
       "  </tbody>\n",
       "</table>\n",
       "</div>"
      ],
      "text/plain": [
       "   age           job  marital  education default  balance housing loan  \\\n",
       "0   58    management  married   tertiary      no     2143     yes   no   \n",
       "1   44    technician   single  secondary      no       29     yes   no   \n",
       "2   33  entrepreneur  married  secondary      no        2     yes  yes   \n",
       "3   47   blue-collar  married  secondary      no     1506     yes   no   \n",
       "4   33   blue-collar   single  secondary      no        1      no   no   \n",
       "\n",
       "    contact  campaign  pdays  previous poutcome   y  \n",
       "0  cellular         1     -1         0  failure  no  \n",
       "1  cellular         1     -1         0  failure  no  \n",
       "2  cellular         1     -1         0  failure  no  \n",
       "3  cellular         1     -1         0  failure  no  \n",
       "4  cellular         1     -1         0  failure  no  "
      ]
     },
     "execution_count": 73,
     "metadata": {},
     "output_type": "execute_result"
    }
   ],
   "source": [
    "bank_data[bank_data.loc[:, \"pdays\"]==-1].head()"
   ]
  },
  {
   "cell_type": "code",
   "execution_count": 74,
   "id": "ab1a5f25-5707-4985-98dc-8d4cbe788651",
   "metadata": {},
   "outputs": [
    {
     "data": {
      "text/plain": [
       "-1    36954\n",
       "Name: pdays, dtype: int64"
      ]
     },
     "execution_count": 74,
     "metadata": {},
     "output_type": "execute_result"
    }
   ],
   "source": [
    "bank_data[bank_data.loc[:, \"pdays\"]==-1][\"pdays\"].value_counts()"
   ]
  },
  {
   "cell_type": "code",
   "execution_count": 75,
   "id": "75462dc0-f9e1-4c7a-82c2-229b432fd7d3",
   "metadata": {},
   "outputs": [
    {
     "data": {
      "text/plain": [
       "-1      0.817367\n",
       " 182    0.003694\n",
       " 92     0.003251\n",
       " 91     0.002787\n",
       " 183    0.002787\n",
       "          ...   \n",
       " 449    0.000022\n",
       " 452    0.000022\n",
       " 648    0.000022\n",
       " 595    0.000022\n",
       " 530    0.000022\n",
       "Name: pdays, Length: 559, dtype: float64"
      ]
     },
     "execution_count": 75,
     "metadata": {},
     "output_type": "execute_result"
    }
   ],
   "source": [
    "bank_data[\"pdays\"].value_counts(normalize=True)"
   ]
  },
  {
   "cell_type": "markdown",
   "id": "f4f622a3-28f3-4bc1-b77e-6d127c9ab85f",
   "metadata": {},
   "source": [
    "##### Checking further, I found that wherever \"pdays=-1\", the corresponding values in \"previous\" feature were 0. The feature \"previous\" displays number of contacts performed for the given client before this marketing campaign. Therefore, \"previous=0\" means that the given client was never contacted before this campaing."
   ]
  },
  {
   "cell_type": "code",
   "execution_count": 76,
   "id": "11ccf934-d8a6-44d3-b3a4-76352f4b101f",
   "metadata": {},
   "outputs": [
    {
     "name": "stdout",
     "output_type": "stream",
     "text": [
      "Number of records where 'previous=0': 36954\n"
     ]
    }
   ],
   "source": [
    "len_previous_0 = len(bank_data[(bank_data.loc[:, \"previous\"]==0)][\"previous\"])\n",
    "print(f\"Number of records where 'previous=0': {len_previous_0}\")"
   ]
  },
  {
   "cell_type": "code",
   "execution_count": 77,
   "id": "3e19635d-6057-4eb5-8fdd-3b62b73177dc",
   "metadata": {},
   "outputs": [
    {
     "name": "stdout",
     "output_type": "stream",
     "text": [
      "Number of records where 'previous=0' & 'pdays=-1': 36954\n"
     ]
    }
   ],
   "source": [
    "len_previous0_pdays_neg1 = len(bank_data[(bank_data.loc[:, \"pdays\"]==-1) & (bank_data.loc[:, \"previous\"]==0)][[\"pdays\",\"previous\"]])\n",
    "\n",
    "print(f\"Number of records where 'previous=0' & 'pdays=-1': {len_previous0_pdays_neg1}\")"
   ]
  },
  {
   "cell_type": "markdown",
   "id": "8ccf12ed-4d8c-4c44-b259-6d33a94f9779",
   "metadata": {},
   "source": [
    "##### Equipped with this piece of information, I updated all records to replace -1 with 0 in the feature \"pdays\". In this case, \"pdays=0\" means that the customer was never contacted before this campaign."
   ]
  },
  {
   "cell_type": "code",
   "execution_count": 78,
   "id": "d6c1bc68-4aea-4a08-9d90-9293f1d5bb99",
   "metadata": {},
   "outputs": [],
   "source": [
    "bank_data[\"pdays\"] = bank_data[\"pdays\"].replace({-1:0})"
   ]
  },
  {
   "cell_type": "code",
   "execution_count": 79,
   "id": "0db10aac-ad13-4807-8194-8ac12f3027e8",
   "metadata": {},
   "outputs": [
    {
     "data": {
      "text/plain": [
       "0      36954\n",
       "182      167\n",
       "92       147\n",
       "91       126\n",
       "183      126\n",
       "       ...  \n",
       "449        1\n",
       "452        1\n",
       "648        1\n",
       "595        1\n",
       "530        1\n",
       "Name: pdays, Length: 559, dtype: int64"
      ]
     },
     "execution_count": 79,
     "metadata": {},
     "output_type": "execute_result"
    }
   ],
   "source": [
    "bank_data[\"pdays\"].value_counts()"
   ]
  },
  {
   "cell_type": "markdown",
   "id": "5b674963-fd8f-4d94-a389-4fe6c68db1b6",
   "metadata": {},
   "source": [
    "#### 4) Scale the continuous features using StandardScaler()"
   ]
  },
  {
   "cell_type": "code",
   "execution_count": 80,
   "id": "3309b633-a4cc-42fd-9cff-e9065055f4a4",
   "metadata": {},
   "outputs": [
    {
     "data": {
      "text/plain": [
       "['age', 'balance', 'campaign', 'pdays', 'previous']"
      ]
     },
     "execution_count": 80,
     "metadata": {},
     "output_type": "execute_result"
    }
   ],
   "source": [
    "continuous_features = list(bank_data.select_dtypes(include='int64').columns)\n",
    "continuous_features"
   ]
  },
  {
   "cell_type": "code",
   "execution_count": 81,
   "id": "f625e497-e8ee-471a-8112-efa8693f3f4a",
   "metadata": {},
   "outputs": [
    {
     "data": {
      "text/plain": [
       "array([[ 1.60696496,  0.25641925, -0.56935064, -0.41100886, -0.25194037],\n",
       "       [ 0.28852927, -0.43789469, -0.56935064, -0.41100886, -0.25194037],\n",
       "       [-0.74738448, -0.44676247, -0.56935064, -0.41100886, -0.25194037],\n",
       "       ...,\n",
       "       [ 2.92540065,  1.42959305,  0.72181052,  1.43283534,  1.05047333],\n",
       "       [ 1.51279098, -0.22802402,  0.39902023, -0.41100886, -0.25194037],\n",
       "       [-0.37068857,  0.52836436, -0.24656035,  1.47291891,  4.52357654]])"
      ]
     },
     "metadata": {},
     "output_type": "display_data"
    },
    {
     "data": {
      "text/html": [
       "<div>\n",
       "<style scoped>\n",
       "    .dataframe tbody tr th:only-of-type {\n",
       "        vertical-align: middle;\n",
       "    }\n",
       "\n",
       "    .dataframe tbody tr th {\n",
       "        vertical-align: top;\n",
       "    }\n",
       "\n",
       "    .dataframe thead th {\n",
       "        text-align: right;\n",
       "    }\n",
       "</style>\n",
       "<table border=\"1\" class=\"dataframe\">\n",
       "  <thead>\n",
       "    <tr style=\"text-align: right;\">\n",
       "      <th></th>\n",
       "      <th>age</th>\n",
       "      <th>balance</th>\n",
       "      <th>campaign</th>\n",
       "      <th>pdays</th>\n",
       "      <th>previous</th>\n",
       "    </tr>\n",
       "  </thead>\n",
       "  <tbody>\n",
       "    <tr>\n",
       "      <th>0</th>\n",
       "      <td>1.606965</td>\n",
       "      <td>0.256419</td>\n",
       "      <td>-0.569351</td>\n",
       "      <td>-0.411009</td>\n",
       "      <td>-0.251940</td>\n",
       "    </tr>\n",
       "    <tr>\n",
       "      <th>1</th>\n",
       "      <td>0.288529</td>\n",
       "      <td>-0.437895</td>\n",
       "      <td>-0.569351</td>\n",
       "      <td>-0.411009</td>\n",
       "      <td>-0.251940</td>\n",
       "    </tr>\n",
       "    <tr>\n",
       "      <th>2</th>\n",
       "      <td>-0.747384</td>\n",
       "      <td>-0.446762</td>\n",
       "      <td>-0.569351</td>\n",
       "      <td>-0.411009</td>\n",
       "      <td>-0.251940</td>\n",
       "    </tr>\n",
       "    <tr>\n",
       "      <th>3</th>\n",
       "      <td>0.571051</td>\n",
       "      <td>0.047205</td>\n",
       "      <td>-0.569351</td>\n",
       "      <td>-0.411009</td>\n",
       "      <td>-0.251940</td>\n",
       "    </tr>\n",
       "    <tr>\n",
       "      <th>4</th>\n",
       "      <td>-0.747384</td>\n",
       "      <td>-0.447091</td>\n",
       "      <td>-0.569351</td>\n",
       "      <td>-0.411009</td>\n",
       "      <td>-0.251940</td>\n",
       "    </tr>\n",
       "    <tr>\n",
       "      <th>...</th>\n",
       "      <td>...</td>\n",
       "      <td>...</td>\n",
       "      <td>...</td>\n",
       "      <td>...</td>\n",
       "      <td>...</td>\n",
       "    </tr>\n",
       "    <tr>\n",
       "      <th>45206</th>\n",
       "      <td>0.947747</td>\n",
       "      <td>-0.176460</td>\n",
       "      <td>0.076230</td>\n",
       "      <td>-0.411009</td>\n",
       "      <td>-0.251940</td>\n",
       "    </tr>\n",
       "    <tr>\n",
       "      <th>45207</th>\n",
       "      <td>2.831227</td>\n",
       "      <td>0.120447</td>\n",
       "      <td>-0.246560</td>\n",
       "      <td>-0.411009</td>\n",
       "      <td>-0.251940</td>\n",
       "    </tr>\n",
       "    <tr>\n",
       "      <th>45208</th>\n",
       "      <td>2.925401</td>\n",
       "      <td>1.429593</td>\n",
       "      <td>0.721811</td>\n",
       "      <td>1.432835</td>\n",
       "      <td>1.050473</td>\n",
       "    </tr>\n",
       "    <tr>\n",
       "      <th>45209</th>\n",
       "      <td>1.512791</td>\n",
       "      <td>-0.228024</td>\n",
       "      <td>0.399020</td>\n",
       "      <td>-0.411009</td>\n",
       "      <td>-0.251940</td>\n",
       "    </tr>\n",
       "    <tr>\n",
       "      <th>45210</th>\n",
       "      <td>-0.370689</td>\n",
       "      <td>0.528364</td>\n",
       "      <td>-0.246560</td>\n",
       "      <td>1.472919</td>\n",
       "      <td>4.523577</td>\n",
       "    </tr>\n",
       "  </tbody>\n",
       "</table>\n",
       "<p>45211 rows × 5 columns</p>\n",
       "</div>"
      ],
      "text/plain": [
       "            age   balance  campaign     pdays  previous\n",
       "0      1.606965  0.256419 -0.569351 -0.411009 -0.251940\n",
       "1      0.288529 -0.437895 -0.569351 -0.411009 -0.251940\n",
       "2     -0.747384 -0.446762 -0.569351 -0.411009 -0.251940\n",
       "3      0.571051  0.047205 -0.569351 -0.411009 -0.251940\n",
       "4     -0.747384 -0.447091 -0.569351 -0.411009 -0.251940\n",
       "...         ...       ...       ...       ...       ...\n",
       "45206  0.947747 -0.176460  0.076230 -0.411009 -0.251940\n",
       "45207  2.831227  0.120447 -0.246560 -0.411009 -0.251940\n",
       "45208  2.925401  1.429593  0.721811  1.432835  1.050473\n",
       "45209  1.512791 -0.228024  0.399020 -0.411009 -0.251940\n",
       "45210 -0.370689  0.528364 -0.246560  1.472919  4.523577\n",
       "\n",
       "[45211 rows x 5 columns]"
      ]
     },
     "metadata": {},
     "output_type": "display_data"
    }
   ],
   "source": [
    "scaler = StandardScaler()\n",
    "scaler_fit = scaler.fit(bank_data[continuous_features])\n",
    "continuous_features_scaled = scaler_fit.transform(bank_data[continuous_features])\n",
    "display(continuous_features_scaled)\n",
    "continuous_features_scaled_df = pd.DataFrame(data=continuous_features_scaled, columns=continuous_features)\n",
    "display(continuous_features_scaled_df)"
   ]
  },
  {
   "cell_type": "markdown",
   "id": "3fdd828d-e1e4-4672-b660-af0935467571",
   "metadata": {},
   "source": [
    "#### 5) Encode the categorical features & the categorical target"
   ]
  },
  {
   "cell_type": "code",
   "execution_count": 82,
   "id": "a38882a4-0e79-44e0-b8c5-9df595e1b657",
   "metadata": {},
   "outputs": [
    {
     "data": {
      "text/html": [
       "<div>\n",
       "<style scoped>\n",
       "    .dataframe tbody tr th:only-of-type {\n",
       "        vertical-align: middle;\n",
       "    }\n",
       "\n",
       "    .dataframe tbody tr th {\n",
       "        vertical-align: top;\n",
       "    }\n",
       "\n",
       "    .dataframe thead th {\n",
       "        text-align: right;\n",
       "    }\n",
       "</style>\n",
       "<table border=\"1\" class=\"dataframe\">\n",
       "  <thead>\n",
       "    <tr style=\"text-align: right;\">\n",
       "      <th></th>\n",
       "      <th>job</th>\n",
       "      <th>marital</th>\n",
       "      <th>education</th>\n",
       "      <th>default</th>\n",
       "      <th>housing</th>\n",
       "      <th>loan</th>\n",
       "      <th>contact</th>\n",
       "      <th>poutcome</th>\n",
       "      <th>y</th>\n",
       "    </tr>\n",
       "  </thead>\n",
       "  <tbody>\n",
       "    <tr>\n",
       "      <th>0</th>\n",
       "      <td>management</td>\n",
       "      <td>married</td>\n",
       "      <td>tertiary</td>\n",
       "      <td>no</td>\n",
       "      <td>yes</td>\n",
       "      <td>no</td>\n",
       "      <td>cellular</td>\n",
       "      <td>failure</td>\n",
       "      <td>no</td>\n",
       "    </tr>\n",
       "    <tr>\n",
       "      <th>1</th>\n",
       "      <td>technician</td>\n",
       "      <td>single</td>\n",
       "      <td>secondary</td>\n",
       "      <td>no</td>\n",
       "      <td>yes</td>\n",
       "      <td>no</td>\n",
       "      <td>cellular</td>\n",
       "      <td>failure</td>\n",
       "      <td>no</td>\n",
       "    </tr>\n",
       "    <tr>\n",
       "      <th>2</th>\n",
       "      <td>entrepreneur</td>\n",
       "      <td>married</td>\n",
       "      <td>secondary</td>\n",
       "      <td>no</td>\n",
       "      <td>yes</td>\n",
       "      <td>yes</td>\n",
       "      <td>cellular</td>\n",
       "      <td>failure</td>\n",
       "      <td>no</td>\n",
       "    </tr>\n",
       "    <tr>\n",
       "      <th>3</th>\n",
       "      <td>blue-collar</td>\n",
       "      <td>married</td>\n",
       "      <td>secondary</td>\n",
       "      <td>no</td>\n",
       "      <td>yes</td>\n",
       "      <td>no</td>\n",
       "      <td>cellular</td>\n",
       "      <td>failure</td>\n",
       "      <td>no</td>\n",
       "    </tr>\n",
       "    <tr>\n",
       "      <th>4</th>\n",
       "      <td>blue-collar</td>\n",
       "      <td>single</td>\n",
       "      <td>secondary</td>\n",
       "      <td>no</td>\n",
       "      <td>no</td>\n",
       "      <td>no</td>\n",
       "      <td>cellular</td>\n",
       "      <td>failure</td>\n",
       "      <td>no</td>\n",
       "    </tr>\n",
       "  </tbody>\n",
       "</table>\n",
       "</div>"
      ],
      "text/plain": [
       "            job  marital  education default housing loan   contact poutcome  \\\n",
       "0    management  married   tertiary      no     yes   no  cellular  failure   \n",
       "1    technician   single  secondary      no     yes   no  cellular  failure   \n",
       "2  entrepreneur  married  secondary      no     yes  yes  cellular  failure   \n",
       "3   blue-collar  married  secondary      no     yes   no  cellular  failure   \n",
       "4   blue-collar   single  secondary      no      no   no  cellular  failure   \n",
       "\n",
       "    y  \n",
       "0  no  \n",
       "1  no  \n",
       "2  no  \n",
       "3  no  \n",
       "4  no  "
      ]
     },
     "execution_count": 82,
     "metadata": {},
     "output_type": "execute_result"
    }
   ],
   "source": [
    "categorical_features_df = bank_data.drop(columns=continuous_features)\n",
    "categorical_features_df.head()"
   ]
  },
  {
   "cell_type": "markdown",
   "id": "a37e266b-450a-4bb6-ac1f-16ee22fe46f7",
   "metadata": {},
   "source": [
    "#####  5A) Use LabelEncoder() to encode the categorical target \"y\""
   ]
  },
  {
   "cell_type": "code",
   "execution_count": 83,
   "id": "38b0fbd0-6f37-4dd2-827a-638732003a88",
   "metadata": {},
   "outputs": [],
   "source": [
    "label_encoder = LabelEncoder()"
   ]
  },
  {
   "cell_type": "code",
   "execution_count": 84,
   "id": "2bf07fe0-53c3-4ce1-bc74-f334321d4ecd",
   "metadata": {},
   "outputs": [
    {
     "name": "stderr",
     "output_type": "stream",
     "text": [
      "C:\\Users\\aanch\\anaconda3\\envs\\dev\\lib\\site-packages\\sklearn\\preprocessing\\_label.py:115: DataConversionWarning: A column-vector y was passed when a 1d array was expected. Please change the shape of y to (n_samples, ), for example using ravel().\n",
      "  y = column_or_1d(y, warn=True)\n"
     ]
    }
   ],
   "source": [
    "categorical_features_df[\"y\"]=label_encoder.fit_transform(np.array(categorical_features_df[\"y\"]).reshape(-1,1)) "
   ]
  },
  {
   "cell_type": "code",
   "execution_count": 85,
   "id": "a42189c6-e433-4665-8416-1a3122a7a64a",
   "metadata": {},
   "outputs": [
    {
     "data": {
      "text/plain": [
       "0    39922\n",
       "1     5289\n",
       "Name: y, dtype: int64"
      ]
     },
     "execution_count": 85,
     "metadata": {},
     "output_type": "execute_result"
    }
   ],
   "source": [
    "categorical_features_df[\"y\"].value_counts(dropna=False)"
   ]
  },
  {
   "cell_type": "code",
   "execution_count": 86,
   "id": "505c5f27-03de-453a-938d-5d75e8c18019",
   "metadata": {},
   "outputs": [
    {
     "data": {
      "text/plain": [
       "0        0\n",
       "1        0\n",
       "2        0\n",
       "3        0\n",
       "4        0\n",
       "        ..\n",
       "45206    1\n",
       "45207    1\n",
       "45208    1\n",
       "45209    0\n",
       "45210    0\n",
       "Name: y, Length: 45211, dtype: int32"
      ]
     },
     "execution_count": 86,
     "metadata": {},
     "output_type": "execute_result"
    }
   ],
   "source": [
    "encoded_target = categorical_features_df[\"y\"]\n",
    "encoded_target"
   ]
  },
  {
   "cell_type": "markdown",
   "id": "0a6c68b0-e6ec-459a-ae8d-7f79f9fda73b",
   "metadata": {},
   "source": [
    "#####  5B) Update the categories in the feature \"job\"\n",
    "\n",
    "The feature \"job\" has 12 distinct categories - \n",
    "\n",
    "\n",
    "1. Management\n",
    "2. Technician\n",
    "3. Entrepreneur\n",
    "4. Blue-collar\n",
    "5. Unknown\n",
    "6. Retired\n",
    "7. Admin.\n",
    "8. Services\n",
    "9. Self-employed\n",
    "10. Unemployed\n",
    "11. Housemaid\n",
    "12. Student\n",
    "        \n",
    "    \n",
    "Applying one-hot encoding would result in 12 new features. For the sake of brevity, I will transform these 12 categories into 2 categories - \n",
    "    \n",
    "* The first new category \"working\" will include \"Management, Technician, Entrepreneur, Blue-collar, Admin., Services, Self-employed, & Housemaid\".\n",
    "* The second new category \"not_working\" will include \"Retired, Unemployed, & Student\". "
   ]
  },
  {
   "cell_type": "code",
   "execution_count": 87,
   "id": "71b40f7a-4241-4bf5-afb8-5f8542cfe13a",
   "metadata": {},
   "outputs": [
    {
     "data": {
      "text/plain": [
       "job_blue-collar      10020\n",
       "job_management        9458\n",
       "job_technician        7597\n",
       "job_admin             5171\n",
       "job_services          4154\n",
       "job_retired           2264\n",
       "job_self-employed     1579\n",
       "job_entrepreneur      1487\n",
       "job_unemployed        1303\n",
       "job_housemaid         1240\n",
       "job_student            938\n",
       "Name: job, dtype: int64"
      ]
     },
     "metadata": {},
     "output_type": "display_data"
    }
   ],
   "source": [
    "categorical_features_df[\"job\"].replace({\"blue-collar\": \"job_blue-collar\",\n",
    "                                        \"management\": \"job_management\",\n",
    "                                        \"technician\": \"job_technician\",\n",
    "                                        \"admin.\": \"job_admin\",\n",
    "                                        \"services\": \"job_services\",\n",
    "                                        \"self-employed\": \"job_self-employed\",\n",
    "                                        \"entrepreneur\": \"job_entrepreneur\", \n",
    "                                        \"housemaid\": \"job_housemaid\",\n",
    "                                        \"retired\": \"job_retired\",\n",
    "                                        \"unemployed\": \"job_unemployed\",\n",
    "                                        \"student\": \"job_student\"}, \n",
    "                         inplace=True)\n",
    "\n",
    "display(categorical_features_df[\"job\"].value_counts(dropna=False))"
   ]
  },
  {
   "cell_type": "markdown",
   "id": "a852a270-6839-4b99-8ace-3575eebf3a5e",
   "metadata": {},
   "source": [
    "#####  5C) Update the categories in the feature \"default\"\n",
    "\n",
    "The feature \"default\" has 2 distinct categories - \n",
    "\n",
    "1. Yes\n",
    "2. No     \n",
    "    \n",
    "I will convert \"yes\" to \"default_yes\" & \"no\" to \"default_no\". This will help in differentiating the feature names during OneHotEncoding."
   ]
  },
  {
   "cell_type": "code",
   "execution_count": 88,
   "id": "77a7a53b-d149-4204-ad68-5f3ebd84f3fd",
   "metadata": {},
   "outputs": [
    {
     "data": {
      "text/plain": [
       "default_no     44396\n",
       "default_yes      815\n",
       "Name: default, dtype: int64"
      ]
     },
     "metadata": {},
     "output_type": "display_data"
    }
   ],
   "source": [
    "categorical_features_df[\"default\"].replace({\"yes\":\"default_yes\", \"no\":\"default_no\"}, \n",
    "                         inplace=True)\n",
    "\n",
    "display(categorical_features_df[\"default\"].value_counts(dropna=False))"
   ]
  },
  {
   "cell_type": "markdown",
   "id": "2c2730a8-2351-4512-8756-1448c6784f6b",
   "metadata": {},
   "source": [
    "#####  5D) Update the categories in the feature \"housing\"\n",
    "\n",
    "The feature \"default\" has 2 distinct categories - \n",
    "\n",
    "1. Yes\n",
    "2. No     \n",
    "    \n",
    "I will convert \"yes\" to \"housing_yes\" & \"no\" to \"housing_no\". This will help in differentiating the feature names during OneHotEncoding."
   ]
  },
  {
   "cell_type": "code",
   "execution_count": 89,
   "id": "1a31eb31-3075-42fa-92ad-ad8222d5e4cd",
   "metadata": {},
   "outputs": [
    {
     "data": {
      "text/plain": [
       "housing_yes    25130\n",
       "housing_no     20081\n",
       "Name: housing, dtype: int64"
      ]
     },
     "metadata": {},
     "output_type": "display_data"
    }
   ],
   "source": [
    "categorical_features_df[\"housing\"].replace({\"yes\":\"housing_yes\", \"no\":\"housing_no\"}, \n",
    "                         inplace=True)\n",
    "\n",
    "display(categorical_features_df[\"housing\"].value_counts(dropna=False))"
   ]
  },
  {
   "cell_type": "markdown",
   "id": "c747a72f-6d51-49a9-b721-45aca7e54376",
   "metadata": {},
   "source": [
    "#####  5E) Update the categories in the feature \"housing\"\n",
    "\n",
    "The feature \"loan\" has 2 distinct categories - \n",
    "\n",
    "1. Yes\n",
    "2. No     \n",
    "    \n",
    "I will convert \"yes\" to \"loan_yes\" & \"no\" to \"loan_no\". This will help in differentiating the feature names during OneHotEncoding."
   ]
  },
  {
   "cell_type": "code",
   "execution_count": 90,
   "id": "fc5c1620-26e5-4fb6-9c1c-7c8a75582394",
   "metadata": {},
   "outputs": [
    {
     "data": {
      "text/plain": [
       "loan_no     37967\n",
       "loan_yes     7244\n",
       "Name: loan, dtype: int64"
      ]
     },
     "metadata": {},
     "output_type": "display_data"
    }
   ],
   "source": [
    "categorical_features_df[\"loan\"].replace({\"yes\":\"loan_yes\", \"no\":\"loan_no\"}, \n",
    "                         inplace=True)\n",
    "\n",
    "display(categorical_features_df[\"loan\"].value_counts(dropna=False))"
   ]
  },
  {
   "cell_type": "markdown",
   "id": "ab8dbacf-909a-4a20-a35c-d3be1711753e",
   "metadata": {},
   "source": [
    "#####  5F) Update the categories in the feature \"marital\""
   ]
  },
  {
   "cell_type": "code",
   "execution_count": 91,
   "id": "c6b93f61-9010-406d-8454-822cebd47e13",
   "metadata": {},
   "outputs": [
    {
     "data": {
      "text/plain": [
       "married     27214\n",
       "single      12790\n",
       "divorced     5207\n",
       "Name: marital, dtype: int64"
      ]
     },
     "execution_count": 91,
     "metadata": {},
     "output_type": "execute_result"
    }
   ],
   "source": [
    "categorical_features_df[\"marital\"].value_counts()"
   ]
  },
  {
   "cell_type": "code",
   "execution_count": 92,
   "id": "bc466bcf-50a7-4ae8-a074-39df5c962fc6",
   "metadata": {},
   "outputs": [
    {
     "data": {
      "text/plain": [
       "marital_married     27214\n",
       "marital_single      12790\n",
       "marital_divorced     5207\n",
       "Name: marital, dtype: int64"
      ]
     },
     "metadata": {},
     "output_type": "display_data"
    }
   ],
   "source": [
    "categorical_features_df[\"marital\"].replace({\"married\":\"marital_married\",\n",
    "                                            \"single\":\"marital_single\",\n",
    "                                            \"divorced\":\"marital_divorced\"}, \n",
    "                         inplace=True)\n",
    "\n",
    "display(categorical_features_df[\"marital\"].value_counts(dropna=False))"
   ]
  },
  {
   "cell_type": "markdown",
   "id": "8e969193-d200-4690-bbb3-33de91a586c0",
   "metadata": {},
   "source": [
    "#####  5G) Update the categories in the feature \"education\""
   ]
  },
  {
   "cell_type": "code",
   "execution_count": 93,
   "id": "2fba8bc4-ba00-4419-9ce5-43894b00fb48",
   "metadata": {},
   "outputs": [
    {
     "data": {
      "text/plain": [
       "secondary    25059\n",
       "tertiary     13301\n",
       "primary       6851\n",
       "Name: education, dtype: int64"
      ]
     },
     "execution_count": 93,
     "metadata": {},
     "output_type": "execute_result"
    }
   ],
   "source": [
    "categorical_features_df[\"education\"].value_counts()"
   ]
  },
  {
   "cell_type": "code",
   "execution_count": 94,
   "id": "4cbce52e-0f5f-4ad7-a0f3-2a3c42e6821b",
   "metadata": {},
   "outputs": [
    {
     "data": {
      "text/plain": [
       "education_secondary    25059\n",
       "education_tertiary     13301\n",
       "education_primary       6851\n",
       "Name: education, dtype: int64"
      ]
     },
     "metadata": {},
     "output_type": "display_data"
    }
   ],
   "source": [
    "categorical_features_df[\"education\"].replace({\"secondary\":\"education_secondary\",\n",
    "                                            \"tertiary\":\"education_tertiary\",\n",
    "                                            \"primary\":\"education_primary\"}, \n",
    "                         inplace=True)\n",
    "\n",
    "display(categorical_features_df[\"education\"].value_counts(dropna=False))"
   ]
  },
  {
   "cell_type": "markdown",
   "id": "d82f3068-ec23-4a31-ba19-a0510b0dcd6f",
   "metadata": {},
   "source": [
    "#####  5H) Update the categories in the feature \"contact\""
   ]
  },
  {
   "cell_type": "code",
   "execution_count": 95,
   "id": "96e3e1df-5caf-4874-897b-b9a7eacceaa2",
   "metadata": {},
   "outputs": [
    {
     "data": {
      "text/plain": [
       "cellular     42305\n",
       "telephone     2906\n",
       "Name: contact, dtype: int64"
      ]
     },
     "execution_count": 95,
     "metadata": {},
     "output_type": "execute_result"
    }
   ],
   "source": [
    "categorical_features_df[\"contact\"].value_counts()"
   ]
  },
  {
   "cell_type": "code",
   "execution_count": 96,
   "id": "289790ca-3a69-44fb-b52e-fd406b02f28b",
   "metadata": {},
   "outputs": [
    {
     "data": {
      "text/plain": [
       "contact_cellular     42305\n",
       "contact_telephone     2906\n",
       "Name: contact, dtype: int64"
      ]
     },
     "metadata": {},
     "output_type": "display_data"
    }
   ],
   "source": [
    "categorical_features_df[\"contact\"].replace({\"cellular\":\"contact_cellular\",\n",
    "                                            \"telephone\":\"contact_telephone\"}, \n",
    "                         inplace=True)\n",
    "\n",
    "display(categorical_features_df[\"contact\"].value_counts(dropna=False))"
   ]
  },
  {
   "cell_type": "markdown",
   "id": "6775d95d-8ce4-4117-99ef-bef6276ba517",
   "metadata": {},
   "source": [
    "#####  5I) Update the categories in the feature \"poutcome\""
   ]
  },
  {
   "cell_type": "code",
   "execution_count": 97,
   "id": "abdec9f6-fbae-4cdc-b86b-7290b0abd85d",
   "metadata": {},
   "outputs": [
    {
     "data": {
      "text/plain": [
       "failure    41860\n",
       "other       1840\n",
       "success     1511\n",
       "Name: poutcome, dtype: int64"
      ]
     },
     "execution_count": 97,
     "metadata": {},
     "output_type": "execute_result"
    }
   ],
   "source": [
    "categorical_features_df[\"poutcome\"].value_counts()"
   ]
  },
  {
   "cell_type": "code",
   "execution_count": 98,
   "id": "c2a7f9b1-e436-42f8-9bfe-dd980b3a752f",
   "metadata": {},
   "outputs": [
    {
     "data": {
      "text/plain": [
       "poutcome_failure    41860\n",
       "poutcome_other       1840\n",
       "poutcome_success     1511\n",
       "Name: poutcome, dtype: int64"
      ]
     },
     "metadata": {},
     "output_type": "display_data"
    }
   ],
   "source": [
    "categorical_features_df[\"poutcome\"].replace({\"failure\":\"poutcome_failure\",\n",
    "                                            \"other\":\"poutcome_other\",\n",
    "                                            \"success\":\"poutcome_success\"}, \n",
    "                         inplace=True)\n",
    "\n",
    "display(categorical_features_df[\"poutcome\"].value_counts(dropna=False))"
   ]
  },
  {
   "cell_type": "code",
   "execution_count": 99,
   "id": "3c7e0ac5-1baf-43d6-83cb-e6bd0a606c17",
   "metadata": {},
   "outputs": [
    {
     "data": {
      "text/html": [
       "<div>\n",
       "<style scoped>\n",
       "    .dataframe tbody tr th:only-of-type {\n",
       "        vertical-align: middle;\n",
       "    }\n",
       "\n",
       "    .dataframe tbody tr th {\n",
       "        vertical-align: top;\n",
       "    }\n",
       "\n",
       "    .dataframe thead th {\n",
       "        text-align: right;\n",
       "    }\n",
       "</style>\n",
       "<table border=\"1\" class=\"dataframe\">\n",
       "  <thead>\n",
       "    <tr style=\"text-align: right;\">\n",
       "      <th></th>\n",
       "      <th>job</th>\n",
       "      <th>marital</th>\n",
       "      <th>education</th>\n",
       "      <th>default</th>\n",
       "      <th>housing</th>\n",
       "      <th>loan</th>\n",
       "      <th>contact</th>\n",
       "      <th>poutcome</th>\n",
       "      <th>y</th>\n",
       "    </tr>\n",
       "  </thead>\n",
       "  <tbody>\n",
       "    <tr>\n",
       "      <th>0</th>\n",
       "      <td>job_management</td>\n",
       "      <td>marital_married</td>\n",
       "      <td>education_tertiary</td>\n",
       "      <td>default_no</td>\n",
       "      <td>housing_yes</td>\n",
       "      <td>loan_no</td>\n",
       "      <td>contact_cellular</td>\n",
       "      <td>poutcome_failure</td>\n",
       "      <td>0</td>\n",
       "    </tr>\n",
       "    <tr>\n",
       "      <th>1</th>\n",
       "      <td>job_technician</td>\n",
       "      <td>marital_single</td>\n",
       "      <td>education_secondary</td>\n",
       "      <td>default_no</td>\n",
       "      <td>housing_yes</td>\n",
       "      <td>loan_no</td>\n",
       "      <td>contact_cellular</td>\n",
       "      <td>poutcome_failure</td>\n",
       "      <td>0</td>\n",
       "    </tr>\n",
       "    <tr>\n",
       "      <th>2</th>\n",
       "      <td>job_entrepreneur</td>\n",
       "      <td>marital_married</td>\n",
       "      <td>education_secondary</td>\n",
       "      <td>default_no</td>\n",
       "      <td>housing_yes</td>\n",
       "      <td>loan_yes</td>\n",
       "      <td>contact_cellular</td>\n",
       "      <td>poutcome_failure</td>\n",
       "      <td>0</td>\n",
       "    </tr>\n",
       "    <tr>\n",
       "      <th>3</th>\n",
       "      <td>job_blue-collar</td>\n",
       "      <td>marital_married</td>\n",
       "      <td>education_secondary</td>\n",
       "      <td>default_no</td>\n",
       "      <td>housing_yes</td>\n",
       "      <td>loan_no</td>\n",
       "      <td>contact_cellular</td>\n",
       "      <td>poutcome_failure</td>\n",
       "      <td>0</td>\n",
       "    </tr>\n",
       "    <tr>\n",
       "      <th>4</th>\n",
       "      <td>job_blue-collar</td>\n",
       "      <td>marital_single</td>\n",
       "      <td>education_secondary</td>\n",
       "      <td>default_no</td>\n",
       "      <td>housing_no</td>\n",
       "      <td>loan_no</td>\n",
       "      <td>contact_cellular</td>\n",
       "      <td>poutcome_failure</td>\n",
       "      <td>0</td>\n",
       "    </tr>\n",
       "    <tr>\n",
       "      <th>...</th>\n",
       "      <td>...</td>\n",
       "      <td>...</td>\n",
       "      <td>...</td>\n",
       "      <td>...</td>\n",
       "      <td>...</td>\n",
       "      <td>...</td>\n",
       "      <td>...</td>\n",
       "      <td>...</td>\n",
       "      <td>...</td>\n",
       "    </tr>\n",
       "    <tr>\n",
       "      <th>45206</th>\n",
       "      <td>job_technician</td>\n",
       "      <td>marital_married</td>\n",
       "      <td>education_tertiary</td>\n",
       "      <td>default_no</td>\n",
       "      <td>housing_no</td>\n",
       "      <td>loan_no</td>\n",
       "      <td>contact_cellular</td>\n",
       "      <td>poutcome_failure</td>\n",
       "      <td>1</td>\n",
       "    </tr>\n",
       "    <tr>\n",
       "      <th>45207</th>\n",
       "      <td>job_retired</td>\n",
       "      <td>marital_divorced</td>\n",
       "      <td>education_primary</td>\n",
       "      <td>default_no</td>\n",
       "      <td>housing_no</td>\n",
       "      <td>loan_no</td>\n",
       "      <td>contact_cellular</td>\n",
       "      <td>poutcome_failure</td>\n",
       "      <td>1</td>\n",
       "    </tr>\n",
       "    <tr>\n",
       "      <th>45208</th>\n",
       "      <td>job_retired</td>\n",
       "      <td>marital_married</td>\n",
       "      <td>education_secondary</td>\n",
       "      <td>default_no</td>\n",
       "      <td>housing_no</td>\n",
       "      <td>loan_no</td>\n",
       "      <td>contact_cellular</td>\n",
       "      <td>poutcome_success</td>\n",
       "      <td>1</td>\n",
       "    </tr>\n",
       "    <tr>\n",
       "      <th>45209</th>\n",
       "      <td>job_blue-collar</td>\n",
       "      <td>marital_married</td>\n",
       "      <td>education_secondary</td>\n",
       "      <td>default_no</td>\n",
       "      <td>housing_no</td>\n",
       "      <td>loan_no</td>\n",
       "      <td>contact_telephone</td>\n",
       "      <td>poutcome_failure</td>\n",
       "      <td>0</td>\n",
       "    </tr>\n",
       "    <tr>\n",
       "      <th>45210</th>\n",
       "      <td>job_entrepreneur</td>\n",
       "      <td>marital_married</td>\n",
       "      <td>education_secondary</td>\n",
       "      <td>default_no</td>\n",
       "      <td>housing_no</td>\n",
       "      <td>loan_no</td>\n",
       "      <td>contact_cellular</td>\n",
       "      <td>poutcome_other</td>\n",
       "      <td>0</td>\n",
       "    </tr>\n",
       "  </tbody>\n",
       "</table>\n",
       "<p>45211 rows × 9 columns</p>\n",
       "</div>"
      ],
      "text/plain": [
       "                    job           marital            education     default  \\\n",
       "0        job_management   marital_married   education_tertiary  default_no   \n",
       "1        job_technician    marital_single  education_secondary  default_no   \n",
       "2      job_entrepreneur   marital_married  education_secondary  default_no   \n",
       "3       job_blue-collar   marital_married  education_secondary  default_no   \n",
       "4       job_blue-collar    marital_single  education_secondary  default_no   \n",
       "...                 ...               ...                  ...         ...   \n",
       "45206    job_technician   marital_married   education_tertiary  default_no   \n",
       "45207       job_retired  marital_divorced    education_primary  default_no   \n",
       "45208       job_retired   marital_married  education_secondary  default_no   \n",
       "45209   job_blue-collar   marital_married  education_secondary  default_no   \n",
       "45210  job_entrepreneur   marital_married  education_secondary  default_no   \n",
       "\n",
       "           housing      loan            contact          poutcome  y  \n",
       "0      housing_yes   loan_no   contact_cellular  poutcome_failure  0  \n",
       "1      housing_yes   loan_no   contact_cellular  poutcome_failure  0  \n",
       "2      housing_yes  loan_yes   contact_cellular  poutcome_failure  0  \n",
       "3      housing_yes   loan_no   contact_cellular  poutcome_failure  0  \n",
       "4       housing_no   loan_no   contact_cellular  poutcome_failure  0  \n",
       "...            ...       ...                ...               ... ..  \n",
       "45206   housing_no   loan_no   contact_cellular  poutcome_failure  1  \n",
       "45207   housing_no   loan_no   contact_cellular  poutcome_failure  1  \n",
       "45208   housing_no   loan_no   contact_cellular  poutcome_success  1  \n",
       "45209   housing_no   loan_no  contact_telephone  poutcome_failure  0  \n",
       "45210   housing_no   loan_no   contact_cellular    poutcome_other  0  \n",
       "\n",
       "[45211 rows x 9 columns]"
      ]
     },
     "metadata": {},
     "output_type": "display_data"
    }
   ],
   "source": [
    "display(categorical_features_df)"
   ]
  },
  {
   "cell_type": "markdown",
   "id": "0ed8438e-b568-4ef1-8a59-4186b577b47a",
   "metadata": {},
   "source": [
    "#####  5J) Use OneHotEncoder() to encode the categorical features"
   ]
  },
  {
   "cell_type": "code",
   "execution_count": 100,
   "id": "4c094a0b-59e0-4e81-868b-567266e84e59",
   "metadata": {},
   "outputs": [
    {
     "data": {
      "text/plain": [
       "['job',\n",
       " 'marital',\n",
       " 'education',\n",
       " 'default',\n",
       " 'housing',\n",
       " 'loan',\n",
       " 'contact',\n",
       " 'poutcome']"
      ]
     },
     "execution_count": 100,
     "metadata": {},
     "output_type": "execute_result"
    }
   ],
   "source": [
    "categorical_features = list(categorical_features_df.select_dtypes(include='object').columns)\n",
    "categorical_features"
   ]
  },
  {
   "cell_type": "code",
   "execution_count": 101,
   "id": "2c6343ef-e10a-4961-9328-4e4e25284992",
   "metadata": {},
   "outputs": [
    {
     "data": {
      "text/html": [
       "<div>\n",
       "<style scoped>\n",
       "    .dataframe tbody tr th:only-of-type {\n",
       "        vertical-align: middle;\n",
       "    }\n",
       "\n",
       "    .dataframe tbody tr th {\n",
       "        vertical-align: top;\n",
       "    }\n",
       "\n",
       "    .dataframe thead th {\n",
       "        text-align: right;\n",
       "    }\n",
       "</style>\n",
       "<table border=\"1\" class=\"dataframe\">\n",
       "  <thead>\n",
       "    <tr style=\"text-align: right;\">\n",
       "      <th></th>\n",
       "      <th>job</th>\n",
       "      <th>marital</th>\n",
       "      <th>education</th>\n",
       "      <th>default</th>\n",
       "      <th>housing</th>\n",
       "      <th>loan</th>\n",
       "      <th>contact</th>\n",
       "      <th>poutcome</th>\n",
       "    </tr>\n",
       "  </thead>\n",
       "  <tbody>\n",
       "    <tr>\n",
       "      <th>0</th>\n",
       "      <td>job_management</td>\n",
       "      <td>marital_married</td>\n",
       "      <td>education_tertiary</td>\n",
       "      <td>default_no</td>\n",
       "      <td>housing_yes</td>\n",
       "      <td>loan_no</td>\n",
       "      <td>contact_cellular</td>\n",
       "      <td>poutcome_failure</td>\n",
       "    </tr>\n",
       "    <tr>\n",
       "      <th>1</th>\n",
       "      <td>job_technician</td>\n",
       "      <td>marital_single</td>\n",
       "      <td>education_secondary</td>\n",
       "      <td>default_no</td>\n",
       "      <td>housing_yes</td>\n",
       "      <td>loan_no</td>\n",
       "      <td>contact_cellular</td>\n",
       "      <td>poutcome_failure</td>\n",
       "    </tr>\n",
       "    <tr>\n",
       "      <th>2</th>\n",
       "      <td>job_entrepreneur</td>\n",
       "      <td>marital_married</td>\n",
       "      <td>education_secondary</td>\n",
       "      <td>default_no</td>\n",
       "      <td>housing_yes</td>\n",
       "      <td>loan_yes</td>\n",
       "      <td>contact_cellular</td>\n",
       "      <td>poutcome_failure</td>\n",
       "    </tr>\n",
       "    <tr>\n",
       "      <th>3</th>\n",
       "      <td>job_blue-collar</td>\n",
       "      <td>marital_married</td>\n",
       "      <td>education_secondary</td>\n",
       "      <td>default_no</td>\n",
       "      <td>housing_yes</td>\n",
       "      <td>loan_no</td>\n",
       "      <td>contact_cellular</td>\n",
       "      <td>poutcome_failure</td>\n",
       "    </tr>\n",
       "    <tr>\n",
       "      <th>4</th>\n",
       "      <td>job_blue-collar</td>\n",
       "      <td>marital_single</td>\n",
       "      <td>education_secondary</td>\n",
       "      <td>default_no</td>\n",
       "      <td>housing_no</td>\n",
       "      <td>loan_no</td>\n",
       "      <td>contact_cellular</td>\n",
       "      <td>poutcome_failure</td>\n",
       "    </tr>\n",
       "    <tr>\n",
       "      <th>...</th>\n",
       "      <td>...</td>\n",
       "      <td>...</td>\n",
       "      <td>...</td>\n",
       "      <td>...</td>\n",
       "      <td>...</td>\n",
       "      <td>...</td>\n",
       "      <td>...</td>\n",
       "      <td>...</td>\n",
       "    </tr>\n",
       "    <tr>\n",
       "      <th>45206</th>\n",
       "      <td>job_technician</td>\n",
       "      <td>marital_married</td>\n",
       "      <td>education_tertiary</td>\n",
       "      <td>default_no</td>\n",
       "      <td>housing_no</td>\n",
       "      <td>loan_no</td>\n",
       "      <td>contact_cellular</td>\n",
       "      <td>poutcome_failure</td>\n",
       "    </tr>\n",
       "    <tr>\n",
       "      <th>45207</th>\n",
       "      <td>job_retired</td>\n",
       "      <td>marital_divorced</td>\n",
       "      <td>education_primary</td>\n",
       "      <td>default_no</td>\n",
       "      <td>housing_no</td>\n",
       "      <td>loan_no</td>\n",
       "      <td>contact_cellular</td>\n",
       "      <td>poutcome_failure</td>\n",
       "    </tr>\n",
       "    <tr>\n",
       "      <th>45208</th>\n",
       "      <td>job_retired</td>\n",
       "      <td>marital_married</td>\n",
       "      <td>education_secondary</td>\n",
       "      <td>default_no</td>\n",
       "      <td>housing_no</td>\n",
       "      <td>loan_no</td>\n",
       "      <td>contact_cellular</td>\n",
       "      <td>poutcome_success</td>\n",
       "    </tr>\n",
       "    <tr>\n",
       "      <th>45209</th>\n",
       "      <td>job_blue-collar</td>\n",
       "      <td>marital_married</td>\n",
       "      <td>education_secondary</td>\n",
       "      <td>default_no</td>\n",
       "      <td>housing_no</td>\n",
       "      <td>loan_no</td>\n",
       "      <td>contact_telephone</td>\n",
       "      <td>poutcome_failure</td>\n",
       "    </tr>\n",
       "    <tr>\n",
       "      <th>45210</th>\n",
       "      <td>job_entrepreneur</td>\n",
       "      <td>marital_married</td>\n",
       "      <td>education_secondary</td>\n",
       "      <td>default_no</td>\n",
       "      <td>housing_no</td>\n",
       "      <td>loan_no</td>\n",
       "      <td>contact_cellular</td>\n",
       "      <td>poutcome_other</td>\n",
       "    </tr>\n",
       "  </tbody>\n",
       "</table>\n",
       "<p>45211 rows × 8 columns</p>\n",
       "</div>"
      ],
      "text/plain": [
       "                    job           marital            education     default  \\\n",
       "0        job_management   marital_married   education_tertiary  default_no   \n",
       "1        job_technician    marital_single  education_secondary  default_no   \n",
       "2      job_entrepreneur   marital_married  education_secondary  default_no   \n",
       "3       job_blue-collar   marital_married  education_secondary  default_no   \n",
       "4       job_blue-collar    marital_single  education_secondary  default_no   \n",
       "...                 ...               ...                  ...         ...   \n",
       "45206    job_technician   marital_married   education_tertiary  default_no   \n",
       "45207       job_retired  marital_divorced    education_primary  default_no   \n",
       "45208       job_retired   marital_married  education_secondary  default_no   \n",
       "45209   job_blue-collar   marital_married  education_secondary  default_no   \n",
       "45210  job_entrepreneur   marital_married  education_secondary  default_no   \n",
       "\n",
       "           housing      loan            contact          poutcome  \n",
       "0      housing_yes   loan_no   contact_cellular  poutcome_failure  \n",
       "1      housing_yes   loan_no   contact_cellular  poutcome_failure  \n",
       "2      housing_yes  loan_yes   contact_cellular  poutcome_failure  \n",
       "3      housing_yes   loan_no   contact_cellular  poutcome_failure  \n",
       "4       housing_no   loan_no   contact_cellular  poutcome_failure  \n",
       "...            ...       ...                ...               ...  \n",
       "45206   housing_no   loan_no   contact_cellular  poutcome_failure  \n",
       "45207   housing_no   loan_no   contact_cellular  poutcome_failure  \n",
       "45208   housing_no   loan_no   contact_cellular  poutcome_success  \n",
       "45209   housing_no   loan_no  contact_telephone  poutcome_failure  \n",
       "45210   housing_no   loan_no   contact_cellular    poutcome_other  \n",
       "\n",
       "[45211 rows x 8 columns]"
      ]
     },
     "execution_count": 101,
     "metadata": {},
     "output_type": "execute_result"
    }
   ],
   "source": [
    "categorical_features_df[categorical_features]"
   ]
  },
  {
   "cell_type": "code",
   "execution_count": 102,
   "id": "d5db28b0-3e23-4d29-94bc-c34569d7ede4",
   "metadata": {},
   "outputs": [],
   "source": [
    "ohe = OneHotEncoder()"
   ]
  },
  {
   "cell_type": "code",
   "execution_count": 103,
   "id": "4e816b62-b1e9-4d92-9d41-0382f3676c28",
   "metadata": {},
   "outputs": [
    {
     "data": {
      "text/plain": [
       "array([[0., 0., 0., ..., 1., 0., 0.],\n",
       "       [0., 0., 0., ..., 1., 0., 0.],\n",
       "       [0., 0., 1., ..., 1., 0., 0.],\n",
       "       ...,\n",
       "       [0., 0., 0., ..., 0., 0., 1.],\n",
       "       [0., 1., 0., ..., 1., 0., 0.],\n",
       "       [0., 0., 1., ..., 0., 1., 0.]])"
      ]
     },
     "metadata": {},
     "output_type": "display_data"
    }
   ],
   "source": [
    "catergorical_features_encoded = ohe.fit_transform(categorical_features_df[categorical_features]).toarray()\n",
    "display(catergorical_features_encoded)"
   ]
  },
  {
   "cell_type": "code",
   "execution_count": 104,
   "id": "343e3812-2c85-42bb-8a9d-f6562017f55b",
   "metadata": {},
   "outputs": [],
   "source": [
    "ohe_encoded_categories = list(ohe.categories_)\n",
    "\n",
    "ohe_encoded_categories_list = []\n",
    "for each_category in ohe_encoded_categories:\n",
    "    for i in each_category:\n",
    "        ohe_encoded_categories_list.append(i)"
   ]
  },
  {
   "cell_type": "code",
   "execution_count": 105,
   "id": "ffbf7115-71d3-4e39-9a63-1004d290b17a",
   "metadata": {},
   "outputs": [
    {
     "data": {
      "text/plain": [
       "['job_admin',\n",
       " 'job_blue-collar',\n",
       " 'job_entrepreneur',\n",
       " 'job_housemaid',\n",
       " 'job_management',\n",
       " 'job_retired',\n",
       " 'job_self-employed',\n",
       " 'job_services',\n",
       " 'job_student',\n",
       " 'job_technician',\n",
       " 'job_unemployed',\n",
       " 'marital_divorced',\n",
       " 'marital_married',\n",
       " 'marital_single',\n",
       " 'education_primary',\n",
       " 'education_secondary',\n",
       " 'education_tertiary',\n",
       " 'default_no',\n",
       " 'default_yes',\n",
       " 'housing_no',\n",
       " 'housing_yes',\n",
       " 'loan_no',\n",
       " 'loan_yes',\n",
       " 'contact_cellular',\n",
       " 'contact_telephone',\n",
       " 'poutcome_failure',\n",
       " 'poutcome_other',\n",
       " 'poutcome_success']"
      ]
     },
     "execution_count": 105,
     "metadata": {},
     "output_type": "execute_result"
    }
   ],
   "source": [
    "ohe_encoded_categories_list"
   ]
  },
  {
   "cell_type": "code",
   "execution_count": 106,
   "id": "fd63eb69-119d-490d-945a-96c91842daaf",
   "metadata": {},
   "outputs": [
    {
     "data": {
      "text/html": [
       "<div>\n",
       "<style scoped>\n",
       "    .dataframe tbody tr th:only-of-type {\n",
       "        vertical-align: middle;\n",
       "    }\n",
       "\n",
       "    .dataframe tbody tr th {\n",
       "        vertical-align: top;\n",
       "    }\n",
       "\n",
       "    .dataframe thead th {\n",
       "        text-align: right;\n",
       "    }\n",
       "</style>\n",
       "<table border=\"1\" class=\"dataframe\">\n",
       "  <thead>\n",
       "    <tr style=\"text-align: right;\">\n",
       "      <th></th>\n",
       "      <th>job_admin</th>\n",
       "      <th>job_blue-collar</th>\n",
       "      <th>job_entrepreneur</th>\n",
       "      <th>job_housemaid</th>\n",
       "      <th>job_management</th>\n",
       "      <th>job_retired</th>\n",
       "      <th>job_self-employed</th>\n",
       "      <th>job_services</th>\n",
       "      <th>job_student</th>\n",
       "      <th>job_technician</th>\n",
       "      <th>...</th>\n",
       "      <th>default_yes</th>\n",
       "      <th>housing_no</th>\n",
       "      <th>housing_yes</th>\n",
       "      <th>loan_no</th>\n",
       "      <th>loan_yes</th>\n",
       "      <th>contact_cellular</th>\n",
       "      <th>contact_telephone</th>\n",
       "      <th>poutcome_failure</th>\n",
       "      <th>poutcome_other</th>\n",
       "      <th>poutcome_success</th>\n",
       "    </tr>\n",
       "  </thead>\n",
       "  <tbody>\n",
       "    <tr>\n",
       "      <th>0</th>\n",
       "      <td>0.0</td>\n",
       "      <td>0.0</td>\n",
       "      <td>0.0</td>\n",
       "      <td>0.0</td>\n",
       "      <td>1.0</td>\n",
       "      <td>0.0</td>\n",
       "      <td>0.0</td>\n",
       "      <td>0.0</td>\n",
       "      <td>0.0</td>\n",
       "      <td>0.0</td>\n",
       "      <td>...</td>\n",
       "      <td>0.0</td>\n",
       "      <td>0.0</td>\n",
       "      <td>1.0</td>\n",
       "      <td>1.0</td>\n",
       "      <td>0.0</td>\n",
       "      <td>1.0</td>\n",
       "      <td>0.0</td>\n",
       "      <td>1.0</td>\n",
       "      <td>0.0</td>\n",
       "      <td>0.0</td>\n",
       "    </tr>\n",
       "    <tr>\n",
       "      <th>1</th>\n",
       "      <td>0.0</td>\n",
       "      <td>0.0</td>\n",
       "      <td>0.0</td>\n",
       "      <td>0.0</td>\n",
       "      <td>0.0</td>\n",
       "      <td>0.0</td>\n",
       "      <td>0.0</td>\n",
       "      <td>0.0</td>\n",
       "      <td>0.0</td>\n",
       "      <td>1.0</td>\n",
       "      <td>...</td>\n",
       "      <td>0.0</td>\n",
       "      <td>0.0</td>\n",
       "      <td>1.0</td>\n",
       "      <td>1.0</td>\n",
       "      <td>0.0</td>\n",
       "      <td>1.0</td>\n",
       "      <td>0.0</td>\n",
       "      <td>1.0</td>\n",
       "      <td>0.0</td>\n",
       "      <td>0.0</td>\n",
       "    </tr>\n",
       "    <tr>\n",
       "      <th>2</th>\n",
       "      <td>0.0</td>\n",
       "      <td>0.0</td>\n",
       "      <td>1.0</td>\n",
       "      <td>0.0</td>\n",
       "      <td>0.0</td>\n",
       "      <td>0.0</td>\n",
       "      <td>0.0</td>\n",
       "      <td>0.0</td>\n",
       "      <td>0.0</td>\n",
       "      <td>0.0</td>\n",
       "      <td>...</td>\n",
       "      <td>0.0</td>\n",
       "      <td>0.0</td>\n",
       "      <td>1.0</td>\n",
       "      <td>0.0</td>\n",
       "      <td>1.0</td>\n",
       "      <td>1.0</td>\n",
       "      <td>0.0</td>\n",
       "      <td>1.0</td>\n",
       "      <td>0.0</td>\n",
       "      <td>0.0</td>\n",
       "    </tr>\n",
       "    <tr>\n",
       "      <th>3</th>\n",
       "      <td>0.0</td>\n",
       "      <td>1.0</td>\n",
       "      <td>0.0</td>\n",
       "      <td>0.0</td>\n",
       "      <td>0.0</td>\n",
       "      <td>0.0</td>\n",
       "      <td>0.0</td>\n",
       "      <td>0.0</td>\n",
       "      <td>0.0</td>\n",
       "      <td>0.0</td>\n",
       "      <td>...</td>\n",
       "      <td>0.0</td>\n",
       "      <td>0.0</td>\n",
       "      <td>1.0</td>\n",
       "      <td>1.0</td>\n",
       "      <td>0.0</td>\n",
       "      <td>1.0</td>\n",
       "      <td>0.0</td>\n",
       "      <td>1.0</td>\n",
       "      <td>0.0</td>\n",
       "      <td>0.0</td>\n",
       "    </tr>\n",
       "    <tr>\n",
       "      <th>4</th>\n",
       "      <td>0.0</td>\n",
       "      <td>1.0</td>\n",
       "      <td>0.0</td>\n",
       "      <td>0.0</td>\n",
       "      <td>0.0</td>\n",
       "      <td>0.0</td>\n",
       "      <td>0.0</td>\n",
       "      <td>0.0</td>\n",
       "      <td>0.0</td>\n",
       "      <td>0.0</td>\n",
       "      <td>...</td>\n",
       "      <td>0.0</td>\n",
       "      <td>1.0</td>\n",
       "      <td>0.0</td>\n",
       "      <td>1.0</td>\n",
       "      <td>0.0</td>\n",
       "      <td>1.0</td>\n",
       "      <td>0.0</td>\n",
       "      <td>1.0</td>\n",
       "      <td>0.0</td>\n",
       "      <td>0.0</td>\n",
       "    </tr>\n",
       "    <tr>\n",
       "      <th>...</th>\n",
       "      <td>...</td>\n",
       "      <td>...</td>\n",
       "      <td>...</td>\n",
       "      <td>...</td>\n",
       "      <td>...</td>\n",
       "      <td>...</td>\n",
       "      <td>...</td>\n",
       "      <td>...</td>\n",
       "      <td>...</td>\n",
       "      <td>...</td>\n",
       "      <td>...</td>\n",
       "      <td>...</td>\n",
       "      <td>...</td>\n",
       "      <td>...</td>\n",
       "      <td>...</td>\n",
       "      <td>...</td>\n",
       "      <td>...</td>\n",
       "      <td>...</td>\n",
       "      <td>...</td>\n",
       "      <td>...</td>\n",
       "      <td>...</td>\n",
       "    </tr>\n",
       "    <tr>\n",
       "      <th>45206</th>\n",
       "      <td>0.0</td>\n",
       "      <td>0.0</td>\n",
       "      <td>0.0</td>\n",
       "      <td>0.0</td>\n",
       "      <td>0.0</td>\n",
       "      <td>0.0</td>\n",
       "      <td>0.0</td>\n",
       "      <td>0.0</td>\n",
       "      <td>0.0</td>\n",
       "      <td>1.0</td>\n",
       "      <td>...</td>\n",
       "      <td>0.0</td>\n",
       "      <td>1.0</td>\n",
       "      <td>0.0</td>\n",
       "      <td>1.0</td>\n",
       "      <td>0.0</td>\n",
       "      <td>1.0</td>\n",
       "      <td>0.0</td>\n",
       "      <td>1.0</td>\n",
       "      <td>0.0</td>\n",
       "      <td>0.0</td>\n",
       "    </tr>\n",
       "    <tr>\n",
       "      <th>45207</th>\n",
       "      <td>0.0</td>\n",
       "      <td>0.0</td>\n",
       "      <td>0.0</td>\n",
       "      <td>0.0</td>\n",
       "      <td>0.0</td>\n",
       "      <td>1.0</td>\n",
       "      <td>0.0</td>\n",
       "      <td>0.0</td>\n",
       "      <td>0.0</td>\n",
       "      <td>0.0</td>\n",
       "      <td>...</td>\n",
       "      <td>0.0</td>\n",
       "      <td>1.0</td>\n",
       "      <td>0.0</td>\n",
       "      <td>1.0</td>\n",
       "      <td>0.0</td>\n",
       "      <td>1.0</td>\n",
       "      <td>0.0</td>\n",
       "      <td>1.0</td>\n",
       "      <td>0.0</td>\n",
       "      <td>0.0</td>\n",
       "    </tr>\n",
       "    <tr>\n",
       "      <th>45208</th>\n",
       "      <td>0.0</td>\n",
       "      <td>0.0</td>\n",
       "      <td>0.0</td>\n",
       "      <td>0.0</td>\n",
       "      <td>0.0</td>\n",
       "      <td>1.0</td>\n",
       "      <td>0.0</td>\n",
       "      <td>0.0</td>\n",
       "      <td>0.0</td>\n",
       "      <td>0.0</td>\n",
       "      <td>...</td>\n",
       "      <td>0.0</td>\n",
       "      <td>1.0</td>\n",
       "      <td>0.0</td>\n",
       "      <td>1.0</td>\n",
       "      <td>0.0</td>\n",
       "      <td>1.0</td>\n",
       "      <td>0.0</td>\n",
       "      <td>0.0</td>\n",
       "      <td>0.0</td>\n",
       "      <td>1.0</td>\n",
       "    </tr>\n",
       "    <tr>\n",
       "      <th>45209</th>\n",
       "      <td>0.0</td>\n",
       "      <td>1.0</td>\n",
       "      <td>0.0</td>\n",
       "      <td>0.0</td>\n",
       "      <td>0.0</td>\n",
       "      <td>0.0</td>\n",
       "      <td>0.0</td>\n",
       "      <td>0.0</td>\n",
       "      <td>0.0</td>\n",
       "      <td>0.0</td>\n",
       "      <td>...</td>\n",
       "      <td>0.0</td>\n",
       "      <td>1.0</td>\n",
       "      <td>0.0</td>\n",
       "      <td>1.0</td>\n",
       "      <td>0.0</td>\n",
       "      <td>0.0</td>\n",
       "      <td>1.0</td>\n",
       "      <td>1.0</td>\n",
       "      <td>0.0</td>\n",
       "      <td>0.0</td>\n",
       "    </tr>\n",
       "    <tr>\n",
       "      <th>45210</th>\n",
       "      <td>0.0</td>\n",
       "      <td>0.0</td>\n",
       "      <td>1.0</td>\n",
       "      <td>0.0</td>\n",
       "      <td>0.0</td>\n",
       "      <td>0.0</td>\n",
       "      <td>0.0</td>\n",
       "      <td>0.0</td>\n",
       "      <td>0.0</td>\n",
       "      <td>0.0</td>\n",
       "      <td>...</td>\n",
       "      <td>0.0</td>\n",
       "      <td>1.0</td>\n",
       "      <td>0.0</td>\n",
       "      <td>1.0</td>\n",
       "      <td>0.0</td>\n",
       "      <td>1.0</td>\n",
       "      <td>0.0</td>\n",
       "      <td>0.0</td>\n",
       "      <td>1.0</td>\n",
       "      <td>0.0</td>\n",
       "    </tr>\n",
       "  </tbody>\n",
       "</table>\n",
       "<p>45211 rows × 28 columns</p>\n",
       "</div>"
      ],
      "text/plain": [
       "       job_admin  job_blue-collar  job_entrepreneur  job_housemaid  \\\n",
       "0            0.0              0.0               0.0            0.0   \n",
       "1            0.0              0.0               0.0            0.0   \n",
       "2            0.0              0.0               1.0            0.0   \n",
       "3            0.0              1.0               0.0            0.0   \n",
       "4            0.0              1.0               0.0            0.0   \n",
       "...          ...              ...               ...            ...   \n",
       "45206        0.0              0.0               0.0            0.0   \n",
       "45207        0.0              0.0               0.0            0.0   \n",
       "45208        0.0              0.0               0.0            0.0   \n",
       "45209        0.0              1.0               0.0            0.0   \n",
       "45210        0.0              0.0               1.0            0.0   \n",
       "\n",
       "       job_management  job_retired  job_self-employed  job_services  \\\n",
       "0                 1.0          0.0                0.0           0.0   \n",
       "1                 0.0          0.0                0.0           0.0   \n",
       "2                 0.0          0.0                0.0           0.0   \n",
       "3                 0.0          0.0                0.0           0.0   \n",
       "4                 0.0          0.0                0.0           0.0   \n",
       "...               ...          ...                ...           ...   \n",
       "45206             0.0          0.0                0.0           0.0   \n",
       "45207             0.0          1.0                0.0           0.0   \n",
       "45208             0.0          1.0                0.0           0.0   \n",
       "45209             0.0          0.0                0.0           0.0   \n",
       "45210             0.0          0.0                0.0           0.0   \n",
       "\n",
       "       job_student  job_technician  ...  default_yes  housing_no  housing_yes  \\\n",
       "0              0.0             0.0  ...          0.0         0.0          1.0   \n",
       "1              0.0             1.0  ...          0.0         0.0          1.0   \n",
       "2              0.0             0.0  ...          0.0         0.0          1.0   \n",
       "3              0.0             0.0  ...          0.0         0.0          1.0   \n",
       "4              0.0             0.0  ...          0.0         1.0          0.0   \n",
       "...            ...             ...  ...          ...         ...          ...   \n",
       "45206          0.0             1.0  ...          0.0         1.0          0.0   \n",
       "45207          0.0             0.0  ...          0.0         1.0          0.0   \n",
       "45208          0.0             0.0  ...          0.0         1.0          0.0   \n",
       "45209          0.0             0.0  ...          0.0         1.0          0.0   \n",
       "45210          0.0             0.0  ...          0.0         1.0          0.0   \n",
       "\n",
       "       loan_no  loan_yes  contact_cellular  contact_telephone  \\\n",
       "0          1.0       0.0               1.0                0.0   \n",
       "1          1.0       0.0               1.0                0.0   \n",
       "2          0.0       1.0               1.0                0.0   \n",
       "3          1.0       0.0               1.0                0.0   \n",
       "4          1.0       0.0               1.0                0.0   \n",
       "...        ...       ...               ...                ...   \n",
       "45206      1.0       0.0               1.0                0.0   \n",
       "45207      1.0       0.0               1.0                0.0   \n",
       "45208      1.0       0.0               1.0                0.0   \n",
       "45209      1.0       0.0               0.0                1.0   \n",
       "45210      1.0       0.0               1.0                0.0   \n",
       "\n",
       "       poutcome_failure  poutcome_other  poutcome_success  \n",
       "0                   1.0             0.0               0.0  \n",
       "1                   1.0             0.0               0.0  \n",
       "2                   1.0             0.0               0.0  \n",
       "3                   1.0             0.0               0.0  \n",
       "4                   1.0             0.0               0.0  \n",
       "...                 ...             ...               ...  \n",
       "45206               1.0             0.0               0.0  \n",
       "45207               1.0             0.0               0.0  \n",
       "45208               0.0             0.0               1.0  \n",
       "45209               1.0             0.0               0.0  \n",
       "45210               0.0             1.0               0.0  \n",
       "\n",
       "[45211 rows x 28 columns]"
      ]
     },
     "metadata": {},
     "output_type": "display_data"
    }
   ],
   "source": [
    "categorical_features_encoded_df = pd.DataFrame(data=catergorical_features_encoded, columns=ohe_encoded_categories_list)\n",
    "display(categorical_features_encoded_df)"
   ]
  },
  {
   "cell_type": "markdown",
   "id": "f28dfef4-c8fc-4f2e-81c7-6d1916ed8187",
   "metadata": {},
   "source": [
    "#### 6) Combine the \"continuous_features_scaled_df\", \"categorical_features_encoded_df\", & \"encoded_target\" dataframes/series using pandas.concat()"
   ]
  },
  {
   "cell_type": "code",
   "execution_count": 107,
   "id": "11f4f654-b8af-444c-87b1-b5b592612c41",
   "metadata": {},
   "outputs": [
    {
     "data": {
      "text/html": [
       "<div>\n",
       "<style scoped>\n",
       "    .dataframe tbody tr th:only-of-type {\n",
       "        vertical-align: middle;\n",
       "    }\n",
       "\n",
       "    .dataframe tbody tr th {\n",
       "        vertical-align: top;\n",
       "    }\n",
       "\n",
       "    .dataframe thead th {\n",
       "        text-align: right;\n",
       "    }\n",
       "</style>\n",
       "<table border=\"1\" class=\"dataframe\">\n",
       "  <thead>\n",
       "    <tr style=\"text-align: right;\">\n",
       "      <th></th>\n",
       "      <th>age</th>\n",
       "      <th>balance</th>\n",
       "      <th>campaign</th>\n",
       "      <th>pdays</th>\n",
       "      <th>previous</th>\n",
       "    </tr>\n",
       "  </thead>\n",
       "  <tbody>\n",
       "    <tr>\n",
       "      <th>0</th>\n",
       "      <td>1.606965</td>\n",
       "      <td>0.256419</td>\n",
       "      <td>-0.569351</td>\n",
       "      <td>-0.411009</td>\n",
       "      <td>-0.251940</td>\n",
       "    </tr>\n",
       "    <tr>\n",
       "      <th>1</th>\n",
       "      <td>0.288529</td>\n",
       "      <td>-0.437895</td>\n",
       "      <td>-0.569351</td>\n",
       "      <td>-0.411009</td>\n",
       "      <td>-0.251940</td>\n",
       "    </tr>\n",
       "    <tr>\n",
       "      <th>2</th>\n",
       "      <td>-0.747384</td>\n",
       "      <td>-0.446762</td>\n",
       "      <td>-0.569351</td>\n",
       "      <td>-0.411009</td>\n",
       "      <td>-0.251940</td>\n",
       "    </tr>\n",
       "    <tr>\n",
       "      <th>3</th>\n",
       "      <td>0.571051</td>\n",
       "      <td>0.047205</td>\n",
       "      <td>-0.569351</td>\n",
       "      <td>-0.411009</td>\n",
       "      <td>-0.251940</td>\n",
       "    </tr>\n",
       "    <tr>\n",
       "      <th>4</th>\n",
       "      <td>-0.747384</td>\n",
       "      <td>-0.447091</td>\n",
       "      <td>-0.569351</td>\n",
       "      <td>-0.411009</td>\n",
       "      <td>-0.251940</td>\n",
       "    </tr>\n",
       "    <tr>\n",
       "      <th>...</th>\n",
       "      <td>...</td>\n",
       "      <td>...</td>\n",
       "      <td>...</td>\n",
       "      <td>...</td>\n",
       "      <td>...</td>\n",
       "    </tr>\n",
       "    <tr>\n",
       "      <th>45206</th>\n",
       "      <td>0.947747</td>\n",
       "      <td>-0.176460</td>\n",
       "      <td>0.076230</td>\n",
       "      <td>-0.411009</td>\n",
       "      <td>-0.251940</td>\n",
       "    </tr>\n",
       "    <tr>\n",
       "      <th>45207</th>\n",
       "      <td>2.831227</td>\n",
       "      <td>0.120447</td>\n",
       "      <td>-0.246560</td>\n",
       "      <td>-0.411009</td>\n",
       "      <td>-0.251940</td>\n",
       "    </tr>\n",
       "    <tr>\n",
       "      <th>45208</th>\n",
       "      <td>2.925401</td>\n",
       "      <td>1.429593</td>\n",
       "      <td>0.721811</td>\n",
       "      <td>1.432835</td>\n",
       "      <td>1.050473</td>\n",
       "    </tr>\n",
       "    <tr>\n",
       "      <th>45209</th>\n",
       "      <td>1.512791</td>\n",
       "      <td>-0.228024</td>\n",
       "      <td>0.399020</td>\n",
       "      <td>-0.411009</td>\n",
       "      <td>-0.251940</td>\n",
       "    </tr>\n",
       "    <tr>\n",
       "      <th>45210</th>\n",
       "      <td>-0.370689</td>\n",
       "      <td>0.528364</td>\n",
       "      <td>-0.246560</td>\n",
       "      <td>1.472919</td>\n",
       "      <td>4.523577</td>\n",
       "    </tr>\n",
       "  </tbody>\n",
       "</table>\n",
       "<p>45211 rows × 5 columns</p>\n",
       "</div>"
      ],
      "text/plain": [
       "            age   balance  campaign     pdays  previous\n",
       "0      1.606965  0.256419 -0.569351 -0.411009 -0.251940\n",
       "1      0.288529 -0.437895 -0.569351 -0.411009 -0.251940\n",
       "2     -0.747384 -0.446762 -0.569351 -0.411009 -0.251940\n",
       "3      0.571051  0.047205 -0.569351 -0.411009 -0.251940\n",
       "4     -0.747384 -0.447091 -0.569351 -0.411009 -0.251940\n",
       "...         ...       ...       ...       ...       ...\n",
       "45206  0.947747 -0.176460  0.076230 -0.411009 -0.251940\n",
       "45207  2.831227  0.120447 -0.246560 -0.411009 -0.251940\n",
       "45208  2.925401  1.429593  0.721811  1.432835  1.050473\n",
       "45209  1.512791 -0.228024  0.399020 -0.411009 -0.251940\n",
       "45210 -0.370689  0.528364 -0.246560  1.472919  4.523577\n",
       "\n",
       "[45211 rows x 5 columns]"
      ]
     },
     "execution_count": 107,
     "metadata": {},
     "output_type": "execute_result"
    }
   ],
   "source": [
    "continuous_features_scaled_df"
   ]
  },
  {
   "cell_type": "code",
   "execution_count": 108,
   "id": "23e72a8f-eaec-460c-96ab-7fce4d01ee6c",
   "metadata": {},
   "outputs": [
    {
     "data": {
      "text/html": [
       "<div>\n",
       "<style scoped>\n",
       "    .dataframe tbody tr th:only-of-type {\n",
       "        vertical-align: middle;\n",
       "    }\n",
       "\n",
       "    .dataframe tbody tr th {\n",
       "        vertical-align: top;\n",
       "    }\n",
       "\n",
       "    .dataframe thead th {\n",
       "        text-align: right;\n",
       "    }\n",
       "</style>\n",
       "<table border=\"1\" class=\"dataframe\">\n",
       "  <thead>\n",
       "    <tr style=\"text-align: right;\">\n",
       "      <th></th>\n",
       "      <th>job_admin</th>\n",
       "      <th>job_blue-collar</th>\n",
       "      <th>job_entrepreneur</th>\n",
       "      <th>job_housemaid</th>\n",
       "      <th>job_management</th>\n",
       "      <th>job_retired</th>\n",
       "      <th>job_self-employed</th>\n",
       "      <th>job_services</th>\n",
       "      <th>job_student</th>\n",
       "      <th>job_technician</th>\n",
       "      <th>...</th>\n",
       "      <th>default_yes</th>\n",
       "      <th>housing_no</th>\n",
       "      <th>housing_yes</th>\n",
       "      <th>loan_no</th>\n",
       "      <th>loan_yes</th>\n",
       "      <th>contact_cellular</th>\n",
       "      <th>contact_telephone</th>\n",
       "      <th>poutcome_failure</th>\n",
       "      <th>poutcome_other</th>\n",
       "      <th>poutcome_success</th>\n",
       "    </tr>\n",
       "  </thead>\n",
       "  <tbody>\n",
       "    <tr>\n",
       "      <th>0</th>\n",
       "      <td>0.0</td>\n",
       "      <td>0.0</td>\n",
       "      <td>0.0</td>\n",
       "      <td>0.0</td>\n",
       "      <td>1.0</td>\n",
       "      <td>0.0</td>\n",
       "      <td>0.0</td>\n",
       "      <td>0.0</td>\n",
       "      <td>0.0</td>\n",
       "      <td>0.0</td>\n",
       "      <td>...</td>\n",
       "      <td>0.0</td>\n",
       "      <td>0.0</td>\n",
       "      <td>1.0</td>\n",
       "      <td>1.0</td>\n",
       "      <td>0.0</td>\n",
       "      <td>1.0</td>\n",
       "      <td>0.0</td>\n",
       "      <td>1.0</td>\n",
       "      <td>0.0</td>\n",
       "      <td>0.0</td>\n",
       "    </tr>\n",
       "    <tr>\n",
       "      <th>1</th>\n",
       "      <td>0.0</td>\n",
       "      <td>0.0</td>\n",
       "      <td>0.0</td>\n",
       "      <td>0.0</td>\n",
       "      <td>0.0</td>\n",
       "      <td>0.0</td>\n",
       "      <td>0.0</td>\n",
       "      <td>0.0</td>\n",
       "      <td>0.0</td>\n",
       "      <td>1.0</td>\n",
       "      <td>...</td>\n",
       "      <td>0.0</td>\n",
       "      <td>0.0</td>\n",
       "      <td>1.0</td>\n",
       "      <td>1.0</td>\n",
       "      <td>0.0</td>\n",
       "      <td>1.0</td>\n",
       "      <td>0.0</td>\n",
       "      <td>1.0</td>\n",
       "      <td>0.0</td>\n",
       "      <td>0.0</td>\n",
       "    </tr>\n",
       "    <tr>\n",
       "      <th>2</th>\n",
       "      <td>0.0</td>\n",
       "      <td>0.0</td>\n",
       "      <td>1.0</td>\n",
       "      <td>0.0</td>\n",
       "      <td>0.0</td>\n",
       "      <td>0.0</td>\n",
       "      <td>0.0</td>\n",
       "      <td>0.0</td>\n",
       "      <td>0.0</td>\n",
       "      <td>0.0</td>\n",
       "      <td>...</td>\n",
       "      <td>0.0</td>\n",
       "      <td>0.0</td>\n",
       "      <td>1.0</td>\n",
       "      <td>0.0</td>\n",
       "      <td>1.0</td>\n",
       "      <td>1.0</td>\n",
       "      <td>0.0</td>\n",
       "      <td>1.0</td>\n",
       "      <td>0.0</td>\n",
       "      <td>0.0</td>\n",
       "    </tr>\n",
       "    <tr>\n",
       "      <th>3</th>\n",
       "      <td>0.0</td>\n",
       "      <td>1.0</td>\n",
       "      <td>0.0</td>\n",
       "      <td>0.0</td>\n",
       "      <td>0.0</td>\n",
       "      <td>0.0</td>\n",
       "      <td>0.0</td>\n",
       "      <td>0.0</td>\n",
       "      <td>0.0</td>\n",
       "      <td>0.0</td>\n",
       "      <td>...</td>\n",
       "      <td>0.0</td>\n",
       "      <td>0.0</td>\n",
       "      <td>1.0</td>\n",
       "      <td>1.0</td>\n",
       "      <td>0.0</td>\n",
       "      <td>1.0</td>\n",
       "      <td>0.0</td>\n",
       "      <td>1.0</td>\n",
       "      <td>0.0</td>\n",
       "      <td>0.0</td>\n",
       "    </tr>\n",
       "    <tr>\n",
       "      <th>4</th>\n",
       "      <td>0.0</td>\n",
       "      <td>1.0</td>\n",
       "      <td>0.0</td>\n",
       "      <td>0.0</td>\n",
       "      <td>0.0</td>\n",
       "      <td>0.0</td>\n",
       "      <td>0.0</td>\n",
       "      <td>0.0</td>\n",
       "      <td>0.0</td>\n",
       "      <td>0.0</td>\n",
       "      <td>...</td>\n",
       "      <td>0.0</td>\n",
       "      <td>1.0</td>\n",
       "      <td>0.0</td>\n",
       "      <td>1.0</td>\n",
       "      <td>0.0</td>\n",
       "      <td>1.0</td>\n",
       "      <td>0.0</td>\n",
       "      <td>1.0</td>\n",
       "      <td>0.0</td>\n",
       "      <td>0.0</td>\n",
       "    </tr>\n",
       "    <tr>\n",
       "      <th>...</th>\n",
       "      <td>...</td>\n",
       "      <td>...</td>\n",
       "      <td>...</td>\n",
       "      <td>...</td>\n",
       "      <td>...</td>\n",
       "      <td>...</td>\n",
       "      <td>...</td>\n",
       "      <td>...</td>\n",
       "      <td>...</td>\n",
       "      <td>...</td>\n",
       "      <td>...</td>\n",
       "      <td>...</td>\n",
       "      <td>...</td>\n",
       "      <td>...</td>\n",
       "      <td>...</td>\n",
       "      <td>...</td>\n",
       "      <td>...</td>\n",
       "      <td>...</td>\n",
       "      <td>...</td>\n",
       "      <td>...</td>\n",
       "      <td>...</td>\n",
       "    </tr>\n",
       "    <tr>\n",
       "      <th>45206</th>\n",
       "      <td>0.0</td>\n",
       "      <td>0.0</td>\n",
       "      <td>0.0</td>\n",
       "      <td>0.0</td>\n",
       "      <td>0.0</td>\n",
       "      <td>0.0</td>\n",
       "      <td>0.0</td>\n",
       "      <td>0.0</td>\n",
       "      <td>0.0</td>\n",
       "      <td>1.0</td>\n",
       "      <td>...</td>\n",
       "      <td>0.0</td>\n",
       "      <td>1.0</td>\n",
       "      <td>0.0</td>\n",
       "      <td>1.0</td>\n",
       "      <td>0.0</td>\n",
       "      <td>1.0</td>\n",
       "      <td>0.0</td>\n",
       "      <td>1.0</td>\n",
       "      <td>0.0</td>\n",
       "      <td>0.0</td>\n",
       "    </tr>\n",
       "    <tr>\n",
       "      <th>45207</th>\n",
       "      <td>0.0</td>\n",
       "      <td>0.0</td>\n",
       "      <td>0.0</td>\n",
       "      <td>0.0</td>\n",
       "      <td>0.0</td>\n",
       "      <td>1.0</td>\n",
       "      <td>0.0</td>\n",
       "      <td>0.0</td>\n",
       "      <td>0.0</td>\n",
       "      <td>0.0</td>\n",
       "      <td>...</td>\n",
       "      <td>0.0</td>\n",
       "      <td>1.0</td>\n",
       "      <td>0.0</td>\n",
       "      <td>1.0</td>\n",
       "      <td>0.0</td>\n",
       "      <td>1.0</td>\n",
       "      <td>0.0</td>\n",
       "      <td>1.0</td>\n",
       "      <td>0.0</td>\n",
       "      <td>0.0</td>\n",
       "    </tr>\n",
       "    <tr>\n",
       "      <th>45208</th>\n",
       "      <td>0.0</td>\n",
       "      <td>0.0</td>\n",
       "      <td>0.0</td>\n",
       "      <td>0.0</td>\n",
       "      <td>0.0</td>\n",
       "      <td>1.0</td>\n",
       "      <td>0.0</td>\n",
       "      <td>0.0</td>\n",
       "      <td>0.0</td>\n",
       "      <td>0.0</td>\n",
       "      <td>...</td>\n",
       "      <td>0.0</td>\n",
       "      <td>1.0</td>\n",
       "      <td>0.0</td>\n",
       "      <td>1.0</td>\n",
       "      <td>0.0</td>\n",
       "      <td>1.0</td>\n",
       "      <td>0.0</td>\n",
       "      <td>0.0</td>\n",
       "      <td>0.0</td>\n",
       "      <td>1.0</td>\n",
       "    </tr>\n",
       "    <tr>\n",
       "      <th>45209</th>\n",
       "      <td>0.0</td>\n",
       "      <td>1.0</td>\n",
       "      <td>0.0</td>\n",
       "      <td>0.0</td>\n",
       "      <td>0.0</td>\n",
       "      <td>0.0</td>\n",
       "      <td>0.0</td>\n",
       "      <td>0.0</td>\n",
       "      <td>0.0</td>\n",
       "      <td>0.0</td>\n",
       "      <td>...</td>\n",
       "      <td>0.0</td>\n",
       "      <td>1.0</td>\n",
       "      <td>0.0</td>\n",
       "      <td>1.0</td>\n",
       "      <td>0.0</td>\n",
       "      <td>0.0</td>\n",
       "      <td>1.0</td>\n",
       "      <td>1.0</td>\n",
       "      <td>0.0</td>\n",
       "      <td>0.0</td>\n",
       "    </tr>\n",
       "    <tr>\n",
       "      <th>45210</th>\n",
       "      <td>0.0</td>\n",
       "      <td>0.0</td>\n",
       "      <td>1.0</td>\n",
       "      <td>0.0</td>\n",
       "      <td>0.0</td>\n",
       "      <td>0.0</td>\n",
       "      <td>0.0</td>\n",
       "      <td>0.0</td>\n",
       "      <td>0.0</td>\n",
       "      <td>0.0</td>\n",
       "      <td>...</td>\n",
       "      <td>0.0</td>\n",
       "      <td>1.0</td>\n",
       "      <td>0.0</td>\n",
       "      <td>1.0</td>\n",
       "      <td>0.0</td>\n",
       "      <td>1.0</td>\n",
       "      <td>0.0</td>\n",
       "      <td>0.0</td>\n",
       "      <td>1.0</td>\n",
       "      <td>0.0</td>\n",
       "    </tr>\n",
       "  </tbody>\n",
       "</table>\n",
       "<p>45211 rows × 28 columns</p>\n",
       "</div>"
      ],
      "text/plain": [
       "       job_admin  job_blue-collar  job_entrepreneur  job_housemaid  \\\n",
       "0            0.0              0.0               0.0            0.0   \n",
       "1            0.0              0.0               0.0            0.0   \n",
       "2            0.0              0.0               1.0            0.0   \n",
       "3            0.0              1.0               0.0            0.0   \n",
       "4            0.0              1.0               0.0            0.0   \n",
       "...          ...              ...               ...            ...   \n",
       "45206        0.0              0.0               0.0            0.0   \n",
       "45207        0.0              0.0               0.0            0.0   \n",
       "45208        0.0              0.0               0.0            0.0   \n",
       "45209        0.0              1.0               0.0            0.0   \n",
       "45210        0.0              0.0               1.0            0.0   \n",
       "\n",
       "       job_management  job_retired  job_self-employed  job_services  \\\n",
       "0                 1.0          0.0                0.0           0.0   \n",
       "1                 0.0          0.0                0.0           0.0   \n",
       "2                 0.0          0.0                0.0           0.0   \n",
       "3                 0.0          0.0                0.0           0.0   \n",
       "4                 0.0          0.0                0.0           0.0   \n",
       "...               ...          ...                ...           ...   \n",
       "45206             0.0          0.0                0.0           0.0   \n",
       "45207             0.0          1.0                0.0           0.0   \n",
       "45208             0.0          1.0                0.0           0.0   \n",
       "45209             0.0          0.0                0.0           0.0   \n",
       "45210             0.0          0.0                0.0           0.0   \n",
       "\n",
       "       job_student  job_technician  ...  default_yes  housing_no  housing_yes  \\\n",
       "0              0.0             0.0  ...          0.0         0.0          1.0   \n",
       "1              0.0             1.0  ...          0.0         0.0          1.0   \n",
       "2              0.0             0.0  ...          0.0         0.0          1.0   \n",
       "3              0.0             0.0  ...          0.0         0.0          1.0   \n",
       "4              0.0             0.0  ...          0.0         1.0          0.0   \n",
       "...            ...             ...  ...          ...         ...          ...   \n",
       "45206          0.0             1.0  ...          0.0         1.0          0.0   \n",
       "45207          0.0             0.0  ...          0.0         1.0          0.0   \n",
       "45208          0.0             0.0  ...          0.0         1.0          0.0   \n",
       "45209          0.0             0.0  ...          0.0         1.0          0.0   \n",
       "45210          0.0             0.0  ...          0.0         1.0          0.0   \n",
       "\n",
       "       loan_no  loan_yes  contact_cellular  contact_telephone  \\\n",
       "0          1.0       0.0               1.0                0.0   \n",
       "1          1.0       0.0               1.0                0.0   \n",
       "2          0.0       1.0               1.0                0.0   \n",
       "3          1.0       0.0               1.0                0.0   \n",
       "4          1.0       0.0               1.0                0.0   \n",
       "...        ...       ...               ...                ...   \n",
       "45206      1.0       0.0               1.0                0.0   \n",
       "45207      1.0       0.0               1.0                0.0   \n",
       "45208      1.0       0.0               1.0                0.0   \n",
       "45209      1.0       0.0               0.0                1.0   \n",
       "45210      1.0       0.0               1.0                0.0   \n",
       "\n",
       "       poutcome_failure  poutcome_other  poutcome_success  \n",
       "0                   1.0             0.0               0.0  \n",
       "1                   1.0             0.0               0.0  \n",
       "2                   1.0             0.0               0.0  \n",
       "3                   1.0             0.0               0.0  \n",
       "4                   1.0             0.0               0.0  \n",
       "...                 ...             ...               ...  \n",
       "45206               1.0             0.0               0.0  \n",
       "45207               1.0             0.0               0.0  \n",
       "45208               0.0             0.0               1.0  \n",
       "45209               1.0             0.0               0.0  \n",
       "45210               0.0             1.0               0.0  \n",
       "\n",
       "[45211 rows x 28 columns]"
      ]
     },
     "execution_count": 108,
     "metadata": {},
     "output_type": "execute_result"
    }
   ],
   "source": [
    "categorical_features_encoded_df"
   ]
  },
  {
   "cell_type": "code",
   "execution_count": 109,
   "id": "7dea8768-fd89-4706-9f2b-cbab0b6eb6ea",
   "metadata": {},
   "outputs": [
    {
     "data": {
      "text/plain": [
       "0        0\n",
       "1        0\n",
       "2        0\n",
       "3        0\n",
       "4        0\n",
       "        ..\n",
       "45206    1\n",
       "45207    1\n",
       "45208    1\n",
       "45209    0\n",
       "45210    0\n",
       "Name: y, Length: 45211, dtype: int32"
      ]
     },
     "execution_count": 109,
     "metadata": {},
     "output_type": "execute_result"
    }
   ],
   "source": [
    "encoded_target"
   ]
  },
  {
   "cell_type": "code",
   "execution_count": 110,
   "id": "9f11133d-15a7-4007-8b43-5b82ce1bf6a1",
   "metadata": {},
   "outputs": [],
   "source": [
    "preprocessed_bank_data = pd.concat([continuous_features_scaled_df, categorical_features_encoded_df, encoded_target], axis=1)"
   ]
  },
  {
   "cell_type": "code",
   "execution_count": 111,
   "id": "8a86f664-e016-4100-aa72-24c61c83a93c",
   "metadata": {},
   "outputs": [
    {
     "data": {
      "text/html": [
       "<div>\n",
       "<style scoped>\n",
       "    .dataframe tbody tr th:only-of-type {\n",
       "        vertical-align: middle;\n",
       "    }\n",
       "\n",
       "    .dataframe tbody tr th {\n",
       "        vertical-align: top;\n",
       "    }\n",
       "\n",
       "    .dataframe thead th {\n",
       "        text-align: right;\n",
       "    }\n",
       "</style>\n",
       "<table border=\"1\" class=\"dataframe\">\n",
       "  <thead>\n",
       "    <tr style=\"text-align: right;\">\n",
       "      <th></th>\n",
       "      <th>age</th>\n",
       "      <th>balance</th>\n",
       "      <th>campaign</th>\n",
       "      <th>pdays</th>\n",
       "      <th>previous</th>\n",
       "      <th>job_admin</th>\n",
       "      <th>job_blue-collar</th>\n",
       "      <th>job_entrepreneur</th>\n",
       "      <th>job_housemaid</th>\n",
       "      <th>job_management</th>\n",
       "      <th>...</th>\n",
       "      <th>housing_no</th>\n",
       "      <th>housing_yes</th>\n",
       "      <th>loan_no</th>\n",
       "      <th>loan_yes</th>\n",
       "      <th>contact_cellular</th>\n",
       "      <th>contact_telephone</th>\n",
       "      <th>poutcome_failure</th>\n",
       "      <th>poutcome_other</th>\n",
       "      <th>poutcome_success</th>\n",
       "      <th>y</th>\n",
       "    </tr>\n",
       "  </thead>\n",
       "  <tbody>\n",
       "    <tr>\n",
       "      <th>0</th>\n",
       "      <td>1.606965</td>\n",
       "      <td>0.256419</td>\n",
       "      <td>-0.569351</td>\n",
       "      <td>-0.411009</td>\n",
       "      <td>-0.251940</td>\n",
       "      <td>0.0</td>\n",
       "      <td>0.0</td>\n",
       "      <td>0.0</td>\n",
       "      <td>0.0</td>\n",
       "      <td>1.0</td>\n",
       "      <td>...</td>\n",
       "      <td>0.0</td>\n",
       "      <td>1.0</td>\n",
       "      <td>1.0</td>\n",
       "      <td>0.0</td>\n",
       "      <td>1.0</td>\n",
       "      <td>0.0</td>\n",
       "      <td>1.0</td>\n",
       "      <td>0.0</td>\n",
       "      <td>0.0</td>\n",
       "      <td>0</td>\n",
       "    </tr>\n",
       "    <tr>\n",
       "      <th>1</th>\n",
       "      <td>0.288529</td>\n",
       "      <td>-0.437895</td>\n",
       "      <td>-0.569351</td>\n",
       "      <td>-0.411009</td>\n",
       "      <td>-0.251940</td>\n",
       "      <td>0.0</td>\n",
       "      <td>0.0</td>\n",
       "      <td>0.0</td>\n",
       "      <td>0.0</td>\n",
       "      <td>0.0</td>\n",
       "      <td>...</td>\n",
       "      <td>0.0</td>\n",
       "      <td>1.0</td>\n",
       "      <td>1.0</td>\n",
       "      <td>0.0</td>\n",
       "      <td>1.0</td>\n",
       "      <td>0.0</td>\n",
       "      <td>1.0</td>\n",
       "      <td>0.0</td>\n",
       "      <td>0.0</td>\n",
       "      <td>0</td>\n",
       "    </tr>\n",
       "    <tr>\n",
       "      <th>2</th>\n",
       "      <td>-0.747384</td>\n",
       "      <td>-0.446762</td>\n",
       "      <td>-0.569351</td>\n",
       "      <td>-0.411009</td>\n",
       "      <td>-0.251940</td>\n",
       "      <td>0.0</td>\n",
       "      <td>0.0</td>\n",
       "      <td>1.0</td>\n",
       "      <td>0.0</td>\n",
       "      <td>0.0</td>\n",
       "      <td>...</td>\n",
       "      <td>0.0</td>\n",
       "      <td>1.0</td>\n",
       "      <td>0.0</td>\n",
       "      <td>1.0</td>\n",
       "      <td>1.0</td>\n",
       "      <td>0.0</td>\n",
       "      <td>1.0</td>\n",
       "      <td>0.0</td>\n",
       "      <td>0.0</td>\n",
       "      <td>0</td>\n",
       "    </tr>\n",
       "    <tr>\n",
       "      <th>3</th>\n",
       "      <td>0.571051</td>\n",
       "      <td>0.047205</td>\n",
       "      <td>-0.569351</td>\n",
       "      <td>-0.411009</td>\n",
       "      <td>-0.251940</td>\n",
       "      <td>0.0</td>\n",
       "      <td>1.0</td>\n",
       "      <td>0.0</td>\n",
       "      <td>0.0</td>\n",
       "      <td>0.0</td>\n",
       "      <td>...</td>\n",
       "      <td>0.0</td>\n",
       "      <td>1.0</td>\n",
       "      <td>1.0</td>\n",
       "      <td>0.0</td>\n",
       "      <td>1.0</td>\n",
       "      <td>0.0</td>\n",
       "      <td>1.0</td>\n",
       "      <td>0.0</td>\n",
       "      <td>0.0</td>\n",
       "      <td>0</td>\n",
       "    </tr>\n",
       "    <tr>\n",
       "      <th>4</th>\n",
       "      <td>-0.747384</td>\n",
       "      <td>-0.447091</td>\n",
       "      <td>-0.569351</td>\n",
       "      <td>-0.411009</td>\n",
       "      <td>-0.251940</td>\n",
       "      <td>0.0</td>\n",
       "      <td>1.0</td>\n",
       "      <td>0.0</td>\n",
       "      <td>0.0</td>\n",
       "      <td>0.0</td>\n",
       "      <td>...</td>\n",
       "      <td>1.0</td>\n",
       "      <td>0.0</td>\n",
       "      <td>1.0</td>\n",
       "      <td>0.0</td>\n",
       "      <td>1.0</td>\n",
       "      <td>0.0</td>\n",
       "      <td>1.0</td>\n",
       "      <td>0.0</td>\n",
       "      <td>0.0</td>\n",
       "      <td>0</td>\n",
       "    </tr>\n",
       "    <tr>\n",
       "      <th>...</th>\n",
       "      <td>...</td>\n",
       "      <td>...</td>\n",
       "      <td>...</td>\n",
       "      <td>...</td>\n",
       "      <td>...</td>\n",
       "      <td>...</td>\n",
       "      <td>...</td>\n",
       "      <td>...</td>\n",
       "      <td>...</td>\n",
       "      <td>...</td>\n",
       "      <td>...</td>\n",
       "      <td>...</td>\n",
       "      <td>...</td>\n",
       "      <td>...</td>\n",
       "      <td>...</td>\n",
       "      <td>...</td>\n",
       "      <td>...</td>\n",
       "      <td>...</td>\n",
       "      <td>...</td>\n",
       "      <td>...</td>\n",
       "      <td>...</td>\n",
       "    </tr>\n",
       "    <tr>\n",
       "      <th>45206</th>\n",
       "      <td>0.947747</td>\n",
       "      <td>-0.176460</td>\n",
       "      <td>0.076230</td>\n",
       "      <td>-0.411009</td>\n",
       "      <td>-0.251940</td>\n",
       "      <td>0.0</td>\n",
       "      <td>0.0</td>\n",
       "      <td>0.0</td>\n",
       "      <td>0.0</td>\n",
       "      <td>0.0</td>\n",
       "      <td>...</td>\n",
       "      <td>1.0</td>\n",
       "      <td>0.0</td>\n",
       "      <td>1.0</td>\n",
       "      <td>0.0</td>\n",
       "      <td>1.0</td>\n",
       "      <td>0.0</td>\n",
       "      <td>1.0</td>\n",
       "      <td>0.0</td>\n",
       "      <td>0.0</td>\n",
       "      <td>1</td>\n",
       "    </tr>\n",
       "    <tr>\n",
       "      <th>45207</th>\n",
       "      <td>2.831227</td>\n",
       "      <td>0.120447</td>\n",
       "      <td>-0.246560</td>\n",
       "      <td>-0.411009</td>\n",
       "      <td>-0.251940</td>\n",
       "      <td>0.0</td>\n",
       "      <td>0.0</td>\n",
       "      <td>0.0</td>\n",
       "      <td>0.0</td>\n",
       "      <td>0.0</td>\n",
       "      <td>...</td>\n",
       "      <td>1.0</td>\n",
       "      <td>0.0</td>\n",
       "      <td>1.0</td>\n",
       "      <td>0.0</td>\n",
       "      <td>1.0</td>\n",
       "      <td>0.0</td>\n",
       "      <td>1.0</td>\n",
       "      <td>0.0</td>\n",
       "      <td>0.0</td>\n",
       "      <td>1</td>\n",
       "    </tr>\n",
       "    <tr>\n",
       "      <th>45208</th>\n",
       "      <td>2.925401</td>\n",
       "      <td>1.429593</td>\n",
       "      <td>0.721811</td>\n",
       "      <td>1.432835</td>\n",
       "      <td>1.050473</td>\n",
       "      <td>0.0</td>\n",
       "      <td>0.0</td>\n",
       "      <td>0.0</td>\n",
       "      <td>0.0</td>\n",
       "      <td>0.0</td>\n",
       "      <td>...</td>\n",
       "      <td>1.0</td>\n",
       "      <td>0.0</td>\n",
       "      <td>1.0</td>\n",
       "      <td>0.0</td>\n",
       "      <td>1.0</td>\n",
       "      <td>0.0</td>\n",
       "      <td>0.0</td>\n",
       "      <td>0.0</td>\n",
       "      <td>1.0</td>\n",
       "      <td>1</td>\n",
       "    </tr>\n",
       "    <tr>\n",
       "      <th>45209</th>\n",
       "      <td>1.512791</td>\n",
       "      <td>-0.228024</td>\n",
       "      <td>0.399020</td>\n",
       "      <td>-0.411009</td>\n",
       "      <td>-0.251940</td>\n",
       "      <td>0.0</td>\n",
       "      <td>1.0</td>\n",
       "      <td>0.0</td>\n",
       "      <td>0.0</td>\n",
       "      <td>0.0</td>\n",
       "      <td>...</td>\n",
       "      <td>1.0</td>\n",
       "      <td>0.0</td>\n",
       "      <td>1.0</td>\n",
       "      <td>0.0</td>\n",
       "      <td>0.0</td>\n",
       "      <td>1.0</td>\n",
       "      <td>1.0</td>\n",
       "      <td>0.0</td>\n",
       "      <td>0.0</td>\n",
       "      <td>0</td>\n",
       "    </tr>\n",
       "    <tr>\n",
       "      <th>45210</th>\n",
       "      <td>-0.370689</td>\n",
       "      <td>0.528364</td>\n",
       "      <td>-0.246560</td>\n",
       "      <td>1.472919</td>\n",
       "      <td>4.523577</td>\n",
       "      <td>0.0</td>\n",
       "      <td>0.0</td>\n",
       "      <td>1.0</td>\n",
       "      <td>0.0</td>\n",
       "      <td>0.0</td>\n",
       "      <td>...</td>\n",
       "      <td>1.0</td>\n",
       "      <td>0.0</td>\n",
       "      <td>1.0</td>\n",
       "      <td>0.0</td>\n",
       "      <td>1.0</td>\n",
       "      <td>0.0</td>\n",
       "      <td>0.0</td>\n",
       "      <td>1.0</td>\n",
       "      <td>0.0</td>\n",
       "      <td>0</td>\n",
       "    </tr>\n",
       "  </tbody>\n",
       "</table>\n",
       "<p>45211 rows × 34 columns</p>\n",
       "</div>"
      ],
      "text/plain": [
       "            age   balance  campaign     pdays  previous  job_admin  \\\n",
       "0      1.606965  0.256419 -0.569351 -0.411009 -0.251940        0.0   \n",
       "1      0.288529 -0.437895 -0.569351 -0.411009 -0.251940        0.0   \n",
       "2     -0.747384 -0.446762 -0.569351 -0.411009 -0.251940        0.0   \n",
       "3      0.571051  0.047205 -0.569351 -0.411009 -0.251940        0.0   \n",
       "4     -0.747384 -0.447091 -0.569351 -0.411009 -0.251940        0.0   \n",
       "...         ...       ...       ...       ...       ...        ...   \n",
       "45206  0.947747 -0.176460  0.076230 -0.411009 -0.251940        0.0   \n",
       "45207  2.831227  0.120447 -0.246560 -0.411009 -0.251940        0.0   \n",
       "45208  2.925401  1.429593  0.721811  1.432835  1.050473        0.0   \n",
       "45209  1.512791 -0.228024  0.399020 -0.411009 -0.251940        0.0   \n",
       "45210 -0.370689  0.528364 -0.246560  1.472919  4.523577        0.0   \n",
       "\n",
       "       job_blue-collar  job_entrepreneur  job_housemaid  job_management  ...  \\\n",
       "0                  0.0               0.0            0.0             1.0  ...   \n",
       "1                  0.0               0.0            0.0             0.0  ...   \n",
       "2                  0.0               1.0            0.0             0.0  ...   \n",
       "3                  1.0               0.0            0.0             0.0  ...   \n",
       "4                  1.0               0.0            0.0             0.0  ...   \n",
       "...                ...               ...            ...             ...  ...   \n",
       "45206              0.0               0.0            0.0             0.0  ...   \n",
       "45207              0.0               0.0            0.0             0.0  ...   \n",
       "45208              0.0               0.0            0.0             0.0  ...   \n",
       "45209              1.0               0.0            0.0             0.0  ...   \n",
       "45210              0.0               1.0            0.0             0.0  ...   \n",
       "\n",
       "       housing_no  housing_yes  loan_no  loan_yes  contact_cellular  \\\n",
       "0             0.0          1.0      1.0       0.0               1.0   \n",
       "1             0.0          1.0      1.0       0.0               1.0   \n",
       "2             0.0          1.0      0.0       1.0               1.0   \n",
       "3             0.0          1.0      1.0       0.0               1.0   \n",
       "4             1.0          0.0      1.0       0.0               1.0   \n",
       "...           ...          ...      ...       ...               ...   \n",
       "45206         1.0          0.0      1.0       0.0               1.0   \n",
       "45207         1.0          0.0      1.0       0.0               1.0   \n",
       "45208         1.0          0.0      1.0       0.0               1.0   \n",
       "45209         1.0          0.0      1.0       0.0               0.0   \n",
       "45210         1.0          0.0      1.0       0.0               1.0   \n",
       "\n",
       "       contact_telephone  poutcome_failure  poutcome_other  poutcome_success  \\\n",
       "0                    0.0               1.0             0.0               0.0   \n",
       "1                    0.0               1.0             0.0               0.0   \n",
       "2                    0.0               1.0             0.0               0.0   \n",
       "3                    0.0               1.0             0.0               0.0   \n",
       "4                    0.0               1.0             0.0               0.0   \n",
       "...                  ...               ...             ...               ...   \n",
       "45206                0.0               1.0             0.0               0.0   \n",
       "45207                0.0               1.0             0.0               0.0   \n",
       "45208                0.0               0.0             0.0               1.0   \n",
       "45209                1.0               1.0             0.0               0.0   \n",
       "45210                0.0               0.0             1.0               0.0   \n",
       "\n",
       "       y  \n",
       "0      0  \n",
       "1      0  \n",
       "2      0  \n",
       "3      0  \n",
       "4      0  \n",
       "...   ..  \n",
       "45206  1  \n",
       "45207  1  \n",
       "45208  1  \n",
       "45209  0  \n",
       "45210  0  \n",
       "\n",
       "[45211 rows x 34 columns]"
      ]
     },
     "execution_count": 111,
     "metadata": {},
     "output_type": "execute_result"
    }
   ],
   "source": [
    "preprocessed_bank_data"
   ]
  },
  {
   "cell_type": "markdown",
   "id": "314fb937-6618-4c1a-ad20-359336c85a2e",
   "metadata": {},
   "source": [
    "#### 7) Answer Research Questions"
   ]
  },
  {
   "cell_type": "markdown",
   "id": "02cd9946-6f7b-4cdb-983d-0f0777d67eab",
   "metadata": {},
   "source": [
    "##### 7A) Proportion of successful calls"
   ]
  },
  {
   "cell_type": "code",
   "execution_count": 112,
   "id": "4b43d264-0a57-4e70-8c57-261e4560dd12",
   "metadata": {},
   "outputs": [
    {
     "name": "stdout",
     "output_type": "stream",
     "text": [
      "The proportion of successful calls: 11.7\n",
      "The proportion of successful calls made through cell phone: 92.63\n",
      "The proportion of successful calls made through telephone: 7.37\n"
     ]
    }
   ],
   "source": [
    "total_calls = len(preprocessed_bank_data[[\"contact_telephone\"]])\n",
    "successful_calls = preprocessed_bank_data[((preprocessed_bank_data.loc[:, \"contact_telephone\"] == 1) | (preprocessed_bank_data.loc[:, \"contact_cellular\"] == 1 )) & (preprocessed_bank_data.loc[:, \"y\"] == 1)].shape[0]\n",
    "\n",
    "proportion_successful_calls = successful_calls/total_calls\n",
    "\n",
    "proportion_successful_cellular_calls = (preprocessed_bank_data[((preprocessed_bank_data.loc[:, \"contact_telephone\"] == 1) | (preprocessed_bank_data.loc[:, \"contact_cellular\"] == 1 )) & (preprocessed_bank_data.loc[:, \"y\"] == 1)][\"contact_cellular\"].sum()) / successful_calls\n",
    "proportion_successful_telephone_calls = (preprocessed_bank_data[((preprocessed_bank_data.loc[:, \"contact_telephone\"] == 1) | (preprocessed_bank_data.loc[:, \"contact_cellular\"] == 1 )) & (preprocessed_bank_data.loc[:, \"y\"] == 1)][\"contact_telephone\"].sum()) / successful_calls\n",
    "\n",
    "\n",
    "print(f\"The proportion of successful calls: {round(proportion_successful_calls * 100,2)}\")\n",
    "print(f\"The proportion of successful calls made through cell phone: {round(proportion_successful_cellular_calls * 100,2)}\")\n",
    "print(f\"The proportion of successful calls made through telephone: {round(proportion_successful_telephone_calls * 100,2)}\")"
   ]
  },
  {
   "cell_type": "markdown",
   "id": "1e5f832b-27b8-4374-b2c6-4d939dd525ce",
   "metadata": {},
   "source": [
    "#### 8) Handling imbalanced dataset"
   ]
  },
  {
   "cell_type": "code",
   "execution_count": 113,
   "id": "b7d9086b-0da3-44e5-a50b-b3b62018731b",
   "metadata": {},
   "outputs": [
    {
     "data": {
      "text/plain": [
       "0    0.883015\n",
       "1    0.116985\n",
       "Name: y, dtype: float64"
      ]
     },
     "execution_count": 113,
     "metadata": {},
     "output_type": "execute_result"
    }
   ],
   "source": [
    "preprocessed_bank_data[\"y\"].value_counts(normalize=True)"
   ]
  },
  {
   "cell_type": "code",
   "execution_count": 114,
   "id": "b1122216-cfbe-4de9-8b3b-2473253c1b46",
   "metadata": {},
   "outputs": [],
   "source": [
    "over_sampler = RandomOverSampler()"
   ]
  },
  {
   "cell_type": "code",
   "execution_count": 115,
   "id": "3822f758-4049-4de5-a1a6-930175dfde33",
   "metadata": {},
   "outputs": [],
   "source": [
    "preprocessed_bank_data_features = preprocessed_bank_data.drop(columns=[\"y\"])\n",
    "preprocessed_bank_data_target = preprocessed_bank_data[\"y\"]"
   ]
  },
  {
   "cell_type": "code",
   "execution_count": 116,
   "id": "edf16f2f-d266-408c-abae-8ebd613a8c71",
   "metadata": {},
   "outputs": [],
   "source": [
    "sampled_bank_data_features, sampled_bank_data_target = over_sampler.fit_sample(preprocessed_bank_data_features,preprocessed_bank_data_target) "
   ]
  },
  {
   "cell_type": "code",
   "execution_count": 117,
   "id": "09a3e8ae-c805-45d6-91b5-77854d8096e0",
   "metadata": {},
   "outputs": [
    {
     "data": {
      "text/plain": [
       "0    0.5\n",
       "1    0.5\n",
       "Name: y, dtype: float64"
      ]
     },
     "metadata": {},
     "output_type": "display_data"
    }
   ],
   "source": [
    "display(sampled_bank_data_target.value_counts(normalize=True))"
   ]
  },
  {
   "cell_type": "code",
   "execution_count": 118,
   "id": "69ce741b-811b-4cb3-b518-c809ffdc0b2c",
   "metadata": {},
   "outputs": [],
   "source": [
    "sampled_bank_data = pd.concat([sampled_bank_data_features, sampled_bank_data_target], axis=1)"
   ]
  },
  {
   "cell_type": "code",
   "execution_count": 119,
   "id": "38b3d18d-370e-4d3a-b831-a5b06cf1b175",
   "metadata": {},
   "outputs": [
    {
     "data": {
      "text/html": [
       "<div>\n",
       "<style scoped>\n",
       "    .dataframe tbody tr th:only-of-type {\n",
       "        vertical-align: middle;\n",
       "    }\n",
       "\n",
       "    .dataframe tbody tr th {\n",
       "        vertical-align: top;\n",
       "    }\n",
       "\n",
       "    .dataframe thead th {\n",
       "        text-align: right;\n",
       "    }\n",
       "</style>\n",
       "<table border=\"1\" class=\"dataframe\">\n",
       "  <thead>\n",
       "    <tr style=\"text-align: right;\">\n",
       "      <th></th>\n",
       "      <th>age</th>\n",
       "      <th>balance</th>\n",
       "      <th>campaign</th>\n",
       "      <th>pdays</th>\n",
       "      <th>previous</th>\n",
       "      <th>job_admin</th>\n",
       "      <th>job_blue-collar</th>\n",
       "      <th>job_entrepreneur</th>\n",
       "      <th>job_housemaid</th>\n",
       "      <th>job_management</th>\n",
       "      <th>...</th>\n",
       "      <th>housing_no</th>\n",
       "      <th>housing_yes</th>\n",
       "      <th>loan_no</th>\n",
       "      <th>loan_yes</th>\n",
       "      <th>contact_cellular</th>\n",
       "      <th>contact_telephone</th>\n",
       "      <th>poutcome_failure</th>\n",
       "      <th>poutcome_other</th>\n",
       "      <th>poutcome_success</th>\n",
       "      <th>y</th>\n",
       "    </tr>\n",
       "  </thead>\n",
       "  <tbody>\n",
       "    <tr>\n",
       "      <th>0</th>\n",
       "      <td>1.606965</td>\n",
       "      <td>0.256419</td>\n",
       "      <td>-0.569351</td>\n",
       "      <td>-0.411009</td>\n",
       "      <td>-0.25194</td>\n",
       "      <td>0.0</td>\n",
       "      <td>0.0</td>\n",
       "      <td>0.0</td>\n",
       "      <td>0.0</td>\n",
       "      <td>1.0</td>\n",
       "      <td>...</td>\n",
       "      <td>0.0</td>\n",
       "      <td>1.0</td>\n",
       "      <td>1.0</td>\n",
       "      <td>0.0</td>\n",
       "      <td>1.0</td>\n",
       "      <td>0.0</td>\n",
       "      <td>1.0</td>\n",
       "      <td>0.0</td>\n",
       "      <td>0.0</td>\n",
       "      <td>0</td>\n",
       "    </tr>\n",
       "    <tr>\n",
       "      <th>1</th>\n",
       "      <td>0.288529</td>\n",
       "      <td>-0.437895</td>\n",
       "      <td>-0.569351</td>\n",
       "      <td>-0.411009</td>\n",
       "      <td>-0.25194</td>\n",
       "      <td>0.0</td>\n",
       "      <td>0.0</td>\n",
       "      <td>0.0</td>\n",
       "      <td>0.0</td>\n",
       "      <td>0.0</td>\n",
       "      <td>...</td>\n",
       "      <td>0.0</td>\n",
       "      <td>1.0</td>\n",
       "      <td>1.0</td>\n",
       "      <td>0.0</td>\n",
       "      <td>1.0</td>\n",
       "      <td>0.0</td>\n",
       "      <td>1.0</td>\n",
       "      <td>0.0</td>\n",
       "      <td>0.0</td>\n",
       "      <td>0</td>\n",
       "    </tr>\n",
       "    <tr>\n",
       "      <th>2</th>\n",
       "      <td>-0.747384</td>\n",
       "      <td>-0.446762</td>\n",
       "      <td>-0.569351</td>\n",
       "      <td>-0.411009</td>\n",
       "      <td>-0.25194</td>\n",
       "      <td>0.0</td>\n",
       "      <td>0.0</td>\n",
       "      <td>1.0</td>\n",
       "      <td>0.0</td>\n",
       "      <td>0.0</td>\n",
       "      <td>...</td>\n",
       "      <td>0.0</td>\n",
       "      <td>1.0</td>\n",
       "      <td>0.0</td>\n",
       "      <td>1.0</td>\n",
       "      <td>1.0</td>\n",
       "      <td>0.0</td>\n",
       "      <td>1.0</td>\n",
       "      <td>0.0</td>\n",
       "      <td>0.0</td>\n",
       "      <td>0</td>\n",
       "    </tr>\n",
       "    <tr>\n",
       "      <th>3</th>\n",
       "      <td>0.571051</td>\n",
       "      <td>0.047205</td>\n",
       "      <td>-0.569351</td>\n",
       "      <td>-0.411009</td>\n",
       "      <td>-0.25194</td>\n",
       "      <td>0.0</td>\n",
       "      <td>1.0</td>\n",
       "      <td>0.0</td>\n",
       "      <td>0.0</td>\n",
       "      <td>0.0</td>\n",
       "      <td>...</td>\n",
       "      <td>0.0</td>\n",
       "      <td>1.0</td>\n",
       "      <td>1.0</td>\n",
       "      <td>0.0</td>\n",
       "      <td>1.0</td>\n",
       "      <td>0.0</td>\n",
       "      <td>1.0</td>\n",
       "      <td>0.0</td>\n",
       "      <td>0.0</td>\n",
       "      <td>0</td>\n",
       "    </tr>\n",
       "    <tr>\n",
       "      <th>4</th>\n",
       "      <td>-0.747384</td>\n",
       "      <td>-0.447091</td>\n",
       "      <td>-0.569351</td>\n",
       "      <td>-0.411009</td>\n",
       "      <td>-0.25194</td>\n",
       "      <td>0.0</td>\n",
       "      <td>1.0</td>\n",
       "      <td>0.0</td>\n",
       "      <td>0.0</td>\n",
       "      <td>0.0</td>\n",
       "      <td>...</td>\n",
       "      <td>1.0</td>\n",
       "      <td>0.0</td>\n",
       "      <td>1.0</td>\n",
       "      <td>0.0</td>\n",
       "      <td>1.0</td>\n",
       "      <td>0.0</td>\n",
       "      <td>1.0</td>\n",
       "      <td>0.0</td>\n",
       "      <td>0.0</td>\n",
       "      <td>0</td>\n",
       "    </tr>\n",
       "    <tr>\n",
       "      <th>...</th>\n",
       "      <td>...</td>\n",
       "      <td>...</td>\n",
       "      <td>...</td>\n",
       "      <td>...</td>\n",
       "      <td>...</td>\n",
       "      <td>...</td>\n",
       "      <td>...</td>\n",
       "      <td>...</td>\n",
       "      <td>...</td>\n",
       "      <td>...</td>\n",
       "      <td>...</td>\n",
       "      <td>...</td>\n",
       "      <td>...</td>\n",
       "      <td>...</td>\n",
       "      <td>...</td>\n",
       "      <td>...</td>\n",
       "      <td>...</td>\n",
       "      <td>...</td>\n",
       "      <td>...</td>\n",
       "      <td>...</td>\n",
       "      <td>...</td>\n",
       "    </tr>\n",
       "    <tr>\n",
       "      <th>79839</th>\n",
       "      <td>-0.653211</td>\n",
       "      <td>-0.361369</td>\n",
       "      <td>-0.569351</td>\n",
       "      <td>-0.411009</td>\n",
       "      <td>-0.25194</td>\n",
       "      <td>0.0</td>\n",
       "      <td>1.0</td>\n",
       "      <td>0.0</td>\n",
       "      <td>0.0</td>\n",
       "      <td>0.0</td>\n",
       "      <td>...</td>\n",
       "      <td>1.0</td>\n",
       "      <td>0.0</td>\n",
       "      <td>1.0</td>\n",
       "      <td>0.0</td>\n",
       "      <td>1.0</td>\n",
       "      <td>0.0</td>\n",
       "      <td>1.0</td>\n",
       "      <td>0.0</td>\n",
       "      <td>0.0</td>\n",
       "      <td>1</td>\n",
       "    </tr>\n",
       "    <tr>\n",
       "      <th>79840</th>\n",
       "      <td>-0.747384</td>\n",
       "      <td>-0.425743</td>\n",
       "      <td>-0.246560</td>\n",
       "      <td>-0.411009</td>\n",
       "      <td>-0.25194</td>\n",
       "      <td>0.0</td>\n",
       "      <td>0.0</td>\n",
       "      <td>0.0</td>\n",
       "      <td>0.0</td>\n",
       "      <td>0.0</td>\n",
       "      <td>...</td>\n",
       "      <td>1.0</td>\n",
       "      <td>0.0</td>\n",
       "      <td>1.0</td>\n",
       "      <td>0.0</td>\n",
       "      <td>1.0</td>\n",
       "      <td>0.0</td>\n",
       "      <td>1.0</td>\n",
       "      <td>0.0</td>\n",
       "      <td>0.0</td>\n",
       "      <td>1</td>\n",
       "    </tr>\n",
       "    <tr>\n",
       "      <th>79841</th>\n",
       "      <td>0.947747</td>\n",
       "      <td>0.240326</td>\n",
       "      <td>1.044601</td>\n",
       "      <td>-0.411009</td>\n",
       "      <td>-0.25194</td>\n",
       "      <td>0.0</td>\n",
       "      <td>0.0</td>\n",
       "      <td>0.0</td>\n",
       "      <td>0.0</td>\n",
       "      <td>0.0</td>\n",
       "      <td>...</td>\n",
       "      <td>1.0</td>\n",
       "      <td>0.0</td>\n",
       "      <td>1.0</td>\n",
       "      <td>0.0</td>\n",
       "      <td>1.0</td>\n",
       "      <td>0.0</td>\n",
       "      <td>1.0</td>\n",
       "      <td>0.0</td>\n",
       "      <td>0.0</td>\n",
       "      <td>1</td>\n",
       "    </tr>\n",
       "    <tr>\n",
       "      <th>79842</th>\n",
       "      <td>2.737053</td>\n",
       "      <td>1.699896</td>\n",
       "      <td>-0.569351</td>\n",
       "      <td>-0.411009</td>\n",
       "      <td>-0.25194</td>\n",
       "      <td>0.0</td>\n",
       "      <td>0.0</td>\n",
       "      <td>0.0</td>\n",
       "      <td>0.0</td>\n",
       "      <td>0.0</td>\n",
       "      <td>...</td>\n",
       "      <td>1.0</td>\n",
       "      <td>0.0</td>\n",
       "      <td>1.0</td>\n",
       "      <td>0.0</td>\n",
       "      <td>1.0</td>\n",
       "      <td>0.0</td>\n",
       "      <td>1.0</td>\n",
       "      <td>0.0</td>\n",
       "      <td>0.0</td>\n",
       "      <td>1</td>\n",
       "    </tr>\n",
       "    <tr>\n",
       "      <th>79843</th>\n",
       "      <td>-0.841558</td>\n",
       "      <td>-0.037203</td>\n",
       "      <td>-0.569351</td>\n",
       "      <td>-0.411009</td>\n",
       "      <td>-0.25194</td>\n",
       "      <td>0.0</td>\n",
       "      <td>0.0</td>\n",
       "      <td>0.0</td>\n",
       "      <td>0.0</td>\n",
       "      <td>0.0</td>\n",
       "      <td>...</td>\n",
       "      <td>0.0</td>\n",
       "      <td>1.0</td>\n",
       "      <td>1.0</td>\n",
       "      <td>0.0</td>\n",
       "      <td>1.0</td>\n",
       "      <td>0.0</td>\n",
       "      <td>1.0</td>\n",
       "      <td>0.0</td>\n",
       "      <td>0.0</td>\n",
       "      <td>1</td>\n",
       "    </tr>\n",
       "  </tbody>\n",
       "</table>\n",
       "<p>79844 rows × 34 columns</p>\n",
       "</div>"
      ],
      "text/plain": [
       "            age   balance  campaign     pdays  previous  job_admin  \\\n",
       "0      1.606965  0.256419 -0.569351 -0.411009  -0.25194        0.0   \n",
       "1      0.288529 -0.437895 -0.569351 -0.411009  -0.25194        0.0   \n",
       "2     -0.747384 -0.446762 -0.569351 -0.411009  -0.25194        0.0   \n",
       "3      0.571051  0.047205 -0.569351 -0.411009  -0.25194        0.0   \n",
       "4     -0.747384 -0.447091 -0.569351 -0.411009  -0.25194        0.0   \n",
       "...         ...       ...       ...       ...       ...        ...   \n",
       "79839 -0.653211 -0.361369 -0.569351 -0.411009  -0.25194        0.0   \n",
       "79840 -0.747384 -0.425743 -0.246560 -0.411009  -0.25194        0.0   \n",
       "79841  0.947747  0.240326  1.044601 -0.411009  -0.25194        0.0   \n",
       "79842  2.737053  1.699896 -0.569351 -0.411009  -0.25194        0.0   \n",
       "79843 -0.841558 -0.037203 -0.569351 -0.411009  -0.25194        0.0   \n",
       "\n",
       "       job_blue-collar  job_entrepreneur  job_housemaid  job_management  ...  \\\n",
       "0                  0.0               0.0            0.0             1.0  ...   \n",
       "1                  0.0               0.0            0.0             0.0  ...   \n",
       "2                  0.0               1.0            0.0             0.0  ...   \n",
       "3                  1.0               0.0            0.0             0.0  ...   \n",
       "4                  1.0               0.0            0.0             0.0  ...   \n",
       "...                ...               ...            ...             ...  ...   \n",
       "79839              1.0               0.0            0.0             0.0  ...   \n",
       "79840              0.0               0.0            0.0             0.0  ...   \n",
       "79841              0.0               0.0            0.0             0.0  ...   \n",
       "79842              0.0               0.0            0.0             0.0  ...   \n",
       "79843              0.0               0.0            0.0             0.0  ...   \n",
       "\n",
       "       housing_no  housing_yes  loan_no  loan_yes  contact_cellular  \\\n",
       "0             0.0          1.0      1.0       0.0               1.0   \n",
       "1             0.0          1.0      1.0       0.0               1.0   \n",
       "2             0.0          1.0      0.0       1.0               1.0   \n",
       "3             0.0          1.0      1.0       0.0               1.0   \n",
       "4             1.0          0.0      1.0       0.0               1.0   \n",
       "...           ...          ...      ...       ...               ...   \n",
       "79839         1.0          0.0      1.0       0.0               1.0   \n",
       "79840         1.0          0.0      1.0       0.0               1.0   \n",
       "79841         1.0          0.0      1.0       0.0               1.0   \n",
       "79842         1.0          0.0      1.0       0.0               1.0   \n",
       "79843         0.0          1.0      1.0       0.0               1.0   \n",
       "\n",
       "       contact_telephone  poutcome_failure  poutcome_other  poutcome_success  \\\n",
       "0                    0.0               1.0             0.0               0.0   \n",
       "1                    0.0               1.0             0.0               0.0   \n",
       "2                    0.0               1.0             0.0               0.0   \n",
       "3                    0.0               1.0             0.0               0.0   \n",
       "4                    0.0               1.0             0.0               0.0   \n",
       "...                  ...               ...             ...               ...   \n",
       "79839                0.0               1.0             0.0               0.0   \n",
       "79840                0.0               1.0             0.0               0.0   \n",
       "79841                0.0               1.0             0.0               0.0   \n",
       "79842                0.0               1.0             0.0               0.0   \n",
       "79843                0.0               1.0             0.0               0.0   \n",
       "\n",
       "       y  \n",
       "0      0  \n",
       "1      0  \n",
       "2      0  \n",
       "3      0  \n",
       "4      0  \n",
       "...   ..  \n",
       "79839  1  \n",
       "79840  1  \n",
       "79841  1  \n",
       "79842  1  \n",
       "79843  1  \n",
       "\n",
       "[79844 rows x 34 columns]"
      ]
     },
     "execution_count": 119,
     "metadata": {},
     "output_type": "execute_result"
    }
   ],
   "source": [
    "sampled_bank_data"
   ]
  },
  {
   "cell_type": "markdown",
   "id": "92e099d0-c142-4af5-a3dd-c1f6b488485f",
   "metadata": {},
   "source": [
    "#### 9) Feature Selection"
   ]
  },
  {
   "cell_type": "markdown",
   "id": "1aab7044-be31-49bd-ab76-e2525f958099",
   "metadata": {},
   "source": [
    "#####  9A) Feature Selection - Continuous Features\n",
    "\n",
    "I will use Kendall's correlation coefficient to remove the features that are highly correlated with one another."
   ]
  },
  {
   "cell_type": "code",
   "execution_count": 120,
   "id": "490d35c5-8578-41a1-8aaf-555ce6fd9017",
   "metadata": {},
   "outputs": [
    {
     "data": {
      "text/plain": [
       "<AxesSubplot:>"
      ]
     },
     "execution_count": 120,
     "metadata": {},
     "output_type": "execute_result"
    },
    {
     "data": {
      "image/png": "[encoded data removed]",
      "text/plain": [
       "<Figure size 432x288 with 2 Axes>"
      ]
     },
     "metadata": {
      "needs_background": "light"
     },
     "output_type": "display_data"
    }
   ],
   "source": [
    "continuous_features = sampled_bank_data[[\"age\",\"balance\",\"campaign\",\"pdays\",\"previous\"]]\n",
    "target = sampled_bank_data[\"y\"]\n",
    "sns.heatmap(pd.concat([continuous_features, target],axis=1).corr(method=\"kendall\"),annot=True)"
   ]
  },
  {
   "cell_type": "markdown",
   "id": "72d8a5a1-b81c-407d-9234-75f293e77a9e",
   "metadata": {},
   "source": [
    "##### <i>The continuous features \"pdays\" & \"\" have a very high correlation (0.85) among themselves. This introduces the problem of multicollinearity in the model. Therefore, I will remove the feature \"pdays\" & will keep only the feature \"previous\".</i>"
   ]
  },
  {
   "cell_type": "code",
   "execution_count": 121,
   "id": "77cf3d49-7914-4de8-8dbe-55a9ca90c117",
   "metadata": {},
   "outputs": [
    {
     "data": {
      "text/html": [
       "<div>\n",
       "<style scoped>\n",
       "    .dataframe tbody tr th:only-of-type {\n",
       "        vertical-align: middle;\n",
       "    }\n",
       "\n",
       "    .dataframe tbody tr th {\n",
       "        vertical-align: top;\n",
       "    }\n",
       "\n",
       "    .dataframe thead th {\n",
       "        text-align: right;\n",
       "    }\n",
       "</style>\n",
       "<table border=\"1\" class=\"dataframe\">\n",
       "  <thead>\n",
       "    <tr style=\"text-align: right;\">\n",
       "      <th></th>\n",
       "      <th>age</th>\n",
       "      <th>balance</th>\n",
       "      <th>campaign</th>\n",
       "      <th>previous</th>\n",
       "    </tr>\n",
       "  </thead>\n",
       "  <tbody>\n",
       "    <tr>\n",
       "      <th>0</th>\n",
       "      <td>1.606965</td>\n",
       "      <td>0.256419</td>\n",
       "      <td>-0.569351</td>\n",
       "      <td>-0.25194</td>\n",
       "    </tr>\n",
       "    <tr>\n",
       "      <th>1</th>\n",
       "      <td>0.288529</td>\n",
       "      <td>-0.437895</td>\n",
       "      <td>-0.569351</td>\n",
       "      <td>-0.25194</td>\n",
       "    </tr>\n",
       "    <tr>\n",
       "      <th>2</th>\n",
       "      <td>-0.747384</td>\n",
       "      <td>-0.446762</td>\n",
       "      <td>-0.569351</td>\n",
       "      <td>-0.25194</td>\n",
       "    </tr>\n",
       "    <tr>\n",
       "      <th>3</th>\n",
       "      <td>0.571051</td>\n",
       "      <td>0.047205</td>\n",
       "      <td>-0.569351</td>\n",
       "      <td>-0.25194</td>\n",
       "    </tr>\n",
       "    <tr>\n",
       "      <th>4</th>\n",
       "      <td>-0.747384</td>\n",
       "      <td>-0.447091</td>\n",
       "      <td>-0.569351</td>\n",
       "      <td>-0.25194</td>\n",
       "    </tr>\n",
       "  </tbody>\n",
       "</table>\n",
       "</div>"
      ],
      "text/plain": [
       "        age   balance  campaign  previous\n",
       "0  1.606965  0.256419 -0.569351  -0.25194\n",
       "1  0.288529 -0.437895 -0.569351  -0.25194\n",
       "2 -0.747384 -0.446762 -0.569351  -0.25194\n",
       "3  0.571051  0.047205 -0.569351  -0.25194\n",
       "4 -0.747384 -0.447091 -0.569351  -0.25194"
      ]
     },
     "execution_count": 121,
     "metadata": {},
     "output_type": "execute_result"
    }
   ],
   "source": [
    "selected_continuous_features = continuous_features.drop(columns=[\"pdays\"])\n",
    "selected_continuous_features.head()"
   ]
  },
  {
   "cell_type": "markdown",
   "id": "9cf03816-c6af-4745-a58a-90d4a388ab16",
   "metadata": {},
   "source": [
    "#####  9B) Feature Selection - Categorical Features\n",
    "\n",
    "I will use Chi-Squared test to remove the umimportant categorical features."
   ]
  },
  {
   "cell_type": "code",
   "execution_count": 122,
   "id": "8337c6af-25b3-46d7-8448-ef2e2b5c7ebb",
   "metadata": {},
   "outputs": [
    {
     "data": {
      "text/html": [
       "<div>\n",
       "<style scoped>\n",
       "    .dataframe tbody tr th:only-of-type {\n",
       "        vertical-align: middle;\n",
       "    }\n",
       "\n",
       "    .dataframe tbody tr th {\n",
       "        vertical-align: top;\n",
       "    }\n",
       "\n",
       "    .dataframe thead th {\n",
       "        text-align: right;\n",
       "    }\n",
       "</style>\n",
       "<table border=\"1\" class=\"dataframe\">\n",
       "  <thead>\n",
       "    <tr style=\"text-align: right;\">\n",
       "      <th></th>\n",
       "      <th>job_admin</th>\n",
       "      <th>job_blue-collar</th>\n",
       "      <th>job_entrepreneur</th>\n",
       "      <th>job_housemaid</th>\n",
       "      <th>job_management</th>\n",
       "      <th>job_retired</th>\n",
       "      <th>job_self-employed</th>\n",
       "      <th>job_services</th>\n",
       "      <th>job_student</th>\n",
       "      <th>job_technician</th>\n",
       "      <th>...</th>\n",
       "      <th>default_yes</th>\n",
       "      <th>housing_no</th>\n",
       "      <th>housing_yes</th>\n",
       "      <th>loan_no</th>\n",
       "      <th>loan_yes</th>\n",
       "      <th>contact_cellular</th>\n",
       "      <th>contact_telephone</th>\n",
       "      <th>poutcome_failure</th>\n",
       "      <th>poutcome_other</th>\n",
       "      <th>poutcome_success</th>\n",
       "    </tr>\n",
       "  </thead>\n",
       "  <tbody>\n",
       "    <tr>\n",
       "      <th>0</th>\n",
       "      <td>0.0</td>\n",
       "      <td>0.0</td>\n",
       "      <td>0.0</td>\n",
       "      <td>0.0</td>\n",
       "      <td>1.0</td>\n",
       "      <td>0.0</td>\n",
       "      <td>0.0</td>\n",
       "      <td>0.0</td>\n",
       "      <td>0.0</td>\n",
       "      <td>0.0</td>\n",
       "      <td>...</td>\n",
       "      <td>0.0</td>\n",
       "      <td>0.0</td>\n",
       "      <td>1.0</td>\n",
       "      <td>1.0</td>\n",
       "      <td>0.0</td>\n",
       "      <td>1.0</td>\n",
       "      <td>0.0</td>\n",
       "      <td>1.0</td>\n",
       "      <td>0.0</td>\n",
       "      <td>0.0</td>\n",
       "    </tr>\n",
       "    <tr>\n",
       "      <th>1</th>\n",
       "      <td>0.0</td>\n",
       "      <td>0.0</td>\n",
       "      <td>0.0</td>\n",
       "      <td>0.0</td>\n",
       "      <td>0.0</td>\n",
       "      <td>0.0</td>\n",
       "      <td>0.0</td>\n",
       "      <td>0.0</td>\n",
       "      <td>0.0</td>\n",
       "      <td>1.0</td>\n",
       "      <td>...</td>\n",
       "      <td>0.0</td>\n",
       "      <td>0.0</td>\n",
       "      <td>1.0</td>\n",
       "      <td>1.0</td>\n",
       "      <td>0.0</td>\n",
       "      <td>1.0</td>\n",
       "      <td>0.0</td>\n",
       "      <td>1.0</td>\n",
       "      <td>0.0</td>\n",
       "      <td>0.0</td>\n",
       "    </tr>\n",
       "    <tr>\n",
       "      <th>2</th>\n",
       "      <td>0.0</td>\n",
       "      <td>0.0</td>\n",
       "      <td>1.0</td>\n",
       "      <td>0.0</td>\n",
       "      <td>0.0</td>\n",
       "      <td>0.0</td>\n",
       "      <td>0.0</td>\n",
       "      <td>0.0</td>\n",
       "      <td>0.0</td>\n",
       "      <td>0.0</td>\n",
       "      <td>...</td>\n",
       "      <td>0.0</td>\n",
       "      <td>0.0</td>\n",
       "      <td>1.0</td>\n",
       "      <td>0.0</td>\n",
       "      <td>1.0</td>\n",
       "      <td>1.0</td>\n",
       "      <td>0.0</td>\n",
       "      <td>1.0</td>\n",
       "      <td>0.0</td>\n",
       "      <td>0.0</td>\n",
       "    </tr>\n",
       "    <tr>\n",
       "      <th>3</th>\n",
       "      <td>0.0</td>\n",
       "      <td>1.0</td>\n",
       "      <td>0.0</td>\n",
       "      <td>0.0</td>\n",
       "      <td>0.0</td>\n",
       "      <td>0.0</td>\n",
       "      <td>0.0</td>\n",
       "      <td>0.0</td>\n",
       "      <td>0.0</td>\n",
       "      <td>0.0</td>\n",
       "      <td>...</td>\n",
       "      <td>0.0</td>\n",
       "      <td>0.0</td>\n",
       "      <td>1.0</td>\n",
       "      <td>1.0</td>\n",
       "      <td>0.0</td>\n",
       "      <td>1.0</td>\n",
       "      <td>0.0</td>\n",
       "      <td>1.0</td>\n",
       "      <td>0.0</td>\n",
       "      <td>0.0</td>\n",
       "    </tr>\n",
       "    <tr>\n",
       "      <th>4</th>\n",
       "      <td>0.0</td>\n",
       "      <td>1.0</td>\n",
       "      <td>0.0</td>\n",
       "      <td>0.0</td>\n",
       "      <td>0.0</td>\n",
       "      <td>0.0</td>\n",
       "      <td>0.0</td>\n",
       "      <td>0.0</td>\n",
       "      <td>0.0</td>\n",
       "      <td>0.0</td>\n",
       "      <td>...</td>\n",
       "      <td>0.0</td>\n",
       "      <td>1.0</td>\n",
       "      <td>0.0</td>\n",
       "      <td>1.0</td>\n",
       "      <td>0.0</td>\n",
       "      <td>1.0</td>\n",
       "      <td>0.0</td>\n",
       "      <td>1.0</td>\n",
       "      <td>0.0</td>\n",
       "      <td>0.0</td>\n",
       "    </tr>\n",
       "  </tbody>\n",
       "</table>\n",
       "<p>5 rows × 28 columns</p>\n",
       "</div>"
      ],
      "text/plain": [
       "   job_admin  job_blue-collar  job_entrepreneur  job_housemaid  \\\n",
       "0        0.0              0.0               0.0            0.0   \n",
       "1        0.0              0.0               0.0            0.0   \n",
       "2        0.0              0.0               1.0            0.0   \n",
       "3        0.0              1.0               0.0            0.0   \n",
       "4        0.0              1.0               0.0            0.0   \n",
       "\n",
       "   job_management  job_retired  job_self-employed  job_services  job_student  \\\n",
       "0             1.0          0.0                0.0           0.0          0.0   \n",
       "1             0.0          0.0                0.0           0.0          0.0   \n",
       "2             0.0          0.0                0.0           0.0          0.0   \n",
       "3             0.0          0.0                0.0           0.0          0.0   \n",
       "4             0.0          0.0                0.0           0.0          0.0   \n",
       "\n",
       "   job_technician  ...  default_yes  housing_no  housing_yes  loan_no  \\\n",
       "0             0.0  ...          0.0         0.0          1.0      1.0   \n",
       "1             1.0  ...          0.0         0.0          1.0      1.0   \n",
       "2             0.0  ...          0.0         0.0          1.0      0.0   \n",
       "3             0.0  ...          0.0         0.0          1.0      1.0   \n",
       "4             0.0  ...          0.0         1.0          0.0      1.0   \n",
       "\n",
       "   loan_yes  contact_cellular  contact_telephone  poutcome_failure  \\\n",
       "0       0.0               1.0                0.0               1.0   \n",
       "1       0.0               1.0                0.0               1.0   \n",
       "2       1.0               1.0                0.0               1.0   \n",
       "3       0.0               1.0                0.0               1.0   \n",
       "4       0.0               1.0                0.0               1.0   \n",
       "\n",
       "   poutcome_other  poutcome_success  \n",
       "0             0.0               0.0  \n",
       "1             0.0               0.0  \n",
       "2             0.0               0.0  \n",
       "3             0.0               0.0  \n",
       "4             0.0               0.0  \n",
       "\n",
       "[5 rows x 28 columns]"
      ]
     },
     "metadata": {},
     "output_type": "display_data"
    },
    {
     "data": {
      "text/plain": [
       "0    0\n",
       "1    0\n",
       "2    0\n",
       "3    0\n",
       "4    0\n",
       "Name: y, dtype: int32"
      ]
     },
     "metadata": {},
     "output_type": "display_data"
    }
   ],
   "source": [
    "categorical_features = sampled_bank_data[ohe_encoded_categories_list]\n",
    "display(categorical_features.head())\n",
    "display(target.head())"
   ]
  },
  {
   "cell_type": "code",
   "execution_count": 123,
   "id": "c9e97306-6e9e-42b3-8af0-2940a16a7e3e",
   "metadata": {},
   "outputs": [],
   "source": [
    "f_p_values = chi2(categorical_features,target)"
   ]
  },
  {
   "cell_type": "code",
   "execution_count": 124,
   "id": "8580d955-f4e4-4572-9660-ff81e3137a77",
   "metadata": {},
   "outputs": [
    {
     "data": {
      "text/plain": [
       "poutcome_success       0.000000\n",
       "housing_yes            0.000000\n",
       "housing_no             0.000000\n",
       "loan_yes               0.000000\n",
       "job_blue-collar        0.000000\n",
       "poutcome_failure       0.000000\n",
       "job_retired            0.000000\n",
       "job_student            0.000000\n",
       "education_tertiary     0.000000\n",
       "marital_single         0.000000\n",
       "education_primary      0.000000\n",
       "marital_married        0.000000\n",
       "job_management         0.000000\n",
       "poutcome_other         0.000000\n",
       "loan_no                0.000000\n",
       "job_services           0.000000\n",
       "job_entrepreneur       0.000000\n",
       "default_yes            0.000000\n",
       "education_secondary    0.000000\n",
       "job_unemployed         0.000000\n",
       "job_housemaid          0.000000\n",
       "contact_telephone      0.000000\n",
       "job_technician         0.000404\n",
       "marital_divorced       0.059836\n",
       "job_admin              0.059995\n",
       "contact_cellular       0.128136\n",
       "default_no             0.210779\n",
       "job_self-employed      0.368983\n",
       "dtype: float64"
      ]
     },
     "execution_count": 124,
     "metadata": {},
     "output_type": "execute_result"
    }
   ],
   "source": [
    "p_values = pd.Series(f_p_values[1])\n",
    "p_values.index = categorical_features.columns\n",
    "round(p_values.sort_values(),6)"
   ]
  },
  {
   "cell_type": "code",
   "execution_count": 125,
   "id": "ff05bac7-8f94-491e-9e6b-a067f98fa0a3",
   "metadata": {},
   "outputs": [
    {
     "data": {
      "text/plain": [
       "poutcome_success       0.000000\n",
       "housing_yes            0.000000\n",
       "housing_no             0.000000\n",
       "loan_yes               0.000000\n",
       "job_blue-collar        0.000000\n",
       "poutcome_failure       0.000000\n",
       "job_retired            0.000000\n",
       "job_student            0.000000\n",
       "education_tertiary     0.000000\n",
       "marital_single         0.000000\n",
       "education_primary      0.000000\n",
       "marital_married        0.000000\n",
       "job_management         0.000000\n",
       "poutcome_other         0.000000\n",
       "loan_no                0.000000\n",
       "job_services           0.000000\n",
       "job_entrepreneur       0.000000\n",
       "default_yes            0.000000\n",
       "education_secondary    0.000000\n",
       "job_unemployed         0.000000\n",
       "job_housemaid          0.000000\n",
       "contact_telephone      0.000000\n",
       "job_technician         0.000404\n",
       "dtype: float64"
      ]
     },
     "execution_count": 125,
     "metadata": {},
     "output_type": "execute_result"
    }
   ],
   "source": [
    "significant_categorical_features = p_values[p_values < 0.05]\n",
    "round(significant_categorical_features.sort_values(),6)"
   ]
  },
  {
   "cell_type": "code",
   "execution_count": 126,
   "id": "cadc22fd-8187-4190-ba9a-d1d45dcb63e4",
   "metadata": {},
   "outputs": [],
   "source": [
    "selected_categorical_features = sampled_bank_data[significant_categorical_features.index]"
   ]
  },
  {
   "cell_type": "markdown",
   "id": "48c026f5-106f-4dfa-9ea9-cd3ab1a825a3",
   "metadata": {},
   "source": [
    "##### 9C) Combine final dataset"
   ]
  },
  {
   "cell_type": "code",
   "execution_count": 127,
   "id": "2592a424-ce20-43b1-9ef3-948f2b496132",
   "metadata": {},
   "outputs": [
    {
     "data": {
      "text/html": [
       "<div>\n",
       "<style scoped>\n",
       "    .dataframe tbody tr th:only-of-type {\n",
       "        vertical-align: middle;\n",
       "    }\n",
       "\n",
       "    .dataframe tbody tr th {\n",
       "        vertical-align: top;\n",
       "    }\n",
       "\n",
       "    .dataframe thead th {\n",
       "        text-align: right;\n",
       "    }\n",
       "</style>\n",
       "<table border=\"1\" class=\"dataframe\">\n",
       "  <thead>\n",
       "    <tr style=\"text-align: right;\">\n",
       "      <th></th>\n",
       "      <th>age</th>\n",
       "      <th>balance</th>\n",
       "      <th>campaign</th>\n",
       "      <th>previous</th>\n",
       "      <th>job_blue-collar</th>\n",
       "      <th>job_entrepreneur</th>\n",
       "      <th>job_housemaid</th>\n",
       "      <th>job_management</th>\n",
       "      <th>job_retired</th>\n",
       "      <th>job_services</th>\n",
       "      <th>...</th>\n",
       "      <th>default_yes</th>\n",
       "      <th>housing_no</th>\n",
       "      <th>housing_yes</th>\n",
       "      <th>loan_no</th>\n",
       "      <th>loan_yes</th>\n",
       "      <th>contact_telephone</th>\n",
       "      <th>poutcome_failure</th>\n",
       "      <th>poutcome_other</th>\n",
       "      <th>poutcome_success</th>\n",
       "      <th>y</th>\n",
       "    </tr>\n",
       "  </thead>\n",
       "  <tbody>\n",
       "    <tr>\n",
       "      <th>0</th>\n",
       "      <td>1.606965</td>\n",
       "      <td>0.256419</td>\n",
       "      <td>-0.569351</td>\n",
       "      <td>-0.25194</td>\n",
       "      <td>0.0</td>\n",
       "      <td>0.0</td>\n",
       "      <td>0.0</td>\n",
       "      <td>1.0</td>\n",
       "      <td>0.0</td>\n",
       "      <td>0.0</td>\n",
       "      <td>...</td>\n",
       "      <td>0.0</td>\n",
       "      <td>0.0</td>\n",
       "      <td>1.0</td>\n",
       "      <td>1.0</td>\n",
       "      <td>0.0</td>\n",
       "      <td>0.0</td>\n",
       "      <td>1.0</td>\n",
       "      <td>0.0</td>\n",
       "      <td>0.0</td>\n",
       "      <td>0</td>\n",
       "    </tr>\n",
       "    <tr>\n",
       "      <th>1</th>\n",
       "      <td>0.288529</td>\n",
       "      <td>-0.437895</td>\n",
       "      <td>-0.569351</td>\n",
       "      <td>-0.25194</td>\n",
       "      <td>0.0</td>\n",
       "      <td>0.0</td>\n",
       "      <td>0.0</td>\n",
       "      <td>0.0</td>\n",
       "      <td>0.0</td>\n",
       "      <td>0.0</td>\n",
       "      <td>...</td>\n",
       "      <td>0.0</td>\n",
       "      <td>0.0</td>\n",
       "      <td>1.0</td>\n",
       "      <td>1.0</td>\n",
       "      <td>0.0</td>\n",
       "      <td>0.0</td>\n",
       "      <td>1.0</td>\n",
       "      <td>0.0</td>\n",
       "      <td>0.0</td>\n",
       "      <td>0</td>\n",
       "    </tr>\n",
       "    <tr>\n",
       "      <th>2</th>\n",
       "      <td>-0.747384</td>\n",
       "      <td>-0.446762</td>\n",
       "      <td>-0.569351</td>\n",
       "      <td>-0.25194</td>\n",
       "      <td>0.0</td>\n",
       "      <td>1.0</td>\n",
       "      <td>0.0</td>\n",
       "      <td>0.0</td>\n",
       "      <td>0.0</td>\n",
       "      <td>0.0</td>\n",
       "      <td>...</td>\n",
       "      <td>0.0</td>\n",
       "      <td>0.0</td>\n",
       "      <td>1.0</td>\n",
       "      <td>0.0</td>\n",
       "      <td>1.0</td>\n",
       "      <td>0.0</td>\n",
       "      <td>1.0</td>\n",
       "      <td>0.0</td>\n",
       "      <td>0.0</td>\n",
       "      <td>0</td>\n",
       "    </tr>\n",
       "    <tr>\n",
       "      <th>3</th>\n",
       "      <td>0.571051</td>\n",
       "      <td>0.047205</td>\n",
       "      <td>-0.569351</td>\n",
       "      <td>-0.25194</td>\n",
       "      <td>1.0</td>\n",
       "      <td>0.0</td>\n",
       "      <td>0.0</td>\n",
       "      <td>0.0</td>\n",
       "      <td>0.0</td>\n",
       "      <td>0.0</td>\n",
       "      <td>...</td>\n",
       "      <td>0.0</td>\n",
       "      <td>0.0</td>\n",
       "      <td>1.0</td>\n",
       "      <td>1.0</td>\n",
       "      <td>0.0</td>\n",
       "      <td>0.0</td>\n",
       "      <td>1.0</td>\n",
       "      <td>0.0</td>\n",
       "      <td>0.0</td>\n",
       "      <td>0</td>\n",
       "    </tr>\n",
       "    <tr>\n",
       "      <th>4</th>\n",
       "      <td>-0.747384</td>\n",
       "      <td>-0.447091</td>\n",
       "      <td>-0.569351</td>\n",
       "      <td>-0.25194</td>\n",
       "      <td>1.0</td>\n",
       "      <td>0.0</td>\n",
       "      <td>0.0</td>\n",
       "      <td>0.0</td>\n",
       "      <td>0.0</td>\n",
       "      <td>0.0</td>\n",
       "      <td>...</td>\n",
       "      <td>0.0</td>\n",
       "      <td>1.0</td>\n",
       "      <td>0.0</td>\n",
       "      <td>1.0</td>\n",
       "      <td>0.0</td>\n",
       "      <td>0.0</td>\n",
       "      <td>1.0</td>\n",
       "      <td>0.0</td>\n",
       "      <td>0.0</td>\n",
       "      <td>0</td>\n",
       "    </tr>\n",
       "    <tr>\n",
       "      <th>...</th>\n",
       "      <td>...</td>\n",
       "      <td>...</td>\n",
       "      <td>...</td>\n",
       "      <td>...</td>\n",
       "      <td>...</td>\n",
       "      <td>...</td>\n",
       "      <td>...</td>\n",
       "      <td>...</td>\n",
       "      <td>...</td>\n",
       "      <td>...</td>\n",
       "      <td>...</td>\n",
       "      <td>...</td>\n",
       "      <td>...</td>\n",
       "      <td>...</td>\n",
       "      <td>...</td>\n",
       "      <td>...</td>\n",
       "      <td>...</td>\n",
       "      <td>...</td>\n",
       "      <td>...</td>\n",
       "      <td>...</td>\n",
       "      <td>...</td>\n",
       "    </tr>\n",
       "    <tr>\n",
       "      <th>79839</th>\n",
       "      <td>-0.653211</td>\n",
       "      <td>-0.361369</td>\n",
       "      <td>-0.569351</td>\n",
       "      <td>-0.25194</td>\n",
       "      <td>1.0</td>\n",
       "      <td>0.0</td>\n",
       "      <td>0.0</td>\n",
       "      <td>0.0</td>\n",
       "      <td>0.0</td>\n",
       "      <td>0.0</td>\n",
       "      <td>...</td>\n",
       "      <td>0.0</td>\n",
       "      <td>1.0</td>\n",
       "      <td>0.0</td>\n",
       "      <td>1.0</td>\n",
       "      <td>0.0</td>\n",
       "      <td>0.0</td>\n",
       "      <td>1.0</td>\n",
       "      <td>0.0</td>\n",
       "      <td>0.0</td>\n",
       "      <td>1</td>\n",
       "    </tr>\n",
       "    <tr>\n",
       "      <th>79840</th>\n",
       "      <td>-0.747384</td>\n",
       "      <td>-0.425743</td>\n",
       "      <td>-0.246560</td>\n",
       "      <td>-0.25194</td>\n",
       "      <td>0.0</td>\n",
       "      <td>0.0</td>\n",
       "      <td>0.0</td>\n",
       "      <td>0.0</td>\n",
       "      <td>0.0</td>\n",
       "      <td>0.0</td>\n",
       "      <td>...</td>\n",
       "      <td>0.0</td>\n",
       "      <td>1.0</td>\n",
       "      <td>0.0</td>\n",
       "      <td>1.0</td>\n",
       "      <td>0.0</td>\n",
       "      <td>0.0</td>\n",
       "      <td>1.0</td>\n",
       "      <td>0.0</td>\n",
       "      <td>0.0</td>\n",
       "      <td>1</td>\n",
       "    </tr>\n",
       "    <tr>\n",
       "      <th>79841</th>\n",
       "      <td>0.947747</td>\n",
       "      <td>0.240326</td>\n",
       "      <td>1.044601</td>\n",
       "      <td>-0.25194</td>\n",
       "      <td>0.0</td>\n",
       "      <td>0.0</td>\n",
       "      <td>0.0</td>\n",
       "      <td>0.0</td>\n",
       "      <td>0.0</td>\n",
       "      <td>0.0</td>\n",
       "      <td>...</td>\n",
       "      <td>0.0</td>\n",
       "      <td>1.0</td>\n",
       "      <td>0.0</td>\n",
       "      <td>1.0</td>\n",
       "      <td>0.0</td>\n",
       "      <td>0.0</td>\n",
       "      <td>1.0</td>\n",
       "      <td>0.0</td>\n",
       "      <td>0.0</td>\n",
       "      <td>1</td>\n",
       "    </tr>\n",
       "    <tr>\n",
       "      <th>79842</th>\n",
       "      <td>2.737053</td>\n",
       "      <td>1.699896</td>\n",
       "      <td>-0.569351</td>\n",
       "      <td>-0.25194</td>\n",
       "      <td>0.0</td>\n",
       "      <td>0.0</td>\n",
       "      <td>0.0</td>\n",
       "      <td>0.0</td>\n",
       "      <td>1.0</td>\n",
       "      <td>0.0</td>\n",
       "      <td>...</td>\n",
       "      <td>0.0</td>\n",
       "      <td>1.0</td>\n",
       "      <td>0.0</td>\n",
       "      <td>1.0</td>\n",
       "      <td>0.0</td>\n",
       "      <td>0.0</td>\n",
       "      <td>1.0</td>\n",
       "      <td>0.0</td>\n",
       "      <td>0.0</td>\n",
       "      <td>1</td>\n",
       "    </tr>\n",
       "    <tr>\n",
       "      <th>79843</th>\n",
       "      <td>-0.841558</td>\n",
       "      <td>-0.037203</td>\n",
       "      <td>-0.569351</td>\n",
       "      <td>-0.25194</td>\n",
       "      <td>0.0</td>\n",
       "      <td>0.0</td>\n",
       "      <td>0.0</td>\n",
       "      <td>0.0</td>\n",
       "      <td>0.0</td>\n",
       "      <td>0.0</td>\n",
       "      <td>...</td>\n",
       "      <td>0.0</td>\n",
       "      <td>0.0</td>\n",
       "      <td>1.0</td>\n",
       "      <td>1.0</td>\n",
       "      <td>0.0</td>\n",
       "      <td>0.0</td>\n",
       "      <td>1.0</td>\n",
       "      <td>0.0</td>\n",
       "      <td>0.0</td>\n",
       "      <td>1</td>\n",
       "    </tr>\n",
       "  </tbody>\n",
       "</table>\n",
       "<p>79844 rows × 28 columns</p>\n",
       "</div>"
      ],
      "text/plain": [
       "            age   balance  campaign  previous  job_blue-collar  \\\n",
       "0      1.606965  0.256419 -0.569351  -0.25194              0.0   \n",
       "1      0.288529 -0.437895 -0.569351  -0.25194              0.0   \n",
       "2     -0.747384 -0.446762 -0.569351  -0.25194              0.0   \n",
       "3      0.571051  0.047205 -0.569351  -0.25194              1.0   \n",
       "4     -0.747384 -0.447091 -0.569351  -0.25194              1.0   \n",
       "...         ...       ...       ...       ...              ...   \n",
       "79839 -0.653211 -0.361369 -0.569351  -0.25194              1.0   \n",
       "79840 -0.747384 -0.425743 -0.246560  -0.25194              0.0   \n",
       "79841  0.947747  0.240326  1.044601  -0.25194              0.0   \n",
       "79842  2.737053  1.699896 -0.569351  -0.25194              0.0   \n",
       "79843 -0.841558 -0.037203 -0.569351  -0.25194              0.0   \n",
       "\n",
       "       job_entrepreneur  job_housemaid  job_management  job_retired  \\\n",
       "0                   0.0            0.0             1.0          0.0   \n",
       "1                   0.0            0.0             0.0          0.0   \n",
       "2                   1.0            0.0             0.0          0.0   \n",
       "3                   0.0            0.0             0.0          0.0   \n",
       "4                   0.0            0.0             0.0          0.0   \n",
       "...                 ...            ...             ...          ...   \n",
       "79839               0.0            0.0             0.0          0.0   \n",
       "79840               0.0            0.0             0.0          0.0   \n",
       "79841               0.0            0.0             0.0          0.0   \n",
       "79842               0.0            0.0             0.0          1.0   \n",
       "79843               0.0            0.0             0.0          0.0   \n",
       "\n",
       "       job_services  ...  default_yes  housing_no  housing_yes  loan_no  \\\n",
       "0               0.0  ...          0.0         0.0          1.0      1.0   \n",
       "1               0.0  ...          0.0         0.0          1.0      1.0   \n",
       "2               0.0  ...          0.0         0.0          1.0      0.0   \n",
       "3               0.0  ...          0.0         0.0          1.0      1.0   \n",
       "4               0.0  ...          0.0         1.0          0.0      1.0   \n",
       "...             ...  ...          ...         ...          ...      ...   \n",
       "79839           0.0  ...          0.0         1.0          0.0      1.0   \n",
       "79840           0.0  ...          0.0         1.0          0.0      1.0   \n",
       "79841           0.0  ...          0.0         1.0          0.0      1.0   \n",
       "79842           0.0  ...          0.0         1.0          0.0      1.0   \n",
       "79843           0.0  ...          0.0         0.0          1.0      1.0   \n",
       "\n",
       "       loan_yes  contact_telephone  poutcome_failure  poutcome_other  \\\n",
       "0           0.0                0.0               1.0             0.0   \n",
       "1           0.0                0.0               1.0             0.0   \n",
       "2           1.0                0.0               1.0             0.0   \n",
       "3           0.0                0.0               1.0             0.0   \n",
       "4           0.0                0.0               1.0             0.0   \n",
       "...         ...                ...               ...             ...   \n",
       "79839       0.0                0.0               1.0             0.0   \n",
       "79840       0.0                0.0               1.0             0.0   \n",
       "79841       0.0                0.0               1.0             0.0   \n",
       "79842       0.0                0.0               1.0             0.0   \n",
       "79843       0.0                0.0               1.0             0.0   \n",
       "\n",
       "       poutcome_success  y  \n",
       "0                   0.0  0  \n",
       "1                   0.0  0  \n",
       "2                   0.0  0  \n",
       "3                   0.0  0  \n",
       "4                   0.0  0  \n",
       "...                 ... ..  \n",
       "79839               0.0  1  \n",
       "79840               0.0  1  \n",
       "79841               0.0  1  \n",
       "79842               0.0  1  \n",
       "79843               0.0  1  \n",
       "\n",
       "[79844 rows x 28 columns]"
      ]
     },
     "execution_count": 127,
     "metadata": {},
     "output_type": "execute_result"
    }
   ],
   "source": [
    "final_bank_data = pd.concat([selected_continuous_features,selected_categorical_features,target], axis=1)\n",
    "final_bank_data"
   ]
  },
  {
   "cell_type": "markdown",
   "id": "4cb87680-bfda-4dd3-934e-a0079566e1c8",
   "metadata": {},
   "source": [
    "#### 10) Split the dataset into Train and Test data"
   ]
  },
  {
   "cell_type": "code",
   "execution_count": 128,
   "id": "90d2d9e2-3fcc-4733-98d2-6949577e5007",
   "metadata": {},
   "outputs": [],
   "source": [
    "features = final_bank_data.drop(columns=[\"y\"])\n",
    "target = final_bank_data[\"y\"]"
   ]
  },
  {
   "cell_type": "code",
   "execution_count": 129,
   "id": "c9e1326d-1ff7-41dc-b60d-07a79f9ea58e",
   "metadata": {},
   "outputs": [],
   "source": [
    "features_train, features_test, target_train, target_test = train_test_split(features, target, test_size=0.3, random_state=42)"
   ]
  },
  {
   "cell_type": "code",
   "execution_count": 130,
   "id": "14a3306a-4a31-4e10-95cf-7fe80a38f9a0",
   "metadata": {},
   "outputs": [
    {
     "data": {
      "text/html": [
       "<div>\n",
       "<style scoped>\n",
       "    .dataframe tbody tr th:only-of-type {\n",
       "        vertical-align: middle;\n",
       "    }\n",
       "\n",
       "    .dataframe tbody tr th {\n",
       "        vertical-align: top;\n",
       "    }\n",
       "\n",
       "    .dataframe thead th {\n",
       "        text-align: right;\n",
       "    }\n",
       "</style>\n",
       "<table border=\"1\" class=\"dataframe\">\n",
       "  <thead>\n",
       "    <tr style=\"text-align: right;\">\n",
       "      <th></th>\n",
       "      <th>age</th>\n",
       "      <th>balance</th>\n",
       "      <th>campaign</th>\n",
       "      <th>previous</th>\n",
       "      <th>job_blue-collar</th>\n",
       "      <th>job_entrepreneur</th>\n",
       "      <th>job_housemaid</th>\n",
       "      <th>job_management</th>\n",
       "      <th>job_retired</th>\n",
       "      <th>job_services</th>\n",
       "      <th>...</th>\n",
       "      <th>education_tertiary</th>\n",
       "      <th>default_yes</th>\n",
       "      <th>housing_no</th>\n",
       "      <th>housing_yes</th>\n",
       "      <th>loan_no</th>\n",
       "      <th>loan_yes</th>\n",
       "      <th>contact_telephone</th>\n",
       "      <th>poutcome_failure</th>\n",
       "      <th>poutcome_other</th>\n",
       "      <th>poutcome_success</th>\n",
       "    </tr>\n",
       "  </thead>\n",
       "  <tbody>\n",
       "    <tr>\n",
       "      <th>30404</th>\n",
       "      <td>0.571051</td>\n",
       "      <td>-0.136390</td>\n",
       "      <td>-0.246560</td>\n",
       "      <td>-0.251940</td>\n",
       "      <td>0.0</td>\n",
       "      <td>0.0</td>\n",
       "      <td>0.0</td>\n",
       "      <td>0.0</td>\n",
       "      <td>0.0</td>\n",
       "      <td>0.0</td>\n",
       "      <td>...</td>\n",
       "      <td>0.0</td>\n",
       "      <td>0.0</td>\n",
       "      <td>1.0</td>\n",
       "      <td>0.0</td>\n",
       "      <td>1.0</td>\n",
       "      <td>0.0</td>\n",
       "      <td>0.0</td>\n",
       "      <td>1.0</td>\n",
       "      <td>0.0</td>\n",
       "      <td>0.0</td>\n",
       "    </tr>\n",
       "    <tr>\n",
       "      <th>41625</th>\n",
       "      <td>3.678792</td>\n",
       "      <td>0.522781</td>\n",
       "      <td>-0.569351</td>\n",
       "      <td>-0.251940</td>\n",
       "      <td>0.0</td>\n",
       "      <td>0.0</td>\n",
       "      <td>0.0</td>\n",
       "      <td>0.0</td>\n",
       "      <td>1.0</td>\n",
       "      <td>0.0</td>\n",
       "      <td>...</td>\n",
       "      <td>0.0</td>\n",
       "      <td>0.0</td>\n",
       "      <td>1.0</td>\n",
       "      <td>0.0</td>\n",
       "      <td>1.0</td>\n",
       "      <td>0.0</td>\n",
       "      <td>0.0</td>\n",
       "      <td>1.0</td>\n",
       "      <td>0.0</td>\n",
       "      <td>0.0</td>\n",
       "    </tr>\n",
       "    <tr>\n",
       "      <th>16230</th>\n",
       "      <td>-1.500776</td>\n",
       "      <td>0.284336</td>\n",
       "      <td>-0.569351</td>\n",
       "      <td>-0.251940</td>\n",
       "      <td>0.0</td>\n",
       "      <td>0.0</td>\n",
       "      <td>0.0</td>\n",
       "      <td>1.0</td>\n",
       "      <td>0.0</td>\n",
       "      <td>0.0</td>\n",
       "      <td>...</td>\n",
       "      <td>0.0</td>\n",
       "      <td>0.0</td>\n",
       "      <td>0.0</td>\n",
       "      <td>1.0</td>\n",
       "      <td>1.0</td>\n",
       "      <td>0.0</td>\n",
       "      <td>0.0</td>\n",
       "      <td>1.0</td>\n",
       "      <td>0.0</td>\n",
       "      <td>0.0</td>\n",
       "    </tr>\n",
       "    <tr>\n",
       "      <th>63269</th>\n",
       "      <td>-0.747384</td>\n",
       "      <td>0.196972</td>\n",
       "      <td>-0.569351</td>\n",
       "      <td>0.182198</td>\n",
       "      <td>0.0</td>\n",
       "      <td>0.0</td>\n",
       "      <td>0.0</td>\n",
       "      <td>1.0</td>\n",
       "      <td>0.0</td>\n",
       "      <td>0.0</td>\n",
       "      <td>...</td>\n",
       "      <td>1.0</td>\n",
       "      <td>0.0</td>\n",
       "      <td>1.0</td>\n",
       "      <td>0.0</td>\n",
       "      <td>1.0</td>\n",
       "      <td>0.0</td>\n",
       "      <td>0.0</td>\n",
       "      <td>1.0</td>\n",
       "      <td>0.0</td>\n",
       "      <td>0.0</td>\n",
       "    </tr>\n",
       "    <tr>\n",
       "      <th>74330</th>\n",
       "      <td>-0.182341</td>\n",
       "      <td>-0.285172</td>\n",
       "      <td>-0.246560</td>\n",
       "      <td>1.050473</td>\n",
       "      <td>0.0</td>\n",
       "      <td>0.0</td>\n",
       "      <td>0.0</td>\n",
       "      <td>1.0</td>\n",
       "      <td>0.0</td>\n",
       "      <td>0.0</td>\n",
       "      <td>...</td>\n",
       "      <td>1.0</td>\n",
       "      <td>0.0</td>\n",
       "      <td>1.0</td>\n",
       "      <td>0.0</td>\n",
       "      <td>1.0</td>\n",
       "      <td>0.0</td>\n",
       "      <td>0.0</td>\n",
       "      <td>1.0</td>\n",
       "      <td>0.0</td>\n",
       "      <td>0.0</td>\n",
       "    </tr>\n",
       "  </tbody>\n",
       "</table>\n",
       "<p>5 rows × 27 columns</p>\n",
       "</div>"
      ],
      "text/plain": [
       "            age   balance  campaign  previous  job_blue-collar  \\\n",
       "30404  0.571051 -0.136390 -0.246560 -0.251940              0.0   \n",
       "41625  3.678792  0.522781 -0.569351 -0.251940              0.0   \n",
       "16230 -1.500776  0.284336 -0.569351 -0.251940              0.0   \n",
       "63269 -0.747384  0.196972 -0.569351  0.182198              0.0   \n",
       "74330 -0.182341 -0.285172 -0.246560  1.050473              0.0   \n",
       "\n",
       "       job_entrepreneur  job_housemaid  job_management  job_retired  \\\n",
       "30404               0.0            0.0             0.0          0.0   \n",
       "41625               0.0            0.0             0.0          1.0   \n",
       "16230               0.0            0.0             1.0          0.0   \n",
       "63269               0.0            0.0             1.0          0.0   \n",
       "74330               0.0            0.0             1.0          0.0   \n",
       "\n",
       "       job_services  ...  education_tertiary  default_yes  housing_no  \\\n",
       "30404           0.0  ...                 0.0          0.0         1.0   \n",
       "41625           0.0  ...                 0.0          0.0         1.0   \n",
       "16230           0.0  ...                 0.0          0.0         0.0   \n",
       "63269           0.0  ...                 1.0          0.0         1.0   \n",
       "74330           0.0  ...                 1.0          0.0         1.0   \n",
       "\n",
       "       housing_yes  loan_no  loan_yes  contact_telephone  poutcome_failure  \\\n",
       "30404          0.0      1.0       0.0                0.0               1.0   \n",
       "41625          0.0      1.0       0.0                0.0               1.0   \n",
       "16230          1.0      1.0       0.0                0.0               1.0   \n",
       "63269          0.0      1.0       0.0                0.0               1.0   \n",
       "74330          0.0      1.0       0.0                0.0               1.0   \n",
       "\n",
       "       poutcome_other  poutcome_success  \n",
       "30404             0.0               0.0  \n",
       "41625             0.0               0.0  \n",
       "16230             0.0               0.0  \n",
       "63269             0.0               0.0  \n",
       "74330             0.0               0.0  \n",
       "\n",
       "[5 rows x 27 columns]"
      ]
     },
     "metadata": {},
     "output_type": "display_data"
    },
    {
     "data": {
      "text/plain": [
       "30404    0\n",
       "41625    0\n",
       "16230    1\n",
       "63269    1\n",
       "74330    1\n",
       "Name: y, dtype: int32"
      ]
     },
     "metadata": {},
     "output_type": "display_data"
    }
   ],
   "source": [
    "display(features_train.head())\n",
    "display(target_train.head())"
   ]
  },
  {
   "cell_type": "markdown",
   "id": "4b152ad7-e870-462f-8559-93b5a48a4b3b",
   "metadata": {},
   "source": [
    "#### 11) Train Naive Bayes Model\n",
    "\n",
    "Th Naive Bayes algorithm is a probabilitis classifier that can be used to find the probability that a particular record belongs to a specific class. Naive Bayes uses the Bayes Theorem for calculating the probabilities, however with a caveat that it assumes, naively, that all the independent variables are completely independent of another. Which, for the given Bank Marketing Dataset, is untrue."
   ]
  },
  {
   "cell_type": "code",
   "execution_count": 131,
   "id": "a496b3f1-2f45-4a60-a003-5a175365eca5",
   "metadata": {},
   "outputs": [
    {
     "name": "stdout",
     "output_type": "stream",
     "text": [
      "              precision    recall  f1-score   support\n",
      "\n",
      "           0       0.60      0.82      0.69     11973\n",
      "           1       0.72      0.46      0.56     11981\n",
      "\n",
      "    accuracy                           0.64     23954\n",
      "   macro avg       0.66      0.64      0.63     23954\n",
      "weighted avg       0.66      0.64      0.63     23954\n",
      "\n"
     ]
    }
   ],
   "source": [
    "nb_model = GaussianNB()\n",
    "nb_model.fit(features_train, target_train)\n",
    "target_predict_nb = nb_model.predict(features_test)\n",
    "prob_nb = nb_model.predict_proba(features_test)\n",
    "\n",
    "# Print the Classification Report\n",
    "print(classification_report(target_test, target_predict_nb))"
   ]
  },
  {
   "cell_type": "markdown",
   "id": "a9c2919f-0756-4b68-9bd4-2e21435f3d8a",
   "metadata": {},
   "source": [
    "#### 10) Train Logistic Regression Model"
   ]
  },
  {
   "cell_type": "code",
   "execution_count": 132,
   "id": "9f65703d-49d9-4ef6-a05b-e21adcebe81c",
   "metadata": {},
   "outputs": [
    {
     "name": "stdout",
     "output_type": "stream",
     "text": [
      "              precision    recall  f1-score   support\n",
      "\n",
      "           0       0.64      0.73      0.68     11973\n",
      "           1       0.69      0.60      0.64     11981\n",
      "\n",
      "    accuracy                           0.66     23954\n",
      "   macro avg       0.67      0.66      0.66     23954\n",
      "weighted avg       0.67      0.66      0.66     23954\n",
      "\n"
     ]
    }
   ],
   "source": [
    "logit_model = LogisticRegression()\n",
    "logit_model.fit(features_train, target_train)\n",
    "target_predict_logit = logit_model.predict(features_test)\n",
    "prob_logit = logit_model.predict_proba(features_test)\n",
    "\n",
    "# Print the Classification Report\n",
    "print(classification_report(target_test, target_predict_logit))"
   ]
  },
  {
   "cell_type": "markdown",
   "id": "724765f8-0dac-4187-b757-75d45a03b0cc",
   "metadata": {},
   "source": [
    "#### 12) Train K-Nearest Neighbors Model"
   ]
  },
  {
   "cell_type": "code",
   "execution_count": 133,
   "id": "f06a7de0-4cd1-4ba4-9668-f6c95014faa3",
   "metadata": {},
   "outputs": [
    {
     "name": "stdout",
     "output_type": "stream",
     "text": [
      "              precision    recall  f1-score   support\n",
      "\n",
      "           0       0.94      0.78      0.85     11973\n",
      "           1       0.81      0.95      0.87     11981\n",
      "\n",
      "    accuracy                           0.86     23954\n",
      "   macro avg       0.87      0.86      0.86     23954\n",
      "weighted avg       0.87      0.86      0.86     23954\n",
      "\n"
     ]
    }
   ],
   "source": [
    "knn_model = KNeighborsClassifier(n_neighbors=4)\n",
    "knn_model.fit(features_train, target_train)\n",
    "target_predict_knn = knn_model.predict(features_test)\n",
    "prob_knn = knn_model.predict_proba(features_test)\n",
    "\n",
    "# Print the Classification Report\n",
    "print(classification_report(target_test, target_predict_knn))"
   ]
  },
  {
   "cell_type": "markdown",
   "id": "b70fd44a-17e1-46c4-9abb-25d984e42002",
   "metadata": {},
   "source": [
    "#### 13) Train Random Forests"
   ]
  },
  {
   "cell_type": "code",
   "execution_count": 134,
   "id": "9815297f-ca3a-40f3-877e-a0161f5b4d65",
   "metadata": {},
   "outputs": [
    {
     "name": "stdout",
     "output_type": "stream",
     "text": [
      "              precision    recall  f1-score   support\n",
      "\n",
      "           0       0.99      0.92      0.95     11973\n",
      "           1       0.92      0.99      0.96     11981\n",
      "\n",
      "    accuracy                           0.96     23954\n",
      "   macro avg       0.96      0.96      0.96     23954\n",
      "weighted avg       0.96      0.96      0.96     23954\n",
      "\n"
     ]
    }
   ],
   "source": [
    "rf_model = RandomForestClassifier(n_estimators=10, random_state=30)\n",
    "rf_model.fit(features_train, target_train)\n",
    "target_predict_rf = rf_model.predict(features_test)\n",
    "prob_rf = rf_model.predict_proba(features_test)\n",
    "\n",
    "# Print the Classification Report\n",
    "print(classification_report(target_test, target_predict_rf))"
   ]
  },
  {
   "cell_type": "markdown",
   "id": "44a0d2b6-f2c9-450a-8185-ad99170e10a0",
   "metadata": {},
   "source": [
    "#### 14) Train XGBoost"
   ]
  },
  {
   "cell_type": "code",
   "execution_count": 135,
   "id": "dc621fe2-6699-43a1-b4bc-2feed0837a87",
   "metadata": {},
   "outputs": [
    {
     "name": "stdout",
     "output_type": "stream",
     "text": [
      "              precision    recall  f1-score   support\n",
      "\n",
      "           0       0.70      0.80      0.75     11973\n",
      "           1       0.77      0.65      0.70     11981\n",
      "\n",
      "    accuracy                           0.73     23954\n",
      "   macro avg       0.73      0.73      0.73     23954\n",
      "weighted avg       0.73      0.73      0.73     23954\n",
      "\n"
     ]
    }
   ],
   "source": [
    "xgb_model = xgb.XGBClassifier(learning_rate=0.1,\n",
    "                             max_depth=5,\n",
    "                             n_estimators=300,\n",
    "                             subsample=0.5,\n",
    "                             colsample_bytree=0.5,\n",
    "                             verbosity=1)\n",
    "xgb_model.fit(features_train, target_train)\n",
    "target_predict_xgb = xgb_model.predict(features_test)\n",
    "prob_xgb = xgb_model.predict_proba(features_test)\n",
    "\n",
    "# Print the Classification Report\n",
    "print(classification_report(target_test, target_predict_xgb))"
   ]
  },
  {
   "cell_type": "markdown",
   "id": "337df567-4518-4dde-9137-ec8bd641f97d",
   "metadata": {},
   "source": [
    "#### 15) Plot the ROC Curve"
   ]
  },
  {
   "cell_type": "code",
   "execution_count": 136,
   "id": "1e365d31-807e-4a89-9b09-f4090eb9f3f2",
   "metadata": {},
   "outputs": [],
   "source": [
    "# Naive Bayes\n",
    "nb_fpr, nb_tpr, threshold = roc_curve(target_test, target_predict_nb)\n",
    "nb_auc = auc(nb_fpr, nb_tpr)\n",
    "\n",
    "# Logistic Regression\n",
    "logit_fpr, logit_tpr, threshold = roc_curve(target_test, target_predict_logit)\n",
    "logit_auc = auc(logit_fpr, logit_tpr)\n",
    "\n",
    "# K-Nearest Neighbors\n",
    "knn_fpr, knn_tpr, threshold = roc_curve(target_test, target_predict_knn)\n",
    "knn_auc = auc(knn_fpr, knn_tpr)\n",
    "\n",
    "# Random Forests\n",
    "rf_fpr, rf_tpr, threshold = roc_curve(target_test, target_predict_rf)\n",
    "rf_auc = auc(rf_fpr, rf_tpr)\n",
    "\n",
    "# XGBoost\n",
    "xgb_fpr, xgb_tpr, threshold = roc_curve(target_test, target_predict_xgb)\n",
    "xgb_auc = auc(xgb_fpr, xgb_tpr)"
   ]
  },
  {
   "cell_type": "code",
   "execution_count": 137,
   "id": "9330a260-d3c1-4de8-81cf-fb6895b0ad6d",
   "metadata": {},
   "outputs": [
    {
     "data": {
      "text/plain": [
       "<matplotlib.legend.Legend at 0x200bd4e4b80>"
      ]
     },
     "execution_count": 137,
     "metadata": {},
     "output_type": "execute_result"
    },
    {
     "data": {
      "image/png": "[encoded data removed]",
      "text/plain": [
       "<Figure size 864x864 with 1 Axes>"
      ]
     },
     "metadata": {
      "needs_background": "light"
     },
     "output_type": "display_data"
    }
   ],
   "source": [
    "plt.figure(figsize=(12,12))\n",
    "\n",
    "plt.plot(nb_fpr, nb_tpr, label=\"Naive Bayes (auc = %0.3f)\" % nb_auc, color=\"darkorange\", linewidth=3.5)\n",
    "plt.plot(logit_fpr, logit_tpr, label=\"Logistic Regression (auc = %0.3f)\" % logit_auc, color=\"chocolate\", linewidth=3.5)\n",
    "plt.plot(knn_fpr, knn_tpr, label=\"K-Nearest Neighbors (auc = %0.3f)\" % knn_auc, color=\"darkgoldenrod\", linewidth=3.5)\n",
    "plt.plot(rf_fpr, rf_tpr, label=\"Random Forests (auc = %0.3f)\" % rf_auc, color=\"coral\", linewidth=3.5)\n",
    "plt.plot(xgb_fpr, xgb_tpr, label=\"XGBoost (auc = %0.3f)\" % xgb_auc, color=\"brown\", linewidth=3.5)\n",
    "\n",
    "plt.xlabel(\"False Positive Rate\", fontsize=15)\n",
    "plt.ylabel(\"True Positive Rate\", fontsize=15)\n",
    "plt.title(\"ROC Curves\", fontsize=15)\n",
    "plt.legend()"
   ]
  }
 ],
 "metadata": {
  "instance_type": "ml.t3.medium",
  "kernelspec": {
   "display_name": "Python (dev)",
   "language": "python",
   "name": "dev"
  },
  "language_info": {
   "codemirror_mode": {
    "name": "ipython",
    "version": 3
   },
   "file_extension": ".py",
   "mimetype": "text/x-python",
   "name": "python",
   "nbconvert_exporter": "python",
   "pygments_lexer": "ipython3",
   "version": "3.9.12"
  }
 },
 "nbformat": 4,
 "nbformat_minor": 5
}
